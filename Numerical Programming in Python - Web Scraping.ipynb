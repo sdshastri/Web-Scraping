{
  "cells": [
    {
      "cell_type": "markdown",
      "metadata": {
        "id": "view-in-github",
        "colab_type": "text"
      },
      "source": [
        "<a href=\"https://colab.research.google.com/github/sdshastri/Web-Scraping/blob/main/Numerical%20Programming%20in%20Python%20-%20Web%20Scraping.ipynb\" target=\"_parent\"><img src=\"https://colab.research.google.com/assets/colab-badge.svg\" alt=\"Open In Colab\"/></a>"
      ]
    },
    {
      "cell_type": "markdown",
      "metadata": {
        "id": "bKFlk3slQ1ol"
      },
      "source": [
        "# **Web Scraping & Data Handling Challenge**"
      ]
    },
    {
      "cell_type": "markdown",
      "metadata": {
        "id": "YU_opgaCYpcO"
      },
      "source": [
        "\n",
        "\n",
        "### **Website:**\n",
        "JustWatch -  https://www.justwatch.com/in/movies?release_year_from=2000\n",
        "\n",
        "\n",
        "### **Description:**\n",
        "\n",
        "JustWatch is a popular platform that allows users to search for movies and TV shows across multiple streaming services like Netflix, Amazon Prime, Hulu, etc. For this assignment, you will be required to scrape movie and TV show data from JustWatch using Selenium, Python, and BeautifulSoup. Extract data from HTML, not by directly calling their APIs. Then, perform data filtering and analysis using Pandas, and finally, save the results to a CSV file.\n",
        "\n",
        "### **Tasks:**\n",
        "\n",
        "**1. Web Scraping:**\n",
        "\n",
        "Use BeautifulSoup to scrape the following data from JustWatch:\n",
        "\n",
        "   **a. Movie Information:**\n",
        "\n",
        "      - Movie title\n",
        "      - Release year\n",
        "      - Genre\n",
        "      - IMDb rating\n",
        "      - Streaming services available (Netflix, Amazon Prime, Hulu, etc.)\n",
        "      - URL to the movie page on JustWatch\n",
        "\n",
        "   **b. TV Show Information:**\n",
        "\n",
        "      - TV show title\n",
        "      - Release year\n",
        "      - Genre\n",
        "      - IMDb rating\n",
        "      - Streaming services available (Netflix, Amazon Prime, Hulu, etc.)\n",
        "      - URL to the TV show page on JustWatch\n",
        "\n",
        "  **c. Scope:**\n",
        "\n",
        "```\n",
        " ` - Scrape data for at least 50 movies and 50 TV shows.\n",
        "   - You can choose the entry point (e.g., starting with popular movies,\n",
        "     or a specific genre, etc.) to ensure a diverse dataset.`\n",
        "\n",
        "```\n",
        "\n",
        "\n",
        "**2. Data Filtering & Analysis:**\n",
        "\n",
        "   After scraping the data, use Pandas to perform the following tasks:\n",
        "\n",
        "   **a. Filter movies and TV shows based on specific criteria:**\n",
        "\n",
        "   ```\n",
        "      - Only include movies and TV shows released in the last 2 years (from the current date).\n",
        "      - Only include movies and TV shows with an IMDb rating of 7 or higher.\n",
        "```\n",
        "\n",
        "   **b. Data Analysis:**\n",
        "\n",
        "   ```\n",
        "      - Calculate the average IMDb rating for the scraped movies and TV shows.\n",
        "      - Identify the top 5 genres that have the highest number of available movies and TV shows.\n",
        "      - Determine the streaming service with the most significant number of offerings.\n",
        "      \n",
        "   ```   \n",
        "\n",
        "**3. Data Export:**\n",
        "\n",
        "```\n",
        "   - Dump the filtered and analysed data into a CSV file for further processing and reporting.\n",
        "\n",
        "   - Keep the CSV file in your Drive Folder and Share the Drive link on the colab while keeping view access with anyone.\n",
        "```\n",
        "\n",
        "**Submission:**\n",
        "```\n",
        "- Submit a link to your Colab made for the assignment.\n",
        "\n",
        "- The Colab should contain your Python script (.py format only) with clear\n",
        "  comments explaining the scraping, filtering, and analysis process.\n",
        "\n",
        "- Your Code shouldn't have any errors and should be executable at a one go.\n",
        "\n",
        "- Before Conclusion, Keep your Dataset Drive Link in the Notebook.\n",
        "```\n",
        "\n",
        "\n",
        "\n",
        "**Note:**\n",
        "\n",
        "1. Properly handle errors and exceptions during web scraping to ensure a robust script.\n",
        "\n",
        "2. Make sure your code is well-structured, easy to understand, and follows Python best practices.\n",
        "\n",
        "3. The assignment will be evaluated based on the correctness of the scraped data, accuracy of data filtering and analysis, and the overall quality of the Python code.\n",
        "\n",
        "\n",
        "\n",
        "\n",
        "\n",
        "\n"
      ]
    },
    {
      "cell_type": "markdown",
      "metadata": {
        "id": "k8ptoMlNQ5zB"
      },
      "source": [
        "# **Start The Project**"
      ]
    },
    {
      "cell_type": "markdown",
      "metadata": {
        "id": "-xHLaFLPn4yC"
      },
      "source": [
        "## **Task 1:- Web Scrapping**"
      ]
    },
    {
      "cell_type": "code",
      "execution_count": 4,
      "metadata": {
        "colab": {
          "base_uri": "https://localhost:8080/"
        },
        "id": "axiEsy9ZL3qd",
        "outputId": "ad7bf438-ff1f-41ef-c160-a888cb615ef8"
      },
      "outputs": [
        {
          "output_type": "stream",
          "name": "stdout",
          "text": [
            "Collecting bs4\n",
            "  Downloading bs4-0.0.2-py2.py3-none-any.whl (1.2 kB)\n",
            "Requirement already satisfied: beautifulsoup4 in /usr/local/lib/python3.10/dist-packages (from bs4) (4.12.3)\n",
            "Requirement already satisfied: soupsieve>1.2 in /usr/local/lib/python3.10/dist-packages (from beautifulsoup4->bs4) (2.5)\n",
            "Installing collected packages: bs4\n",
            "Successfully installed bs4-0.0.2\n",
            "Requirement already satisfied: requests in /usr/local/lib/python3.10/dist-packages (2.31.0)\n",
            "Requirement already satisfied: charset-normalizer<4,>=2 in /usr/local/lib/python3.10/dist-packages (from requests) (3.3.2)\n",
            "Requirement already satisfied: idna<4,>=2.5 in /usr/local/lib/python3.10/dist-packages (from requests) (3.7)\n",
            "Requirement already satisfied: urllib3<3,>=1.21.1 in /usr/local/lib/python3.10/dist-packages (from requests) (2.0.7)\n",
            "Requirement already satisfied: certifi>=2017.4.17 in /usr/local/lib/python3.10/dist-packages (from requests) (2024.6.2)\n"
          ]
        }
      ],
      "source": [
        "#Installing all necessary labraries\n",
        "!pip install bs4\n",
        "!pip install requests"
      ]
    },
    {
      "cell_type": "code",
      "execution_count": 5,
      "metadata": {
        "id": "omJlLZASQBmU"
      },
      "outputs": [],
      "source": [
        "#import all necessary libraries\n",
        "import requests\n",
        "from bs4 import BeautifulSoup\n",
        "import re\n",
        "import pandas as pd\n",
        "import numpy as np\n"
      ]
    },
    {
      "cell_type": "markdown",
      "metadata": {
        "id": "NCWbwB1Og3bD"
      },
      "source": [
        "## **Scrapping Movies Data**"
      ]
    },
    {
      "cell_type": "code",
      "execution_count": 6,
      "metadata": {
        "id": "1pO4QKjXjgNc",
        "colab": {
          "base_uri": "https://localhost:8080/"
        },
        "outputId": "6b46ef8b-5b7f-4664-a47f-f4ab6ae67516"
      },
      "outputs": [
        {
          "output_type": "stream",
          "name": "stdout",
          "text": [
            "\u001b[33m\r0% [Working]\u001b[0m\r            \rGet:1 https://developer.download.nvidia.com/compute/cuda/repos/ubuntu2204/x86_64  InRelease [1,581 B]\n",
            "\u001b[33m\r0% [Connecting to archive.ubuntu.com (185.125.190.82)] [Waiting for headers] [W\u001b[0m\u001b[33m\r0% [Connecting to archive.ubuntu.com (185.125.190.82)] [Waiting for headers] [W\u001b[0m\r                                                                               \rGet:2 http://security.ubuntu.com/ubuntu jammy-security InRelease [129 kB]\n",
            "Get:3 https://cloud.r-project.org/bin/linux/ubuntu jammy-cran40/ InRelease [3,626 B]\n",
            "Hit:4 http://archive.ubuntu.com/ubuntu jammy InRelease\n",
            "Get:5 https://developer.download.nvidia.com/compute/cuda/repos/ubuntu2204/x86_64  Packages [858 kB]\n",
            "Get:6 http://archive.ubuntu.com/ubuntu jammy-updates InRelease [128 kB]\n",
            "Hit:7 https://ppa.launchpadcontent.net/c2d4u.team/c2d4u4.0+/ubuntu jammy InRelease\n",
            "Get:8 https://cloud.r-project.org/bin/linux/ubuntu jammy-cran40/ Packages [55.6 kB]\n",
            "Hit:9 https://ppa.launchpadcontent.net/deadsnakes/ppa/ubuntu jammy InRelease\n",
            "Hit:10 https://ppa.launchpadcontent.net/graphics-drivers/ppa/ubuntu jammy InRelease\n",
            "Hit:11 http://archive.ubuntu.com/ubuntu jammy-backports InRelease\n",
            "Hit:12 https://ppa.launchpadcontent.net/ubuntugis/ppa/ubuntu jammy InRelease\n",
            "Get:13 http://security.ubuntu.com/ubuntu jammy-security/main amd64 Packages [1,994 kB]\n",
            "Get:14 http://security.ubuntu.com/ubuntu jammy-security/universe amd64 Packages [1,127 kB]\n",
            "Get:15 http://archive.ubuntu.com/ubuntu jammy-updates/universe amd64 Packages [1,410 kB]\n",
            "Get:16 http://archive.ubuntu.com/ubuntu jammy-updates/main amd64 Packages [2,258 kB]\n",
            "Fetched 7,964 kB in 5s (1,715 kB/s)\n",
            "Reading package lists... Done\n",
            "Building dependency tree... Done\n",
            "Reading state information... Done\n",
            "53 packages can be upgraded. Run 'apt list --upgradable' to see them.\n",
            "Reading package lists... Done\n",
            "Building dependency tree... Done\n",
            "Reading state information... Done\n",
            "curl is already the newest version (7.81.0-1ubuntu1.16).\n",
            "unzip is already the newest version (6.0-26ubuntu3.2).\n",
            "wget is already the newest version (1.21.2-2ubuntu1.1).\n",
            "0 upgraded, 0 newly installed, 0 to remove and 53 not upgraded.\n",
            "--2024-07-10 14:09:40--  http://archive.ubuntu.com/ubuntu/pool/main/libu/libu2f-host/libu2f-udev_1.1.4-1_all.deb\n",
            "Resolving archive.ubuntu.com (archive.ubuntu.com)... 185.125.190.82, 91.189.91.81, 185.125.190.83, ...\n",
            "Connecting to archive.ubuntu.com (archive.ubuntu.com)|185.125.190.82|:80... connected.\n",
            "HTTP request sent, awaiting response... 200 OK\n",
            "Length: 3708 (3.6K) [application/vnd.debian.binary-package]\n",
            "Saving to: ‘libu2f-udev_1.1.4-1_all.deb’\n",
            "\n",
            "libu2f-udev_1.1.4-1 100%[===================>]   3.62K  --.-KB/s    in 0s      \n",
            "\n",
            "2024-07-10 14:09:40 (235 MB/s) - ‘libu2f-udev_1.1.4-1_all.deb’ saved [3708/3708]\n",
            "\n",
            "Selecting previously unselected package libu2f-udev.\n",
            "(Reading database ... 121925 files and directories currently installed.)\n",
            "Preparing to unpack libu2f-udev_1.1.4-1_all.deb ...\n",
            "Unpacking libu2f-udev (1.1.4-1) ...\n",
            "Setting up libu2f-udev (1.1.4-1) ...\n",
            "--2024-07-10 14:09:41--  https://dl.google.com/linux/direct/google-chrome-stable_current_amd64.deb\n",
            "Resolving dl.google.com (dl.google.com)... 74.125.142.190, 74.125.142.136, 74.125.142.93, ...\n",
            "Connecting to dl.google.com (dl.google.com)|74.125.142.190|:443... connected.\n",
            "HTTP request sent, awaiting response... 200 OK\n",
            "Length: 108773084 (104M) [application/x-debian-package]\n",
            "Saving to: ‘google-chrome-stable_current_amd64.deb’\n",
            "\n",
            "google-chrome-stabl 100%[===================>] 103.73M   120MB/s    in 0.9s    \n",
            "\n",
            "2024-07-10 14:09:42 (120 MB/s) - ‘google-chrome-stable_current_amd64.deb’ saved [108773084/108773084]\n",
            "\n",
            "Selecting previously unselected package google-chrome-stable.\n",
            "(Reading database ... 121929 files and directories currently installed.)\n",
            "Preparing to unpack google-chrome-stable_current_amd64.deb ...\n",
            "Unpacking google-chrome-stable (126.0.6478.126-1) ...\n",
            "\u001b[1mdpkg:\u001b[0m dependency problems prevent configuration of google-chrome-stable:\n",
            " google-chrome-stable depends on libvulkan1; however:\n",
            "  Package libvulkan1 is not installed.\n",
            "\n",
            "\u001b[1mdpkg:\u001b[0m error processing package google-chrome-stable (--install):\n",
            " dependency problems - leaving unconfigured\n",
            "Processing triggers for man-db (2.10.2-1) ...\n",
            "Errors were encountered while processing:\n",
            " google-chrome-stable\n",
            "--2024-07-10 14:09:58--  https://chromedriver.storage.googleapis.com/114.0.5735.90/chromedriver_linux64.zip\n",
            "Resolving chromedriver.storage.googleapis.com (chromedriver.storage.googleapis.com)... 74.125.20.207, 108.177.98.207, 74.125.197.207, ...\n",
            "Connecting to chromedriver.storage.googleapis.com (chromedriver.storage.googleapis.com)|74.125.20.207|:443... connected.\n",
            "HTTP request sent, awaiting response... 200 OK\n",
            "Length: 7407250 (7.1M) [application/zip]\n",
            "Saving to: ‘/tmp/chromedriver_linux64.zip’\n",
            "\n",
            "chromedriver_linux6 100%[===================>]   7.06M  --.-KB/s    in 0.03s   \n",
            "\n",
            "2024-07-10 14:09:58 (223 MB/s) - ‘/tmp/chromedriver_linux64.zip’ saved [7407250/7407250]\n",
            "\n",
            "Archive:  /tmp/chromedriver_linux64.zip\n",
            "  inflating: /tmp/chromedriver       \n",
            "  inflating: /tmp/LICENSE.chromedriver  \n",
            "Collecting selenium\n",
            "  Downloading selenium-4.22.0-py3-none-any.whl (9.4 MB)\n",
            "\u001b[2K     \u001b[90m━━━━━━━━━━━━━━━━━━━━━━━━━━━━━━━━━━━━━━━━\u001b[0m \u001b[32m9.4/9.4 MB\u001b[0m \u001b[31m63.7 MB/s\u001b[0m eta \u001b[36m0:00:00\u001b[0m\n",
            "\u001b[?25hRequirement already satisfied: urllib3[socks]<3,>=1.26 in /usr/local/lib/python3.10/dist-packages (from selenium) (2.0.7)\n",
            "Collecting trio~=0.17 (from selenium)\n",
            "  Downloading trio-0.26.0-py3-none-any.whl (475 kB)\n",
            "\u001b[2K     \u001b[90m━━━━━━━━━━━━━━━━━━━━━━━━━━━━━━━━━━━━━━━━\u001b[0m \u001b[32m475.7/475.7 kB\u001b[0m \u001b[31m40.0 MB/s\u001b[0m eta \u001b[36m0:00:00\u001b[0m\n",
            "\u001b[?25hCollecting trio-websocket~=0.9 (from selenium)\n",
            "  Downloading trio_websocket-0.11.1-py3-none-any.whl (17 kB)\n",
            "Requirement already satisfied: certifi>=2021.10.8 in /usr/local/lib/python3.10/dist-packages (from selenium) (2024.6.2)\n",
            "Requirement already satisfied: typing_extensions>=4.9.0 in /usr/local/lib/python3.10/dist-packages (from selenium) (4.12.2)\n",
            "Requirement already satisfied: websocket-client>=1.8.0 in /usr/local/lib/python3.10/dist-packages (from selenium) (1.8.0)\n",
            "Requirement already satisfied: attrs>=23.2.0 in /usr/local/lib/python3.10/dist-packages (from trio~=0.17->selenium) (23.2.0)\n",
            "Requirement already satisfied: sortedcontainers in /usr/local/lib/python3.10/dist-packages (from trio~=0.17->selenium) (2.4.0)\n",
            "Requirement already satisfied: idna in /usr/local/lib/python3.10/dist-packages (from trio~=0.17->selenium) (3.7)\n",
            "Collecting outcome (from trio~=0.17->selenium)\n",
            "  Downloading outcome-1.3.0.post0-py2.py3-none-any.whl (10 kB)\n",
            "Requirement already satisfied: sniffio>=1.3.0 in /usr/local/lib/python3.10/dist-packages (from trio~=0.17->selenium) (1.3.1)\n",
            "Requirement already satisfied: exceptiongroup in /usr/local/lib/python3.10/dist-packages (from trio~=0.17->selenium) (1.2.1)\n",
            "Collecting wsproto>=0.14 (from trio-websocket~=0.9->selenium)\n",
            "  Downloading wsproto-1.2.0-py3-none-any.whl (24 kB)\n",
            "Requirement already satisfied: pysocks!=1.5.7,<2.0,>=1.5.6 in /usr/local/lib/python3.10/dist-packages (from urllib3[socks]<3,>=1.26->selenium) (1.7.1)\n",
            "Collecting h11<1,>=0.9.0 (from wsproto>=0.14->trio-websocket~=0.9->selenium)\n",
            "  Downloading h11-0.14.0-py3-none-any.whl (58 kB)\n",
            "\u001b[2K     \u001b[90m━━━━━━━━━━━━━━━━━━━━━━━━━━━━━━━━━━━━━━━━\u001b[0m \u001b[32m58.3/58.3 kB\u001b[0m \u001b[31m7.6 MB/s\u001b[0m eta \u001b[36m0:00:00\u001b[0m\n",
            "\u001b[?25hInstalling collected packages: outcome, h11, wsproto, trio, trio-websocket, selenium\n",
            "Successfully installed h11-0.14.0 outcome-1.3.0.post0 selenium-4.22.0 trio-0.26.0 trio-websocket-0.11.1 wsproto-1.2.0\n"
          ]
        },
        {
          "output_type": "execute_result",
          "data": {
            "text/plain": []
          },
          "metadata": {},
          "execution_count": 6
        }
      ],
      "source": [
        "# Set up for running selenium in Google Colab\n",
        "%%shell\n",
        "sudo apt -y update\n",
        "sudo apt install -y wget curl unzip\n",
        "wget http://archive.ubuntu.com/ubuntu/pool/main/libu/libu2f-host/libu2f-udev_1.1.4-1_all.deb\n",
        "dpkg -i libu2f-udev_1.1.4-1_all.deb\n",
        "wget https://dl.google.com/linux/direct/google-chrome-stable_current_amd64.deb\n",
        "dpkg -i google-chrome-stable_current_amd64.deb\n",
        "CHROME_DRIVER_VERSION=`curl -sS chromedriver.storage.googleapis.com/LATEST_RELEASE`\n",
        "wget -N https://chromedriver.storage.googleapis.com/$CHROME_DRIVER_VERSION/chromedriver_linux64.zip -P /tmp/\n",
        "unzip -o /tmp/chromedriver_linux64.zip -d /tmp/\n",
        "chmod +x /tmp/chromedriver\n",
        "mv /tmp/chromedriver /usr/local/bin/chromedriver\n",
        "pip install selenium"
      ]
    },
    {
      "cell_type": "code",
      "execution_count": 7,
      "metadata": {
        "colab": {
          "base_uri": "https://localhost:8080/",
          "height": 126
        },
        "id": "R8zVtAQmh93m",
        "outputId": "fa3d9b44-efdb-4c90-c517-cef5c8afd74d"
      },
      "outputs": [
        {
          "output_type": "stream",
          "name": "stdout",
          "text": [
            "Collecting chromedriver-autoinstaller\n",
            "  Downloading chromedriver_autoinstaller-0.6.4-py3-none-any.whl (7.6 kB)\n",
            "Requirement already satisfied: packaging>=23.1 in /usr/local/lib/python3.10/dist-packages (from chromedriver-autoinstaller) (24.1)\n",
            "Installing collected packages: chromedriver-autoinstaller\n",
            "Successfully installed chromedriver-autoinstaller-0.6.4\n"
          ]
        },
        {
          "output_type": "execute_result",
          "data": {
            "text/plain": [
              "'/usr/local/lib/python3.10/dist-packages/chromedriver_autoinstaller/126/chromedriver'"
            ],
            "application/vnd.google.colaboratory.intrinsic+json": {
              "type": "string"
            }
          },
          "metadata": {},
          "execution_count": 7
        }
      ],
      "source": [
        "!pip install chromedriver-autoinstaller\n",
        "\n",
        "import sys\n",
        "sys.path.insert(0,'/usr/lib/chromium-browser/chromedriver')\n",
        "\n",
        "import time\n",
        "import pandas as pd\n",
        "from bs4 import BeautifulSoup\n",
        "from selenium import webdriver\n",
        "import chromedriver_autoinstaller\n",
        "\n",
        "# setup chrome options\n",
        "chrome_options = webdriver.ChromeOptions()\n",
        "chrome_options.add_argument('--headless') # ensure GUI is off\n",
        "chrome_options.add_argument('--no-sandbox')\n",
        "chrome_options.add_argument('--disable-dev-shm-usage')\n",
        "\n",
        "# set path to chromedriver as per your configuration\n",
        "chromedriver_autoinstaller.install()\n"
      ]
    },
    {
      "cell_type": "code",
      "execution_count": 8,
      "metadata": {
        "id": "q1Mfqi_9AoBu"
      },
      "outputs": [],
      "source": [
        "# set the target URL\n",
        "url = 'https://www.justwatch.com/in/movies?release_year_from=2000'\n",
        "\n",
        "# set up the webdriver\n",
        "driver = webdriver.Chrome(options=chrome_options)"
      ]
    },
    {
      "cell_type": "code",
      "execution_count": 9,
      "metadata": {
        "id": "XL9ZIF1blTHv"
      },
      "outputs": [],
      "source": [
        "driver.get(url )"
      ]
    },
    {
      "cell_type": "code",
      "execution_count": 10,
      "metadata": {
        "colab": {
          "base_uri": "https://localhost:8080/"
        },
        "id": "0BUf9C8srHV9",
        "outputId": "1890ee02-1712-4fcc-bf03-95a3c0f702fd"
      },
      "outputs": [
        {
          "output_type": "execute_result",
          "data": {
            "text/plain": [
              "<selenium.webdriver.chrome.webdriver.WebDriver (session=\"f394f746ba32149c15d1caa35423144b\")>"
            ]
          },
          "metadata": {},
          "execution_count": 10
        }
      ],
      "source": [
        "driver"
      ]
    },
    {
      "cell_type": "code",
      "execution_count": 11,
      "metadata": {
        "id": "WXteyrTAjnSx"
      },
      "outputs": [],
      "source": [
        "from selenium.webdriver.support.ui import WebDriverWait\n",
        "from selenium.webdriver.support import expected_conditions as EC\n",
        "from selenium.webdriver.common.by import By"
      ]
    },
    {
      "cell_type": "code",
      "execution_count": 12,
      "metadata": {
        "colab": {
          "base_uri": "https://localhost:8080/"
        },
        "id": "OrU8iy99kLgK",
        "outputId": "772b8d41-01d0-47a2-dc47-ab4a4cbf7dda"
      },
      "outputs": [
        {
          "output_type": "execute_result",
          "data": {
            "text/plain": [
              "[<selenium.webdriver.remote.webelement.WebElement (session=\"f394f746ba32149c15d1caa35423144b\", element=\"f.1D06F593C2854D66E2975F74E87E6D5D.d.08EB3E5991B56C0525D89DBB10DBB42B.e.22\")>,\n",
              " <selenium.webdriver.remote.webelement.WebElement (session=\"f394f746ba32149c15d1caa35423144b\", element=\"f.1D06F593C2854D66E2975F74E87E6D5D.d.08EB3E5991B56C0525D89DBB10DBB42B.e.23\")>,\n",
              " <selenium.webdriver.remote.webelement.WebElement (session=\"f394f746ba32149c15d1caa35423144b\", element=\"f.1D06F593C2854D66E2975F74E87E6D5D.d.08EB3E5991B56C0525D89DBB10DBB42B.e.24\")>,\n",
              " <selenium.webdriver.remote.webelement.WebElement (session=\"f394f746ba32149c15d1caa35423144b\", element=\"f.1D06F593C2854D66E2975F74E87E6D5D.d.08EB3E5991B56C0525D89DBB10DBB42B.e.25\")>,\n",
              " <selenium.webdriver.remote.webelement.WebElement (session=\"f394f746ba32149c15d1caa35423144b\", element=\"f.1D06F593C2854D66E2975F74E87E6D5D.d.08EB3E5991B56C0525D89DBB10DBB42B.e.26\")>,\n",
              " <selenium.webdriver.remote.webelement.WebElement (session=\"f394f746ba32149c15d1caa35423144b\", element=\"f.1D06F593C2854D66E2975F74E87E6D5D.d.08EB3E5991B56C0525D89DBB10DBB42B.e.27\")>,\n",
              " <selenium.webdriver.remote.webelement.WebElement (session=\"f394f746ba32149c15d1caa35423144b\", element=\"f.1D06F593C2854D66E2975F74E87E6D5D.d.08EB3E5991B56C0525D89DBB10DBB42B.e.28\")>,\n",
              " <selenium.webdriver.remote.webelement.WebElement (session=\"f394f746ba32149c15d1caa35423144b\", element=\"f.1D06F593C2854D66E2975F74E87E6D5D.d.08EB3E5991B56C0525D89DBB10DBB42B.e.29\")>,\n",
              " <selenium.webdriver.remote.webelement.WebElement (session=\"f394f746ba32149c15d1caa35423144b\", element=\"f.1D06F593C2854D66E2975F74E87E6D5D.d.08EB3E5991B56C0525D89DBB10DBB42B.e.30\")>,\n",
              " <selenium.webdriver.remote.webelement.WebElement (session=\"f394f746ba32149c15d1caa35423144b\", element=\"f.1D06F593C2854D66E2975F74E87E6D5D.d.08EB3E5991B56C0525D89DBB10DBB42B.e.31\")>,\n",
              " <selenium.webdriver.remote.webelement.WebElement (session=\"f394f746ba32149c15d1caa35423144b\", element=\"f.1D06F593C2854D66E2975F74E87E6D5D.d.08EB3E5991B56C0525D89DBB10DBB42B.e.32\")>,\n",
              " <selenium.webdriver.remote.webelement.WebElement (session=\"f394f746ba32149c15d1caa35423144b\", element=\"f.1D06F593C2854D66E2975F74E87E6D5D.d.08EB3E5991B56C0525D89DBB10DBB42B.e.33\")>,\n",
              " <selenium.webdriver.remote.webelement.WebElement (session=\"f394f746ba32149c15d1caa35423144b\", element=\"f.1D06F593C2854D66E2975F74E87E6D5D.d.08EB3E5991B56C0525D89DBB10DBB42B.e.34\")>,\n",
              " <selenium.webdriver.remote.webelement.WebElement (session=\"f394f746ba32149c15d1caa35423144b\", element=\"f.1D06F593C2854D66E2975F74E87E6D5D.d.08EB3E5991B56C0525D89DBB10DBB42B.e.35\")>,\n",
              " <selenium.webdriver.remote.webelement.WebElement (session=\"f394f746ba32149c15d1caa35423144b\", element=\"f.1D06F593C2854D66E2975F74E87E6D5D.d.08EB3E5991B56C0525D89DBB10DBB42B.e.36\")>,\n",
              " <selenium.webdriver.remote.webelement.WebElement (session=\"f394f746ba32149c15d1caa35423144b\", element=\"f.1D06F593C2854D66E2975F74E87E6D5D.d.08EB3E5991B56C0525D89DBB10DBB42B.e.37\")>,\n",
              " <selenium.webdriver.remote.webelement.WebElement (session=\"f394f746ba32149c15d1caa35423144b\", element=\"f.1D06F593C2854D66E2975F74E87E6D5D.d.08EB3E5991B56C0525D89DBB10DBB42B.e.38\")>,\n",
              " <selenium.webdriver.remote.webelement.WebElement (session=\"f394f746ba32149c15d1caa35423144b\", element=\"f.1D06F593C2854D66E2975F74E87E6D5D.d.08EB3E5991B56C0525D89DBB10DBB42B.e.39\")>,\n",
              " <selenium.webdriver.remote.webelement.WebElement (session=\"f394f746ba32149c15d1caa35423144b\", element=\"f.1D06F593C2854D66E2975F74E87E6D5D.d.08EB3E5991B56C0525D89DBB10DBB42B.e.40\")>,\n",
              " <selenium.webdriver.remote.webelement.WebElement (session=\"f394f746ba32149c15d1caa35423144b\", element=\"f.1D06F593C2854D66E2975F74E87E6D5D.d.08EB3E5991B56C0525D89DBB10DBB42B.e.41\")>,\n",
              " <selenium.webdriver.remote.webelement.WebElement (session=\"f394f746ba32149c15d1caa35423144b\", element=\"f.1D06F593C2854D66E2975F74E87E6D5D.d.08EB3E5991B56C0525D89DBB10DBB42B.e.42\")>,\n",
              " <selenium.webdriver.remote.webelement.WebElement (session=\"f394f746ba32149c15d1caa35423144b\", element=\"f.1D06F593C2854D66E2975F74E87E6D5D.d.08EB3E5991B56C0525D89DBB10DBB42B.e.43\")>,\n",
              " <selenium.webdriver.remote.webelement.WebElement (session=\"f394f746ba32149c15d1caa35423144b\", element=\"f.1D06F593C2854D66E2975F74E87E6D5D.d.08EB3E5991B56C0525D89DBB10DBB42B.e.44\")>,\n",
              " <selenium.webdriver.remote.webelement.WebElement (session=\"f394f746ba32149c15d1caa35423144b\", element=\"f.1D06F593C2854D66E2975F74E87E6D5D.d.08EB3E5991B56C0525D89DBB10DBB42B.e.45\")>,\n",
              " <selenium.webdriver.remote.webelement.WebElement (session=\"f394f746ba32149c15d1caa35423144b\", element=\"f.1D06F593C2854D66E2975F74E87E6D5D.d.08EB3E5991B56C0525D89DBB10DBB42B.e.46\")>,\n",
              " <selenium.webdriver.remote.webelement.WebElement (session=\"f394f746ba32149c15d1caa35423144b\", element=\"f.1D06F593C2854D66E2975F74E87E6D5D.d.08EB3E5991B56C0525D89DBB10DBB42B.e.47\")>,\n",
              " <selenium.webdriver.remote.webelement.WebElement (session=\"f394f746ba32149c15d1caa35423144b\", element=\"f.1D06F593C2854D66E2975F74E87E6D5D.d.08EB3E5991B56C0525D89DBB10DBB42B.e.48\")>,\n",
              " <selenium.webdriver.remote.webelement.WebElement (session=\"f394f746ba32149c15d1caa35423144b\", element=\"f.1D06F593C2854D66E2975F74E87E6D5D.d.08EB3E5991B56C0525D89DBB10DBB42B.e.49\")>,\n",
              " <selenium.webdriver.remote.webelement.WebElement (session=\"f394f746ba32149c15d1caa35423144b\", element=\"f.1D06F593C2854D66E2975F74E87E6D5D.d.08EB3E5991B56C0525D89DBB10DBB42B.e.50\")>,\n",
              " <selenium.webdriver.remote.webelement.WebElement (session=\"f394f746ba32149c15d1caa35423144b\", element=\"f.1D06F593C2854D66E2975F74E87E6D5D.d.08EB3E5991B56C0525D89DBB10DBB42B.e.51\")>,\n",
              " <selenium.webdriver.remote.webelement.WebElement (session=\"f394f746ba32149c15d1caa35423144b\", element=\"f.1D06F593C2854D66E2975F74E87E6D5D.d.08EB3E5991B56C0525D89DBB10DBB42B.e.52\")>,\n",
              " <selenium.webdriver.remote.webelement.WebElement (session=\"f394f746ba32149c15d1caa35423144b\", element=\"f.1D06F593C2854D66E2975F74E87E6D5D.d.08EB3E5991B56C0525D89DBB10DBB42B.e.53\")>,\n",
              " <selenium.webdriver.remote.webelement.WebElement (session=\"f394f746ba32149c15d1caa35423144b\", element=\"f.1D06F593C2854D66E2975F74E87E6D5D.d.08EB3E5991B56C0525D89DBB10DBB42B.e.54\")>,\n",
              " <selenium.webdriver.remote.webelement.WebElement (session=\"f394f746ba32149c15d1caa35423144b\", element=\"f.1D06F593C2854D66E2975F74E87E6D5D.d.08EB3E5991B56C0525D89DBB10DBB42B.e.55\")>,\n",
              " <selenium.webdriver.remote.webelement.WebElement (session=\"f394f746ba32149c15d1caa35423144b\", element=\"f.1D06F593C2854D66E2975F74E87E6D5D.d.08EB3E5991B56C0525D89DBB10DBB42B.e.56\")>,\n",
              " <selenium.webdriver.remote.webelement.WebElement (session=\"f394f746ba32149c15d1caa35423144b\", element=\"f.1D06F593C2854D66E2975F74E87E6D5D.d.08EB3E5991B56C0525D89DBB10DBB42B.e.57\")>,\n",
              " <selenium.webdriver.remote.webelement.WebElement (session=\"f394f746ba32149c15d1caa35423144b\", element=\"f.1D06F593C2854D66E2975F74E87E6D5D.d.08EB3E5991B56C0525D89DBB10DBB42B.e.58\")>,\n",
              " <selenium.webdriver.remote.webelement.WebElement (session=\"f394f746ba32149c15d1caa35423144b\", element=\"f.1D06F593C2854D66E2975F74E87E6D5D.d.08EB3E5991B56C0525D89DBB10DBB42B.e.59\")>,\n",
              " <selenium.webdriver.remote.webelement.WebElement (session=\"f394f746ba32149c15d1caa35423144b\", element=\"f.1D06F593C2854D66E2975F74E87E6D5D.d.08EB3E5991B56C0525D89DBB10DBB42B.e.60\")>,\n",
              " <selenium.webdriver.remote.webelement.WebElement (session=\"f394f746ba32149c15d1caa35423144b\", element=\"f.1D06F593C2854D66E2975F74E87E6D5D.d.08EB3E5991B56C0525D89DBB10DBB42B.e.61\")>,\n",
              " <selenium.webdriver.remote.webelement.WebElement (session=\"f394f746ba32149c15d1caa35423144b\", element=\"f.1D06F593C2854D66E2975F74E87E6D5D.d.08EB3E5991B56C0525D89DBB10DBB42B.e.62\")>,\n",
              " <selenium.webdriver.remote.webelement.WebElement (session=\"f394f746ba32149c15d1caa35423144b\", element=\"f.1D06F593C2854D66E2975F74E87E6D5D.d.08EB3E5991B56C0525D89DBB10DBB42B.e.63\")>,\n",
              " <selenium.webdriver.remote.webelement.WebElement (session=\"f394f746ba32149c15d1caa35423144b\", element=\"f.1D06F593C2854D66E2975F74E87E6D5D.d.08EB3E5991B56C0525D89DBB10DBB42B.e.64\")>,\n",
              " <selenium.webdriver.remote.webelement.WebElement (session=\"f394f746ba32149c15d1caa35423144b\", element=\"f.1D06F593C2854D66E2975F74E87E6D5D.d.08EB3E5991B56C0525D89DBB10DBB42B.e.65\")>,\n",
              " <selenium.webdriver.remote.webelement.WebElement (session=\"f394f746ba32149c15d1caa35423144b\", element=\"f.1D06F593C2854D66E2975F74E87E6D5D.d.08EB3E5991B56C0525D89DBB10DBB42B.e.66\")>,\n",
              " <selenium.webdriver.remote.webelement.WebElement (session=\"f394f746ba32149c15d1caa35423144b\", element=\"f.1D06F593C2854D66E2975F74E87E6D5D.d.08EB3E5991B56C0525D89DBB10DBB42B.e.67\")>,\n",
              " <selenium.webdriver.remote.webelement.WebElement (session=\"f394f746ba32149c15d1caa35423144b\", element=\"f.1D06F593C2854D66E2975F74E87E6D5D.d.08EB3E5991B56C0525D89DBB10DBB42B.e.68\")>,\n",
              " <selenium.webdriver.remote.webelement.WebElement (session=\"f394f746ba32149c15d1caa35423144b\", element=\"f.1D06F593C2854D66E2975F74E87E6D5D.d.08EB3E5991B56C0525D89DBB10DBB42B.e.69\")>,\n",
              " <selenium.webdriver.remote.webelement.WebElement (session=\"f394f746ba32149c15d1caa35423144b\", element=\"f.1D06F593C2854D66E2975F74E87E6D5D.d.08EB3E5991B56C0525D89DBB10DBB42B.e.70\")>,\n",
              " <selenium.webdriver.remote.webelement.WebElement (session=\"f394f746ba32149c15d1caa35423144b\", element=\"f.1D06F593C2854D66E2975F74E87E6D5D.d.08EB3E5991B56C0525D89DBB10DBB42B.e.71\")>,\n",
              " <selenium.webdriver.remote.webelement.WebElement (session=\"f394f746ba32149c15d1caa35423144b\", element=\"f.1D06F593C2854D66E2975F74E87E6D5D.d.08EB3E5991B56C0525D89DBB10DBB42B.e.72\")>,\n",
              " <selenium.webdriver.remote.webelement.WebElement (session=\"f394f746ba32149c15d1caa35423144b\", element=\"f.1D06F593C2854D66E2975F74E87E6D5D.d.08EB3E5991B56C0525D89DBB10DBB42B.e.73\")>,\n",
              " <selenium.webdriver.remote.webelement.WebElement (session=\"f394f746ba32149c15d1caa35423144b\", element=\"f.1D06F593C2854D66E2975F74E87E6D5D.d.08EB3E5991B56C0525D89DBB10DBB42B.e.74\")>,\n",
              " <selenium.webdriver.remote.webelement.WebElement (session=\"f394f746ba32149c15d1caa35423144b\", element=\"f.1D06F593C2854D66E2975F74E87E6D5D.d.08EB3E5991B56C0525D89DBB10DBB42B.e.75\")>,\n",
              " <selenium.webdriver.remote.webelement.WebElement (session=\"f394f746ba32149c15d1caa35423144b\", element=\"f.1D06F593C2854D66E2975F74E87E6D5D.d.08EB3E5991B56C0525D89DBB10DBB42B.e.76\")>,\n",
              " <selenium.webdriver.remote.webelement.WebElement (session=\"f394f746ba32149c15d1caa35423144b\", element=\"f.1D06F593C2854D66E2975F74E87E6D5D.d.08EB3E5991B56C0525D89DBB10DBB42B.e.77\")>,\n",
              " <selenium.webdriver.remote.webelement.WebElement (session=\"f394f746ba32149c15d1caa35423144b\", element=\"f.1D06F593C2854D66E2975F74E87E6D5D.d.08EB3E5991B56C0525D89DBB10DBB42B.e.78\")>,\n",
              " <selenium.webdriver.remote.webelement.WebElement (session=\"f394f746ba32149c15d1caa35423144b\", element=\"f.1D06F593C2854D66E2975F74E87E6D5D.d.08EB3E5991B56C0525D89DBB10DBB42B.e.79\")>,\n",
              " <selenium.webdriver.remote.webelement.WebElement (session=\"f394f746ba32149c15d1caa35423144b\", element=\"f.1D06F593C2854D66E2975F74E87E6D5D.d.08EB3E5991B56C0525D89DBB10DBB42B.e.80\")>,\n",
              " <selenium.webdriver.remote.webelement.WebElement (session=\"f394f746ba32149c15d1caa35423144b\", element=\"f.1D06F593C2854D66E2975F74E87E6D5D.d.08EB3E5991B56C0525D89DBB10DBB42B.e.81\")>,\n",
              " <selenium.webdriver.remote.webelement.WebElement (session=\"f394f746ba32149c15d1caa35423144b\", element=\"f.1D06F593C2854D66E2975F74E87E6D5D.d.08EB3E5991B56C0525D89DBB10DBB42B.e.82\")>,\n",
              " <selenium.webdriver.remote.webelement.WebElement (session=\"f394f746ba32149c15d1caa35423144b\", element=\"f.1D06F593C2854D66E2975F74E87E6D5D.d.08EB3E5991B56C0525D89DBB10DBB42B.e.83\")>,\n",
              " <selenium.webdriver.remote.webelement.WebElement (session=\"f394f746ba32149c15d1caa35423144b\", element=\"f.1D06F593C2854D66E2975F74E87E6D5D.d.08EB3E5991B56C0525D89DBB10DBB42B.e.84\")>,\n",
              " <selenium.webdriver.remote.webelement.WebElement (session=\"f394f746ba32149c15d1caa35423144b\", element=\"f.1D06F593C2854D66E2975F74E87E6D5D.d.08EB3E5991B56C0525D89DBB10DBB42B.e.85\")>,\n",
              " <selenium.webdriver.remote.webelement.WebElement (session=\"f394f746ba32149c15d1caa35423144b\", element=\"f.1D06F593C2854D66E2975F74E87E6D5D.d.08EB3E5991B56C0525D89DBB10DBB42B.e.86\")>,\n",
              " <selenium.webdriver.remote.webelement.WebElement (session=\"f394f746ba32149c15d1caa35423144b\", element=\"f.1D06F593C2854D66E2975F74E87E6D5D.d.08EB3E5991B56C0525D89DBB10DBB42B.e.87\")>,\n",
              " <selenium.webdriver.remote.webelement.WebElement (session=\"f394f746ba32149c15d1caa35423144b\", element=\"f.1D06F593C2854D66E2975F74E87E6D5D.d.08EB3E5991B56C0525D89DBB10DBB42B.e.88\")>,\n",
              " <selenium.webdriver.remote.webelement.WebElement (session=\"f394f746ba32149c15d1caa35423144b\", element=\"f.1D06F593C2854D66E2975F74E87E6D5D.d.08EB3E5991B56C0525D89DBB10DBB42B.e.89\")>,\n",
              " <selenium.webdriver.remote.webelement.WebElement (session=\"f394f746ba32149c15d1caa35423144b\", element=\"f.1D06F593C2854D66E2975F74E87E6D5D.d.08EB3E5991B56C0525D89DBB10DBB42B.e.90\")>,\n",
              " <selenium.webdriver.remote.webelement.WebElement (session=\"f394f746ba32149c15d1caa35423144b\", element=\"f.1D06F593C2854D66E2975F74E87E6D5D.d.08EB3E5991B56C0525D89DBB10DBB42B.e.91\")>,\n",
              " <selenium.webdriver.remote.webelement.WebElement (session=\"f394f746ba32149c15d1caa35423144b\", element=\"f.1D06F593C2854D66E2975F74E87E6D5D.d.08EB3E5991B56C0525D89DBB10DBB42B.e.92\")>,\n",
              " <selenium.webdriver.remote.webelement.WebElement (session=\"f394f746ba32149c15d1caa35423144b\", element=\"f.1D06F593C2854D66E2975F74E87E6D5D.d.08EB3E5991B56C0525D89DBB10DBB42B.e.93\")>,\n",
              " <selenium.webdriver.remote.webelement.WebElement (session=\"f394f746ba32149c15d1caa35423144b\", element=\"f.1D06F593C2854D66E2975F74E87E6D5D.d.08EB3E5991B56C0525D89DBB10DBB42B.e.94\")>,\n",
              " <selenium.webdriver.remote.webelement.WebElement (session=\"f394f746ba32149c15d1caa35423144b\", element=\"f.1D06F593C2854D66E2975F74E87E6D5D.d.08EB3E5991B56C0525D89DBB10DBB42B.e.95\")>,\n",
              " <selenium.webdriver.remote.webelement.WebElement (session=\"f394f746ba32149c15d1caa35423144b\", element=\"f.1D06F593C2854D66E2975F74E87E6D5D.d.08EB3E5991B56C0525D89DBB10DBB42B.e.96\")>,\n",
              " <selenium.webdriver.remote.webelement.WebElement (session=\"f394f746ba32149c15d1caa35423144b\", element=\"f.1D06F593C2854D66E2975F74E87E6D5D.d.08EB3E5991B56C0525D89DBB10DBB42B.e.97\")>,\n",
              " <selenium.webdriver.remote.webelement.WebElement (session=\"f394f746ba32149c15d1caa35423144b\", element=\"f.1D06F593C2854D66E2975F74E87E6D5D.d.08EB3E5991B56C0525D89DBB10DBB42B.e.98\")>,\n",
              " <selenium.webdriver.remote.webelement.WebElement (session=\"f394f746ba32149c15d1caa35423144b\", element=\"f.1D06F593C2854D66E2975F74E87E6D5D.d.08EB3E5991B56C0525D89DBB10DBB42B.e.99\")>,\n",
              " <selenium.webdriver.remote.webelement.WebElement (session=\"f394f746ba32149c15d1caa35423144b\", element=\"f.1D06F593C2854D66E2975F74E87E6D5D.d.08EB3E5991B56C0525D89DBB10DBB42B.e.100\")>,\n",
              " <selenium.webdriver.remote.webelement.WebElement (session=\"f394f746ba32149c15d1caa35423144b\", element=\"f.1D06F593C2854D66E2975F74E87E6D5D.d.08EB3E5991B56C0525D89DBB10DBB42B.e.101\")>,\n",
              " <selenium.webdriver.remote.webelement.WebElement (session=\"f394f746ba32149c15d1caa35423144b\", element=\"f.1D06F593C2854D66E2975F74E87E6D5D.d.08EB3E5991B56C0525D89DBB10DBB42B.e.102\")>,\n",
              " <selenium.webdriver.remote.webelement.WebElement (session=\"f394f746ba32149c15d1caa35423144b\", element=\"f.1D06F593C2854D66E2975F74E87E6D5D.d.08EB3E5991B56C0525D89DBB10DBB42B.e.103\")>,\n",
              " <selenium.webdriver.remote.webelement.WebElement (session=\"f394f746ba32149c15d1caa35423144b\", element=\"f.1D06F593C2854D66E2975F74E87E6D5D.d.08EB3E5991B56C0525D89DBB10DBB42B.e.104\")>,\n",
              " <selenium.webdriver.remote.webelement.WebElement (session=\"f394f746ba32149c15d1caa35423144b\", element=\"f.1D06F593C2854D66E2975F74E87E6D5D.d.08EB3E5991B56C0525D89DBB10DBB42B.e.105\")>,\n",
              " <selenium.webdriver.remote.webelement.WebElement (session=\"f394f746ba32149c15d1caa35423144b\", element=\"f.1D06F593C2854D66E2975F74E87E6D5D.d.08EB3E5991B56C0525D89DBB10DBB42B.e.106\")>,\n",
              " <selenium.webdriver.remote.webelement.WebElement (session=\"f394f746ba32149c15d1caa35423144b\", element=\"f.1D06F593C2854D66E2975F74E87E6D5D.d.08EB3E5991B56C0525D89DBB10DBB42B.e.107\")>,\n",
              " <selenium.webdriver.remote.webelement.WebElement (session=\"f394f746ba32149c15d1caa35423144b\", element=\"f.1D06F593C2854D66E2975F74E87E6D5D.d.08EB3E5991B56C0525D89DBB10DBB42B.e.108\")>,\n",
              " <selenium.webdriver.remote.webelement.WebElement (session=\"f394f746ba32149c15d1caa35423144b\", element=\"f.1D06F593C2854D66E2975F74E87E6D5D.d.08EB3E5991B56C0525D89DBB10DBB42B.e.109\")>,\n",
              " <selenium.webdriver.remote.webelement.WebElement (session=\"f394f746ba32149c15d1caa35423144b\", element=\"f.1D06F593C2854D66E2975F74E87E6D5D.d.08EB3E5991B56C0525D89DBB10DBB42B.e.110\")>,\n",
              " <selenium.webdriver.remote.webelement.WebElement (session=\"f394f746ba32149c15d1caa35423144b\", element=\"f.1D06F593C2854D66E2975F74E87E6D5D.d.08EB3E5991B56C0525D89DBB10DBB42B.e.111\")>,\n",
              " <selenium.webdriver.remote.webelement.WebElement (session=\"f394f746ba32149c15d1caa35423144b\", element=\"f.1D06F593C2854D66E2975F74E87E6D5D.d.08EB3E5991B56C0525D89DBB10DBB42B.e.112\")>,\n",
              " <selenium.webdriver.remote.webelement.WebElement (session=\"f394f746ba32149c15d1caa35423144b\", element=\"f.1D06F593C2854D66E2975F74E87E6D5D.d.08EB3E5991B56C0525D89DBB10DBB42B.e.113\")>,\n",
              " <selenium.webdriver.remote.webelement.WebElement (session=\"f394f746ba32149c15d1caa35423144b\", element=\"f.1D06F593C2854D66E2975F74E87E6D5D.d.08EB3E5991B56C0525D89DBB10DBB42B.e.114\")>,\n",
              " <selenium.webdriver.remote.webelement.WebElement (session=\"f394f746ba32149c15d1caa35423144b\", element=\"f.1D06F593C2854D66E2975F74E87E6D5D.d.08EB3E5991B56C0525D89DBB10DBB42B.e.115\")>,\n",
              " <selenium.webdriver.remote.webelement.WebElement (session=\"f394f746ba32149c15d1caa35423144b\", element=\"f.1D06F593C2854D66E2975F74E87E6D5D.d.08EB3E5991B56C0525D89DBB10DBB42B.e.116\")>,\n",
              " <selenium.webdriver.remote.webelement.WebElement (session=\"f394f746ba32149c15d1caa35423144b\", element=\"f.1D06F593C2854D66E2975F74E87E6D5D.d.08EB3E5991B56C0525D89DBB10DBB42B.e.117\")>,\n",
              " <selenium.webdriver.remote.webelement.WebElement (session=\"f394f746ba32149c15d1caa35423144b\", element=\"f.1D06F593C2854D66E2975F74E87E6D5D.d.08EB3E5991B56C0525D89DBB10DBB42B.e.118\")>,\n",
              " <selenium.webdriver.remote.webelement.WebElement (session=\"f394f746ba32149c15d1caa35423144b\", element=\"f.1D06F593C2854D66E2975F74E87E6D5D.d.08EB3E5991B56C0525D89DBB10DBB42B.e.119\")>,\n",
              " <selenium.webdriver.remote.webelement.WebElement (session=\"f394f746ba32149c15d1caa35423144b\", element=\"f.1D06F593C2854D66E2975F74E87E6D5D.d.08EB3E5991B56C0525D89DBB10DBB42B.e.120\")>,\n",
              " <selenium.webdriver.remote.webelement.WebElement (session=\"f394f746ba32149c15d1caa35423144b\", element=\"f.1D06F593C2854D66E2975F74E87E6D5D.d.08EB3E5991B56C0525D89DBB10DBB42B.e.121\")>]"
            ]
          },
          "metadata": {},
          "execution_count": 12
        }
      ],
      "source": [
        "title_list = driver.find_elements(By.XPATH,\"//a[@class='title-list-grid__item--link']\")\n",
        "title_list"
      ]
    },
    {
      "cell_type": "markdown",
      "metadata": {
        "id": "V-qsNrtIsBEp"
      },
      "source": [
        "## **Fetching Movie URL's**"
      ]
    },
    {
      "cell_type": "code",
      "execution_count": 13,
      "metadata": {
        "colab": {
          "base_uri": "https://localhost:8080/"
        },
        "id": "o8RovSn5rUke",
        "outputId": "12fef53a-8394-4ae6-faac-3df74b72456d"
      },
      "outputs": [
        {
          "output_type": "execute_result",
          "data": {
            "text/plain": [
              "['https://www.justwatch.com/in/movie/project-k',\n",
              " 'https://www.justwatch.com/in/movie/munjha',\n",
              " 'https://www.justwatch.com/in/movie/aavesham-2024',\n",
              " 'https://www.justwatch.com/in/movie/family-star',\n",
              " 'https://www.justwatch.com/in/movie/the-gangster-the-cop-the-devil',\n",
              " 'https://www.justwatch.com/in/movie/the-fall-guy',\n",
              " 'https://www.justwatch.com/in/movie/hit-man',\n",
              " 'https://www.justwatch.com/in/movie/godzilla-minus-one',\n",
              " 'https://www.justwatch.com/in/movie/inside-out',\n",
              " 'https://www.justwatch.com/in/movie/godzilla-x-kong-the-new-empire',\n",
              " 'https://www.justwatch.com/in/movie/furiosa',\n",
              " 'https://www.justwatch.com/in/movie/manjummel-boys',\n",
              " 'https://www.justwatch.com/in/movie/laapataa-ladies',\n",
              " 'https://www.justwatch.com/in/movie/rockstar',\n",
              " 'https://www.justwatch.com/in/movie/dune-part-two',\n",
              " 'https://www.justwatch.com/in/movie/the-crew-2024',\n",
              " 'https://www.justwatch.com/in/movie/maharshi',\n",
              " 'https://www.justwatch.com/in/movie/maharaja-2024',\n",
              " 'https://www.justwatch.com/in/movie/civil-war-2024-0',\n",
              " 'https://www.justwatch.com/in/movie/maidaan',\n",
              " 'https://www.justwatch.com/in/movie/aranmanai-4',\n",
              " 'https://www.justwatch.com/in/movie/oppenheimer',\n",
              " 'https://www.justwatch.com/in/movie/sri-2023',\n",
              " 'https://www.justwatch.com/in/movie/mad-max-fury-road',\n",
              " 'https://www.justwatch.com/in/movie/premalu',\n",
              " 'https://www.justwatch.com/in/movie/365-days',\n",
              " 'https://www.justwatch.com/in/movie/lovers-2024',\n",
              " 'https://www.justwatch.com/in/movie/bade-miyan-chote-miyan-2023',\n",
              " 'https://www.justwatch.com/in/movie/kung-fu-panda-4',\n",
              " 'https://www.justwatch.com/in/movie/gangs-of-godavari',\n",
              " 'https://www.justwatch.com/in/movie/challengers',\n",
              " 'https://www.justwatch.com/in/movie/maharaj',\n",
              " 'https://www.justwatch.com/in/movie/garudan-2024',\n",
              " 'https://www.justwatch.com/in/movie/hereditary',\n",
              " 'https://www.justwatch.com/in/movie/inside-out-2',\n",
              " 'https://www.justwatch.com/in/movie/12th-fail',\n",
              " 'https://www.justwatch.com/in/movie/exhuma',\n",
              " 'https://www.justwatch.com/in/movie/madgaon-express',\n",
              " 'https://www.justwatch.com/in/movie/je-jatt-vigad-gya',\n",
              " 'https://www.justwatch.com/in/movie/animal-2022',\n",
              " 'https://www.justwatch.com/in/movie/salaar',\n",
              " 'https://www.justwatch.com/in/movie/hanu-man',\n",
              " 'https://www.justwatch.com/in/movie/kingdom-of-the-planet-of-the-apes',\n",
              " 'https://www.justwatch.com/in/movie/aadujeevitham',\n",
              " 'https://www.justwatch.com/in/movie/kill-2024',\n",
              " 'https://www.justwatch.com/in/movie/guruvayoor-ambalanadayil',\n",
              " 'https://www.justwatch.com/in/movie/satyabhama',\n",
              " 'https://www.justwatch.com/in/movie/dune-2021',\n",
              " 'https://www.justwatch.com/in/movie/spider-man-no-way-home',\n",
              " 'https://www.justwatch.com/in/movie/mallari',\n",
              " 'https://www.justwatch.com/in/movie/varshangalkku-shesham',\n",
              " 'https://www.justwatch.com/in/movie/anyone-but-you',\n",
              " 'https://www.justwatch.com/in/movie/a-quiet-place',\n",
              " 'https://www.justwatch.com/in/movie/chandu-champion',\n",
              " 'https://www.justwatch.com/in/movie/the-adjustment-bureau',\n",
              " 'https://www.justwatch.com/in/movie/abigail-2024',\n",
              " 'https://www.justwatch.com/in/movie/monster-2023',\n",
              " 'https://www.justwatch.com/in/movie/black-magic-2024',\n",
              " 'https://www.justwatch.com/in/movie/addicted',\n",
              " 'https://www.justwatch.com/in/movie/rasavathi',\n",
              " 'https://www.justwatch.com/in/movie/love-me-if-you-dare-2024',\n",
              " 'https://www.justwatch.com/in/movie/freelance',\n",
              " 'https://www.justwatch.com/in/movie/pushpa',\n",
              " 'https://www.justwatch.com/in/movie/sam-bahadur',\n",
              " 'https://www.justwatch.com/in/movie/harry-potter-and-the-philosophers-stone',\n",
              " 'https://www.justwatch.com/in/movie/tumbbad',\n",
              " 'https://www.justwatch.com/in/movie/k-g-f-chapter-1',\n",
              " 'https://www.justwatch.com/in/movie/blink-2024',\n",
              " 'https://www.justwatch.com/in/movie/monkey-man',\n",
              " 'https://www.justwatch.com/in/movie/kurangu-pedal',\n",
              " 'https://www.justwatch.com/in/movie/pt-sir',\n",
              " 'https://www.justwatch.com/in/movie/trigger-warning',\n",
              " 'https://www.justwatch.com/in/movie/the-first-omen',\n",
              " 'https://www.justwatch.com/in/movie/sous-la-seine',\n",
              " 'https://www.justwatch.com/in/movie/stree',\n",
              " 'https://www.justwatch.com/in/movie/777-charlie',\n",
              " 'https://www.justwatch.com/in/movie/laila-majnu',\n",
              " 'https://www.justwatch.com/in/movie/a-taxi-driver',\n",
              " 'https://www.justwatch.com/in/movie/ghostbusters-frozen-empire',\n",
              " 'https://www.justwatch.com/in/movie/swatantra-veer-savarkar',\n",
              " 'https://www.justwatch.com/in/movie/the-wolf-of-wall-street',\n",
              " 'https://www.justwatch.com/in/movie/siddharth-roy',\n",
              " 'https://www.justwatch.com/in/movie/yodha-2022',\n",
              " 'https://www.justwatch.com/in/movie/a-family-affair-2023',\n",
              " 'https://www.justwatch.com/in/movie/the-ministry-of-ungentlemanly-warfare',\n",
              " 'https://www.justwatch.com/in/movie/a-quiet-place-day-one',\n",
              " 'https://www.justwatch.com/in/movie/perfect-days',\n",
              " 'https://www.justwatch.com/in/movie/aquaman-and-the-lost-kingdom',\n",
              " 'https://www.justwatch.com/in/movie/hridayam',\n",
              " 'https://www.justwatch.com/in/movie/edge-of-tomorrow',\n",
              " 'https://www.justwatch.com/in/movie/jerry-and-marge-go-large',\n",
              " 'https://www.justwatch.com/in/movie/mr-and-mrs-mahi',\n",
              " 'https://www.justwatch.com/in/movie/bramayugam',\n",
              " 'https://www.justwatch.com/in/movie/bad-boys-4',\n",
              " 'https://www.justwatch.com/in/movie/the-iron-claw',\n",
              " 'https://www.justwatch.com/in/movie/silent-night-2023',\n",
              " 'https://www.justwatch.com/in/movie/gam-gam-ganesha',\n",
              " 'https://www.justwatch.com/in/movie/late-night-with-the-devil',\n",
              " 'https://www.justwatch.com/in/movie/a-quiet-place-part-ii',\n",
              " 'https://www.justwatch.com/in/movie/the-beekeeper-2024']"
            ]
          },
          "metadata": {},
          "execution_count": 13
        }
      ],
      "source": [
        "# write your code here\n",
        "movies=[]\n",
        "for i in title_list:\n",
        "    name=i.get_attribute('href')\n",
        "    movies.append(name)\n",
        "movies"
      ]
    },
    {
      "cell_type": "markdown",
      "metadata": {
        "id": "Dam_ehZgvgmw"
      },
      "source": [
        "## **Scrapping Movie Title**"
      ]
    },
    {
      "cell_type": "code",
      "execution_count": 14,
      "metadata": {
        "id": "1FGDXRKQxd1s"
      },
      "outputs": [],
      "source": [
        "# Write Your Code here\n",
        "def extract_movie_name_from_url(url):\n",
        "    return url.split('/')[-1]\n",
        "\n",
        "# Extract movie names from the URLs\n",
        "movie_names = [extract_movie_name_from_url(url) for url in movies]\n"
      ]
    },
    {
      "cell_type": "code",
      "execution_count": 15,
      "metadata": {
        "colab": {
          "base_uri": "https://localhost:8080/"
        },
        "id": "K-qtrMMMvL_W",
        "outputId": "d12e16c9-466d-43b9-b886-f82482bdbc21"
      },
      "outputs": [
        {
          "output_type": "execute_result",
          "data": {
            "text/plain": [
              "['project-k',\n",
              " 'munjha',\n",
              " 'aavesham-2024',\n",
              " 'family-star',\n",
              " 'the-gangster-the-cop-the-devil',\n",
              " 'the-fall-guy',\n",
              " 'hit-man',\n",
              " 'godzilla-minus-one',\n",
              " 'inside-out',\n",
              " 'godzilla-x-kong-the-new-empire',\n",
              " 'furiosa',\n",
              " 'manjummel-boys',\n",
              " 'laapataa-ladies',\n",
              " 'rockstar',\n",
              " 'dune-part-two',\n",
              " 'the-crew-2024',\n",
              " 'maharshi',\n",
              " 'maharaja-2024',\n",
              " 'civil-war-2024-0',\n",
              " 'maidaan',\n",
              " 'aranmanai-4',\n",
              " 'oppenheimer',\n",
              " 'sri-2023',\n",
              " 'mad-max-fury-road',\n",
              " 'premalu',\n",
              " '365-days',\n",
              " 'lovers-2024',\n",
              " 'bade-miyan-chote-miyan-2023',\n",
              " 'kung-fu-panda-4',\n",
              " 'gangs-of-godavari',\n",
              " 'challengers',\n",
              " 'maharaj',\n",
              " 'garudan-2024',\n",
              " 'hereditary',\n",
              " 'inside-out-2',\n",
              " '12th-fail',\n",
              " 'exhuma',\n",
              " 'madgaon-express',\n",
              " 'je-jatt-vigad-gya',\n",
              " 'animal-2022',\n",
              " 'salaar',\n",
              " 'hanu-man',\n",
              " 'kingdom-of-the-planet-of-the-apes',\n",
              " 'aadujeevitham',\n",
              " 'kill-2024',\n",
              " 'guruvayoor-ambalanadayil',\n",
              " 'satyabhama',\n",
              " 'dune-2021',\n",
              " 'spider-man-no-way-home',\n",
              " 'mallari',\n",
              " 'varshangalkku-shesham',\n",
              " 'anyone-but-you',\n",
              " 'a-quiet-place',\n",
              " 'chandu-champion',\n",
              " 'the-adjustment-bureau',\n",
              " 'abigail-2024',\n",
              " 'monster-2023',\n",
              " 'black-magic-2024',\n",
              " 'addicted',\n",
              " 'rasavathi',\n",
              " 'love-me-if-you-dare-2024',\n",
              " 'freelance',\n",
              " 'pushpa',\n",
              " 'sam-bahadur',\n",
              " 'harry-potter-and-the-philosophers-stone',\n",
              " 'tumbbad',\n",
              " 'k-g-f-chapter-1',\n",
              " 'blink-2024',\n",
              " 'monkey-man',\n",
              " 'kurangu-pedal',\n",
              " 'pt-sir',\n",
              " 'trigger-warning',\n",
              " 'the-first-omen',\n",
              " 'sous-la-seine',\n",
              " 'stree',\n",
              " '777-charlie',\n",
              " 'laila-majnu',\n",
              " 'a-taxi-driver',\n",
              " 'ghostbusters-frozen-empire',\n",
              " 'swatantra-veer-savarkar',\n",
              " 'the-wolf-of-wall-street',\n",
              " 'siddharth-roy',\n",
              " 'yodha-2022',\n",
              " 'a-family-affair-2023',\n",
              " 'the-ministry-of-ungentlemanly-warfare',\n",
              " 'a-quiet-place-day-one',\n",
              " 'perfect-days',\n",
              " 'aquaman-and-the-lost-kingdom',\n",
              " 'hridayam',\n",
              " 'edge-of-tomorrow',\n",
              " 'jerry-and-marge-go-large',\n",
              " 'mr-and-mrs-mahi',\n",
              " 'bramayugam',\n",
              " 'bad-boys-4',\n",
              " 'the-iron-claw',\n",
              " 'silent-night-2023',\n",
              " 'gam-gam-ganesha',\n",
              " 'late-night-with-the-devil',\n",
              " 'a-quiet-place-part-ii',\n",
              " 'the-beekeeper-2024']"
            ]
          },
          "metadata": {},
          "execution_count": 15
        }
      ],
      "source": [
        "movie_names"
      ]
    },
    {
      "cell_type": "markdown",
      "metadata": {
        "id": "VEg1U1uPzGoj"
      },
      "source": [
        "## **Scrapping release Year**"
      ]
    },
    {
      "cell_type": "code",
      "execution_count": 16,
      "metadata": {
        "colab": {
          "base_uri": "https://localhost:8080/"
        },
        "id": "wLqLKOvP5Gmt",
        "outputId": "a913cefe-ccb5-4e51-8e37-6947a18a2709"
      },
      "outputs": [
        {
          "output_type": "stream",
          "name": "stdout",
          "text": [
            "{'Movie URL': 'https://www.justwatch.com/in/movie/project-k', 'Release Year': '2024'}\n",
            "{'Movie URL': 'https://www.justwatch.com/in/movie/munjha', 'Release Year': '2024'}\n",
            "{'Movie URL': 'https://www.justwatch.com/in/movie/aavesham-2024', 'Release Year': '2024'}\n",
            "{'Movie URL': 'https://www.justwatch.com/in/movie/family-star', 'Release Year': '2024'}\n",
            "{'Movie URL': 'https://www.justwatch.com/in/movie/the-gangster-the-cop-the-devil', 'Release Year': '2019'}\n",
            "{'Movie URL': 'https://www.justwatch.com/in/movie/the-fall-guy', 'Release Year': '2024'}\n",
            "{'Movie URL': 'https://www.justwatch.com/in/movie/hit-man', 'Release Year': '2024'}\n",
            "{'Movie URL': 'https://www.justwatch.com/in/movie/godzilla-minus-one', 'Release Year': '2023'}\n",
            "{'Movie URL': 'https://www.justwatch.com/in/movie/inside-out', 'Release Year': '2015'}\n",
            "{'Movie URL': 'https://www.justwatch.com/in/movie/godzilla-x-kong-the-new-empire', 'Release Year': '2024'}\n",
            "{'Movie URL': 'https://www.justwatch.com/in/movie/furiosa', 'Release Year': '2024'}\n",
            "{'Movie URL': 'https://www.justwatch.com/in/movie/manjummel-boys', 'Release Year': '2024'}\n",
            "{'Movie URL': 'https://www.justwatch.com/in/movie/laapataa-ladies', 'Release Year': '2024'}\n",
            "{'Movie URL': 'https://www.justwatch.com/in/movie/rockstar', 'Release Year': '2011'}\n",
            "{'Movie URL': 'https://www.justwatch.com/in/movie/dune-part-two', 'Release Year': 'Release Year not found'}\n",
            "{'Movie URL': 'https://www.justwatch.com/in/movie/the-crew-2024', 'Release Year': 'Release Year not found'}\n",
            "{'Movie URL': 'https://www.justwatch.com/in/movie/maharshi', 'Release Year': 'Release Year not found'}\n",
            "{'Movie URL': 'https://www.justwatch.com/in/movie/maharaja-2024', 'Release Year': 'Release Year not found'}\n",
            "{'Movie URL': 'https://www.justwatch.com/in/movie/civil-war-2024-0', 'Release Year': 'Release Year not found'}\n",
            "{'Movie URL': 'https://www.justwatch.com/in/movie/maidaan', 'Release Year': 'Release Year not found'}\n",
            "{'Movie URL': 'https://www.justwatch.com/in/movie/aranmanai-4', 'Release Year': 'Release Year not found'}\n",
            "{'Movie URL': 'https://www.justwatch.com/in/movie/oppenheimer', 'Release Year': 'Release Year not found'}\n",
            "{'Movie URL': 'https://www.justwatch.com/in/movie/sri-2023', 'Release Year': 'Release Year not found'}\n",
            "{'Movie URL': 'https://www.justwatch.com/in/movie/mad-max-fury-road', 'Release Year': '2015'}\n",
            "{'Movie URL': 'https://www.justwatch.com/in/movie/premalu', 'Release Year': 'Release Year not found'}\n",
            "{'Movie URL': 'https://www.justwatch.com/in/movie/365-days', 'Release Year': 'Release Year not found'}\n",
            "{'Movie URL': 'https://www.justwatch.com/in/movie/lovers-2024', 'Release Year': 'Release Year not found'}\n",
            "{'Movie URL': 'https://www.justwatch.com/in/movie/bade-miyan-chote-miyan-2023', 'Release Year': 'Release Year not found'}\n",
            "{'Movie URL': 'https://www.justwatch.com/in/movie/kung-fu-panda-4', 'Release Year': 'Release Year not found'}\n",
            "{'Movie URL': 'https://www.justwatch.com/in/movie/gangs-of-godavari', 'Release Year': 'Release Year not found'}\n",
            "{'Movie URL': 'https://www.justwatch.com/in/movie/challengers', 'Release Year': 'Release Year not found'}\n",
            "{'Movie URL': 'https://www.justwatch.com/in/movie/maharaj', 'Release Year': 'Release Year not found'}\n",
            "{'Movie URL': 'https://www.justwatch.com/in/movie/garudan-2024', 'Release Year': '2024'}\n",
            "{'Movie URL': 'https://www.justwatch.com/in/movie/hereditary', 'Release Year': 'Release Year not found'}\n",
            "{'Movie URL': 'https://www.justwatch.com/in/movie/inside-out-2', 'Release Year': 'Release Year not found'}\n",
            "{'Movie URL': 'https://www.justwatch.com/in/movie/12th-fail', 'Release Year': 'Release Year not found'}\n",
            "{'Movie URL': 'https://www.justwatch.com/in/movie/exhuma', 'Release Year': '2024'}\n",
            "{'Movie URL': 'https://www.justwatch.com/in/movie/madgaon-express', 'Release Year': 'Release Year not found'}\n",
            "{'Movie URL': 'https://www.justwatch.com/in/movie/je-jatt-vigad-gya', 'Release Year': 'Release Year not found'}\n",
            "{'Movie URL': 'https://www.justwatch.com/in/movie/animal-2022', 'Release Year': 'Release Year not found'}\n",
            "{'Movie URL': 'https://www.justwatch.com/in/movie/salaar', 'Release Year': 'Release Year not found'}\n",
            "{'Movie URL': 'https://www.justwatch.com/in/movie/hanu-man', 'Release Year': 'Release Year not found'}\n",
            "{'Movie URL': 'https://www.justwatch.com/in/movie/kingdom-of-the-planet-of-the-apes', 'Release Year': 'Release Year not found'}\n",
            "{'Movie URL': 'https://www.justwatch.com/in/movie/aadujeevitham', 'Release Year': 'Release Year not found'}\n",
            "{'Movie URL': 'https://www.justwatch.com/in/movie/kill-2024', 'Release Year': 'Release Year not found'}\n",
            "{'Movie URL': 'https://www.justwatch.com/in/movie/guruvayoor-ambalanadayil', 'Release Year': 'Release Year not found'}\n",
            "{'Movie URL': 'https://www.justwatch.com/in/movie/satyabhama', 'Release Year': 'Release Year not found'}\n",
            "{'Movie URL': 'https://www.justwatch.com/in/movie/dune-2021', 'Release Year': 'Release Year not found'}\n",
            "{'Movie URL': 'https://www.justwatch.com/in/movie/spider-man-no-way-home', 'Release Year': '2021'}\n",
            "{'Movie URL': 'https://www.justwatch.com/in/movie/mallari', 'Release Year': '2023'}\n",
            "{'Movie URL': 'https://www.justwatch.com/in/movie/varshangalkku-shesham', 'Release Year': 'Release Year not found'}\n",
            "{'Movie URL': 'https://www.justwatch.com/in/movie/anyone-but-you', 'Release Year': 'Release Year not found'}\n",
            "{'Movie URL': 'https://www.justwatch.com/in/movie/a-quiet-place', 'Release Year': 'Release Year not found'}\n",
            "{'Movie URL': 'https://www.justwatch.com/in/movie/chandu-champion', 'Release Year': 'Release Year not found'}\n",
            "{'Movie URL': 'https://www.justwatch.com/in/movie/the-adjustment-bureau', 'Release Year': 'Release Year not found'}\n",
            "{'Movie URL': 'https://www.justwatch.com/in/movie/abigail-2024', 'Release Year': '2024'}\n",
            "{'Movie URL': 'https://www.justwatch.com/in/movie/monster-2023', 'Release Year': 'Release Year not found'}\n",
            "{'Movie URL': 'https://www.justwatch.com/in/movie/black-magic-2024', 'Release Year': 'Release Year not found'}\n",
            "{'Movie URL': 'https://www.justwatch.com/in/movie/addicted', 'Release Year': 'Release Year not found'}\n",
            "{'Movie URL': 'https://www.justwatch.com/in/movie/rasavathi', 'Release Year': 'Release Year not found'}\n",
            "{'Movie URL': 'https://www.justwatch.com/in/movie/love-me-if-you-dare-2024', 'Release Year': 'Release Year not found'}\n",
            "{'Movie URL': 'https://www.justwatch.com/in/movie/freelance', 'Release Year': 'Release Year not found'}\n",
            "{'Movie URL': 'https://www.justwatch.com/in/movie/pushpa', 'Release Year': 'Release Year not found'}\n",
            "{'Movie URL': 'https://www.justwatch.com/in/movie/sam-bahadur', 'Release Year': 'Release Year not found'}\n",
            "{'Movie URL': 'https://www.justwatch.com/in/movie/harry-potter-and-the-philosophers-stone', 'Release Year': 'Release Year not found'}\n",
            "{'Movie URL': 'https://www.justwatch.com/in/movie/tumbbad', 'Release Year': 'Release Year not found'}\n",
            "{'Movie URL': 'https://www.justwatch.com/in/movie/k-g-f-chapter-1', 'Release Year': '2018'}\n",
            "{'Movie URL': 'https://www.justwatch.com/in/movie/blink-2024', 'Release Year': 'Release Year not found'}\n",
            "{'Movie URL': 'https://www.justwatch.com/in/movie/monkey-man', 'Release Year': 'Release Year not found'}\n",
            "{'Movie URL': 'https://www.justwatch.com/in/movie/kurangu-pedal', 'Release Year': 'Release Year not found'}\n",
            "{'Movie URL': 'https://www.justwatch.com/in/movie/pt-sir', 'Release Year': 'Release Year not found'}\n",
            "{'Movie URL': 'https://www.justwatch.com/in/movie/trigger-warning', 'Release Year': '2024'}\n",
            "{'Movie URL': 'https://www.justwatch.com/in/movie/the-first-omen', 'Release Year': 'Release Year not found'}\n",
            "{'Movie URL': 'https://www.justwatch.com/in/movie/sous-la-seine', 'Release Year': 'Release Year not found'}\n",
            "{'Movie URL': 'https://www.justwatch.com/in/movie/stree', 'Release Year': 'Release Year not found'}\n",
            "{'Movie URL': 'https://www.justwatch.com/in/movie/777-charlie', 'Release Year': 'Release Year not found'}\n",
            "{'Movie URL': 'https://www.justwatch.com/in/movie/laila-majnu', 'Release Year': 'Release Year not found'}\n",
            "{'Movie URL': 'https://www.justwatch.com/in/movie/a-taxi-driver', 'Release Year': 'Release Year not found'}\n",
            "{'Movie URL': 'https://www.justwatch.com/in/movie/ghostbusters-frozen-empire', 'Release Year': 'Release Year not found'}\n",
            "{'Movie URL': 'https://www.justwatch.com/in/movie/swatantra-veer-savarkar', 'Release Year': 'Release Year not found'}\n",
            "{'Movie URL': 'https://www.justwatch.com/in/movie/the-wolf-of-wall-street', 'Release Year': 'Release Year not found'}\n",
            "{'Movie URL': 'https://www.justwatch.com/in/movie/siddharth-roy', 'Release Year': 'Release Year not found'}\n",
            "{'Movie URL': 'https://www.justwatch.com/in/movie/yodha-2022', 'Release Year': 'Release Year not found'}\n",
            "{'Movie URL': 'https://www.justwatch.com/in/movie/a-family-affair-2023', 'Release Year': 'Release Year not found'}\n",
            "{'Movie URL': 'https://www.justwatch.com/in/movie/the-ministry-of-ungentlemanly-warfare', 'Release Year': 'Release Year not found'}\n",
            "{'Movie URL': 'https://www.justwatch.com/in/movie/a-quiet-place-day-one', 'Release Year': '2024'}\n",
            "{'Movie URL': 'https://www.justwatch.com/in/movie/perfect-days', 'Release Year': 'Release Year not found'}\n",
            "{'Movie URL': 'https://www.justwatch.com/in/movie/aquaman-and-the-lost-kingdom', 'Release Year': 'Release Year not found'}\n",
            "{'Movie URL': 'https://www.justwatch.com/in/movie/hridayam', 'Release Year': 'Release Year not found'}\n",
            "{'Movie URL': 'https://www.justwatch.com/in/movie/edge-of-tomorrow', 'Release Year': 'Release Year not found'}\n",
            "{'Movie URL': 'https://www.justwatch.com/in/movie/jerry-and-marge-go-large', 'Release Year': 'Release Year not found'}\n",
            "{'Movie URL': 'https://www.justwatch.com/in/movie/mr-and-mrs-mahi', 'Release Year': 'Release Year not found'}\n",
            "{'Movie URL': 'https://www.justwatch.com/in/movie/bramayugam', 'Release Year': 'Release Year not found'}\n",
            "{'Movie URL': 'https://www.justwatch.com/in/movie/bad-boys-4', 'Release Year': 'Release Year not found'}\n",
            "{'Movie URL': 'https://www.justwatch.com/in/movie/the-iron-claw', 'Release Year': 'Release Year not found'}\n",
            "{'Movie URL': 'https://www.justwatch.com/in/movie/silent-night-2023', 'Release Year': 'Release Year not found'}\n",
            "{'Movie URL': 'https://www.justwatch.com/in/movie/gam-gam-ganesha', 'Release Year': '2024'}\n",
            "{'Movie URL': 'https://www.justwatch.com/in/movie/late-night-with-the-devil', 'Release Year': 'Release Year not found'}\n",
            "{'Movie URL': 'https://www.justwatch.com/in/movie/a-quiet-place-part-ii', 'Release Year': 'Release Year not found'}\n",
            "{'Movie URL': 'https://www.justwatch.com/in/movie/the-beekeeper-2024', 'Release Year': 'Release Year not found'}\n"
          ]
        }
      ],
      "source": [
        "# Write Your Code here\n",
        "Release_year=[]\n",
        "for movie_url in movies:\n",
        "    driver.get(movie_url)\n",
        "\n",
        "    try:\n",
        "        # Find the release year element\n",
        "        release_year_element = driver.find_element(By.XPATH, \"//span[@class='text-muted']\")\n",
        "        release_year = release_year_element.text.strip(\"()\")\n",
        "    except:\n",
        "        release_year = \"Release Year not found\"\n",
        "    Release_year.append({\"Movie URL\": movie_url, \"Release Year\": release_year})\n",
        "\n",
        "for cur_movie in Release_year:\n",
        "  print(cur_movie)"
      ]
    },
    {
      "cell_type": "code",
      "execution_count": 17,
      "metadata": {
        "id": "WLPQarMptK-c"
      },
      "outputs": [],
      "source": [
        "# Extract release years from the Release_year list\n",
        "movie_release_years = [year[\"Release Year\"] for year in Release_year]\n"
      ]
    },
    {
      "cell_type": "code",
      "execution_count": 18,
      "metadata": {
        "colab": {
          "base_uri": "https://localhost:8080/"
        },
        "id": "FpUUxzuQvXMz",
        "outputId": "7c9584b8-9ed3-4949-9593-c1c00a9b1993"
      },
      "outputs": [
        {
          "output_type": "execute_result",
          "data": {
            "text/plain": [
              "['2024',\n",
              " '2024',\n",
              " '2024',\n",
              " '2024',\n",
              " '2019',\n",
              " '2024',\n",
              " '2024',\n",
              " '2023',\n",
              " '2015',\n",
              " '2024',\n",
              " '2024',\n",
              " '2024',\n",
              " '2024',\n",
              " '2011',\n",
              " 'Release Year not found',\n",
              " 'Release Year not found',\n",
              " 'Release Year not found',\n",
              " 'Release Year not found',\n",
              " 'Release Year not found',\n",
              " 'Release Year not found',\n",
              " 'Release Year not found',\n",
              " 'Release Year not found',\n",
              " 'Release Year not found',\n",
              " '2015',\n",
              " 'Release Year not found',\n",
              " 'Release Year not found',\n",
              " 'Release Year not found',\n",
              " 'Release Year not found',\n",
              " 'Release Year not found',\n",
              " 'Release Year not found',\n",
              " 'Release Year not found',\n",
              " 'Release Year not found',\n",
              " '2024',\n",
              " 'Release Year not found',\n",
              " 'Release Year not found',\n",
              " 'Release Year not found',\n",
              " '2024',\n",
              " 'Release Year not found',\n",
              " 'Release Year not found',\n",
              " 'Release Year not found',\n",
              " 'Release Year not found',\n",
              " 'Release Year not found',\n",
              " 'Release Year not found',\n",
              " 'Release Year not found',\n",
              " 'Release Year not found',\n",
              " 'Release Year not found',\n",
              " 'Release Year not found',\n",
              " 'Release Year not found',\n",
              " '2021',\n",
              " '2023',\n",
              " 'Release Year not found',\n",
              " 'Release Year not found',\n",
              " 'Release Year not found',\n",
              " 'Release Year not found',\n",
              " 'Release Year not found',\n",
              " '2024',\n",
              " 'Release Year not found',\n",
              " 'Release Year not found',\n",
              " 'Release Year not found',\n",
              " 'Release Year not found',\n",
              " 'Release Year not found',\n",
              " 'Release Year not found',\n",
              " 'Release Year not found',\n",
              " 'Release Year not found',\n",
              " 'Release Year not found',\n",
              " 'Release Year not found',\n",
              " '2018',\n",
              " 'Release Year not found',\n",
              " 'Release Year not found',\n",
              " 'Release Year not found',\n",
              " 'Release Year not found',\n",
              " '2024',\n",
              " 'Release Year not found',\n",
              " 'Release Year not found',\n",
              " 'Release Year not found',\n",
              " 'Release Year not found',\n",
              " 'Release Year not found',\n",
              " 'Release Year not found',\n",
              " 'Release Year not found',\n",
              " 'Release Year not found',\n",
              " 'Release Year not found',\n",
              " 'Release Year not found',\n",
              " 'Release Year not found',\n",
              " 'Release Year not found',\n",
              " 'Release Year not found',\n",
              " '2024',\n",
              " 'Release Year not found',\n",
              " 'Release Year not found',\n",
              " 'Release Year not found',\n",
              " 'Release Year not found',\n",
              " 'Release Year not found',\n",
              " 'Release Year not found',\n",
              " 'Release Year not found',\n",
              " 'Release Year not found',\n",
              " 'Release Year not found',\n",
              " 'Release Year not found',\n",
              " '2024',\n",
              " 'Release Year not found',\n",
              " 'Release Year not found',\n",
              " 'Release Year not found']"
            ]
          },
          "metadata": {},
          "execution_count": 18
        }
      ],
      "source": [
        "movie_release_years"
      ]
    },
    {
      "cell_type": "markdown",
      "metadata": {
        "id": "aqzhL8STqaMX"
      },
      "source": [
        "## **Scrapping Genres**"
      ]
    },
    {
      "cell_type": "code",
      "execution_count": 19,
      "metadata": {
        "colab": {
          "base_uri": "https://localhost:8080/"
        },
        "id": "NYGVsfKjrDWr",
        "outputId": "3fae0189-95f4-4352-f87b-a3e3c268d0d5"
      },
      "outputs": [
        {
          "output_type": "stream",
          "name": "stdout",
          "text": [
            "[]\n"
          ]
        }
      ],
      "source": [
        "# Write Your Code here\n",
        "#scrapping genre\n",
        "def fetch_genre(url):\n",
        "    response = requests.get(url)\n",
        "    if response.status_code == 200:\n",
        "        soup = BeautifulSoup(response.content, 'html.parser')\n",
        "\n",
        "        # Find the genres using the provided XPath expression\n",
        "        genres_heading = soup.find('h3', class_='detail-infos__subheading', text='Genres')\n",
        "        if genres_heading:\n",
        "            genres_element = genres_heading.find_next_sibling('div', class_='detail-infos__value')\n",
        "            genres = genres_element.text.strip()\n",
        "\n",
        "            # Split the genres into a list\n",
        "            genres_list = [genre.strip() for genre in genres.split(',')]\n",
        "            return genres_list\n",
        "    return None\n",
        "\n",
        "# Fetch genres for each URL in 'movies' and store in a new list 'all_genres'\n",
        "movie_genres = []\n",
        "\n",
        "for movie_url in movies:\n",
        "    genres = fetch_genre(movie_url)\n",
        "    if genres:\n",
        "        movie_genres.extend(genres)\n",
        "\n",
        "# Print the list of all genres\n",
        "print(movie_genres)"
      ]
    },
    {
      "cell_type": "code",
      "execution_count": 20,
      "metadata": {
        "colab": {
          "base_uri": "https://localhost:8080/"
        },
        "id": "CKKsLbEIve5p",
        "outputId": "c661a409-9e46-4eff-b996-c2a79f33f0a4"
      },
      "outputs": [
        {
          "output_type": "execute_result",
          "data": {
            "text/plain": [
              "[]"
            ]
          },
          "metadata": {},
          "execution_count": 20
        }
      ],
      "source": [
        "movie_genres"
      ]
    },
    {
      "cell_type": "markdown",
      "metadata": {
        "id": "UOof6-0xFuf6"
      },
      "source": [
        "## **Scrapping IMBD Rating**"
      ]
    },
    {
      "cell_type": "code",
      "execution_count": 21,
      "metadata": {
        "id": "kmyMu1Oxk9jI"
      },
      "outputs": [],
      "source": [
        "#scrapping imdb rating\n",
        "def fetch_imdb(url):\n",
        "    response = requests.get(url)\n",
        "    if response.status_code == 200:\n",
        "        soup = BeautifulSoup(response.content, 'html.parser')\n",
        "\n",
        "        # Find the genres using the provided XPath expression\n",
        "        imdb_heading = soup.find('h3', class_='detail-infos__subheading', text='Rating')\n",
        "        if imdb_heading:\n",
        "            imdb_element = imdb_heading.find_next_sibling('div', class_='detail-infos__value')\n",
        "            imdb = imdb_element.text.strip()\n",
        "\n",
        "            # Split the genres into a list\n",
        "            imdb_list = [imdb.strip() for imdb in imdb.split(',')]\n",
        "            return imdb_list\n",
        "    return None\n",
        "\n",
        "# Fetch genres for each URL in 'movies' and store in a new list 'all_genres'\n",
        "movie_imdb = []\n",
        "\n",
        "for movie_url in movies:\n",
        "    imdb = fetch_imdb(movie_url)\n",
        "    if imdb:\n",
        "        movie_imdb.extend(imdb)"
      ]
    },
    {
      "cell_type": "code",
      "execution_count": 22,
      "metadata": {
        "colab": {
          "base_uri": "https://localhost:8080/"
        },
        "id": "4xGYsg_vqzYC",
        "outputId": "c28fd6ce-f150-4857-cd56-22a8fcec346a"
      },
      "outputs": [
        {
          "output_type": "execute_result",
          "data": {
            "text/plain": [
              "[]"
            ]
          },
          "metadata": {},
          "execution_count": 22
        }
      ],
      "source": [
        "movie_imdb"
      ]
    },
    {
      "cell_type": "markdown",
      "metadata": {
        "id": "IrJlIsBWrO2r"
      },
      "source": [
        "## **Fetching Streaming Service Details**"
      ]
    },
    {
      "cell_type": "code",
      "execution_count": 23,
      "metadata": {
        "colab": {
          "base_uri": "https://localhost:8080/"
        },
        "id": "Yk72jDLZu7EZ",
        "outputId": "8f4293bf-95d9-4f2e-a238-7ca8c2d2bde7"
      },
      "outputs": [
        {
          "output_type": "stream",
          "name": "stdout",
          "text": [
            "{'Movie URL': 'https://www.justwatch.com/in/movie/project-k', 'Provider Name': 'Bookmyshow'}\n",
            "{'Movie URL': 'https://www.justwatch.com/in/movie/munjha', 'Provider Name': 'Bookmyshow'}\n",
            "{'Movie URL': 'https://www.justwatch.com/in/movie/aavesham-2024', 'Provider Name': 'Amazon Prime Video'}\n",
            "{'Movie URL': 'https://www.justwatch.com/in/movie/family-star', 'Provider Name': 'Amazon Prime Video'}\n",
            "{'Movie URL': 'https://www.justwatch.com/in/movie/the-gangster-the-cop-the-devil', 'Provider Name': 'Lionsgate Play'}\n",
            "{'Movie URL': 'https://www.justwatch.com/in/movie/the-fall-guy', 'Provider Name': 'Apple TV'}\n",
            "{'Movie URL': 'https://www.justwatch.com/in/movie/hit-man', 'Provider Name': 'Netflix'}\n",
            "{'Movie URL': 'https://www.justwatch.com/in/movie/godzilla-minus-one', 'Provider Name': 'Netflix'}\n",
            "{'Movie URL': 'https://www.justwatch.com/in/movie/inside-out', 'Provider Name': 'Apple TV'}\n",
            "{'Movie URL': 'https://www.justwatch.com/in/movie/godzilla-x-kong-the-new-empire', 'Provider Name': 'Apple TV'}\n",
            "{'Movie URL': 'https://www.justwatch.com/in/movie/furiosa', 'Provider Name': 'Provider not found'}\n",
            "{'Movie URL': 'https://www.justwatch.com/in/movie/manjummel-boys', 'Provider Name': 'Provider not found'}\n",
            "{'Movie URL': 'https://www.justwatch.com/in/movie/laapataa-ladies', 'Provider Name': 'Provider not found'}\n",
            "{'Movie URL': 'https://www.justwatch.com/in/movie/rockstar', 'Provider Name': 'Provider not found'}\n",
            "{'Movie URL': 'https://www.justwatch.com/in/movie/dune-part-two', 'Provider Name': 'Provider not found'}\n",
            "{'Movie URL': 'https://www.justwatch.com/in/movie/the-crew-2024', 'Provider Name': 'Provider not found'}\n",
            "{'Movie URL': 'https://www.justwatch.com/in/movie/maharshi', 'Provider Name': 'Provider not found'}\n",
            "{'Movie URL': 'https://www.justwatch.com/in/movie/maharaja-2024', 'Provider Name': 'Provider not found'}\n",
            "{'Movie URL': 'https://www.justwatch.com/in/movie/civil-war-2024-0', 'Provider Name': 'Provider not found'}\n",
            "{'Movie URL': 'https://www.justwatch.com/in/movie/maidaan', 'Provider Name': 'Provider not found'}\n",
            "{'Movie URL': 'https://www.justwatch.com/in/movie/aranmanai-4', 'Provider Name': 'Provider not found'}\n",
            "{'Movie URL': 'https://www.justwatch.com/in/movie/oppenheimer', 'Provider Name': 'Provider not found'}\n",
            "{'Movie URL': 'https://www.justwatch.com/in/movie/sri-2023', 'Provider Name': 'Provider not found'}\n",
            "{'Movie URL': 'https://www.justwatch.com/in/movie/mad-max-fury-road', 'Provider Name': 'Provider not found'}\n",
            "{'Movie URL': 'https://www.justwatch.com/in/movie/premalu', 'Provider Name': 'Provider not found'}\n",
            "{'Movie URL': 'https://www.justwatch.com/in/movie/365-days', 'Provider Name': 'Provider not found'}\n",
            "{'Movie URL': 'https://www.justwatch.com/in/movie/lovers-2024', 'Provider Name': 'Provider not found'}\n",
            "{'Movie URL': 'https://www.justwatch.com/in/movie/bade-miyan-chote-miyan-2023', 'Provider Name': 'Netflix'}\n",
            "{'Movie URL': 'https://www.justwatch.com/in/movie/kung-fu-panda-4', 'Provider Name': 'Provider not found'}\n",
            "{'Movie URL': 'https://www.justwatch.com/in/movie/gangs-of-godavari', 'Provider Name': 'Provider not found'}\n",
            "{'Movie URL': 'https://www.justwatch.com/in/movie/challengers', 'Provider Name': 'Provider not found'}\n",
            "{'Movie URL': 'https://www.justwatch.com/in/movie/maharaj', 'Provider Name': 'Netflix'}\n",
            "{'Movie URL': 'https://www.justwatch.com/in/movie/garudan-2024', 'Provider Name': 'Amazon Prime Video'}\n",
            "{'Movie URL': 'https://www.justwatch.com/in/movie/hereditary', 'Provider Name': 'Provider not found'}\n",
            "{'Movie URL': 'https://www.justwatch.com/in/movie/inside-out-2', 'Provider Name': 'Provider not found'}\n",
            "{'Movie URL': 'https://www.justwatch.com/in/movie/12th-fail', 'Provider Name': 'Provider not found'}\n",
            "{'Movie URL': 'https://www.justwatch.com/in/movie/exhuma', 'Provider Name': 'Provider not found'}\n",
            "{'Movie URL': 'https://www.justwatch.com/in/movie/madgaon-express', 'Provider Name': 'Provider not found'}\n",
            "{'Movie URL': 'https://www.justwatch.com/in/movie/je-jatt-vigad-gya', 'Provider Name': 'Bookmyshow'}\n",
            "{'Movie URL': 'https://www.justwatch.com/in/movie/animal-2022', 'Provider Name': 'Provider not found'}\n",
            "{'Movie URL': 'https://www.justwatch.com/in/movie/salaar', 'Provider Name': 'Provider not found'}\n",
            "{'Movie URL': 'https://www.justwatch.com/in/movie/hanu-man', 'Provider Name': 'Provider not found'}\n",
            "{'Movie URL': 'https://www.justwatch.com/in/movie/kingdom-of-the-planet-of-the-apes', 'Provider Name': 'Provider not found'}\n",
            "{'Movie URL': 'https://www.justwatch.com/in/movie/aadujeevitham', 'Provider Name': 'Provider not found'}\n",
            "{'Movie URL': 'https://www.justwatch.com/in/movie/kill-2024', 'Provider Name': 'Provider not found'}\n",
            "{'Movie URL': 'https://www.justwatch.com/in/movie/guruvayoor-ambalanadayil', 'Provider Name': 'Provider not found'}\n",
            "{'Movie URL': 'https://www.justwatch.com/in/movie/satyabhama', 'Provider Name': 'Provider not found'}\n",
            "{'Movie URL': 'https://www.justwatch.com/in/movie/dune-2021', 'Provider Name': 'Provider not found'}\n",
            "{'Movie URL': 'https://www.justwatch.com/in/movie/spider-man-no-way-home', 'Provider Name': 'Provider not found'}\n",
            "{'Movie URL': 'https://www.justwatch.com/in/movie/mallari', 'Provider Name': 'Provider not found'}\n",
            "{'Movie URL': 'https://www.justwatch.com/in/movie/varshangalkku-shesham', 'Provider Name': 'Provider not found'}\n",
            "{'Movie URL': 'https://www.justwatch.com/in/movie/anyone-but-you', 'Provider Name': 'Apple TV'}\n",
            "{'Movie URL': 'https://www.justwatch.com/in/movie/a-quiet-place', 'Provider Name': 'Amazon Prime Video'}\n",
            "{'Movie URL': 'https://www.justwatch.com/in/movie/chandu-champion', 'Provider Name': 'Provider not found'}\n",
            "{'Movie URL': 'https://www.justwatch.com/in/movie/the-adjustment-bureau', 'Provider Name': 'Apple TV'}\n",
            "{'Movie URL': 'https://www.justwatch.com/in/movie/abigail-2024', 'Provider Name': 'Provider not found'}\n",
            "{'Movie URL': 'https://www.justwatch.com/in/movie/monster-2023', 'Provider Name': 'Provider not found'}\n",
            "{'Movie URL': 'https://www.justwatch.com/in/movie/black-magic-2024', 'Provider Name': 'Provider not found'}\n",
            "{'Movie URL': 'https://www.justwatch.com/in/movie/addicted', 'Provider Name': 'Provider not found'}\n",
            "{'Movie URL': 'https://www.justwatch.com/in/movie/rasavathi', 'Provider Name': 'Provider not found'}\n",
            "{'Movie URL': 'https://www.justwatch.com/in/movie/love-me-if-you-dare-2024', 'Provider Name': 'Provider not found'}\n",
            "{'Movie URL': 'https://www.justwatch.com/in/movie/freelance', 'Provider Name': 'Amazon Prime Video'}\n",
            "{'Movie URL': 'https://www.justwatch.com/in/movie/pushpa', 'Provider Name': 'Amazon Prime Video'}\n",
            "{'Movie URL': 'https://www.justwatch.com/in/movie/sam-bahadur', 'Provider Name': 'Zee5'}\n",
            "{'Movie URL': 'https://www.justwatch.com/in/movie/harry-potter-and-the-philosophers-stone', 'Provider Name': 'Provider not found'}\n",
            "{'Movie URL': 'https://www.justwatch.com/in/movie/tumbbad', 'Provider Name': 'Provider not found'}\n",
            "{'Movie URL': 'https://www.justwatch.com/in/movie/k-g-f-chapter-1', 'Provider Name': 'Hotstar'}\n",
            "{'Movie URL': 'https://www.justwatch.com/in/movie/blink-2024', 'Provider Name': 'Provider not found'}\n",
            "{'Movie URL': 'https://www.justwatch.com/in/movie/monkey-man', 'Provider Name': 'Provider not found'}\n",
            "{'Movie URL': 'https://www.justwatch.com/in/movie/kurangu-pedal', 'Provider Name': 'Provider not found'}\n",
            "{'Movie URL': 'https://www.justwatch.com/in/movie/pt-sir', 'Provider Name': 'Provider not found'}\n",
            "{'Movie URL': 'https://www.justwatch.com/in/movie/trigger-warning', 'Provider Name': 'Netflix'}\n",
            "{'Movie URL': 'https://www.justwatch.com/in/movie/the-first-omen', 'Provider Name': 'Apple TV'}\n",
            "{'Movie URL': 'https://www.justwatch.com/in/movie/sous-la-seine', 'Provider Name': 'Provider not found'}\n",
            "{'Movie URL': 'https://www.justwatch.com/in/movie/stree', 'Provider Name': 'Provider not found'}\n",
            "{'Movie URL': 'https://www.justwatch.com/in/movie/777-charlie', 'Provider Name': 'Provider not found'}\n",
            "{'Movie URL': 'https://www.justwatch.com/in/movie/laila-majnu', 'Provider Name': 'Provider not found'}\n",
            "{'Movie URL': 'https://www.justwatch.com/in/movie/a-taxi-driver', 'Provider Name': 'Provider not found'}\n",
            "{'Movie URL': 'https://www.justwatch.com/in/movie/ghostbusters-frozen-empire', 'Provider Name': 'Provider not found'}\n",
            "{'Movie URL': 'https://www.justwatch.com/in/movie/swatantra-veer-savarkar', 'Provider Name': 'Provider not found'}\n",
            "{'Movie URL': 'https://www.justwatch.com/in/movie/the-wolf-of-wall-street', 'Provider Name': 'Provider not found'}\n",
            "{'Movie URL': 'https://www.justwatch.com/in/movie/siddharth-roy', 'Provider Name': 'Provider not found'}\n",
            "{'Movie URL': 'https://www.justwatch.com/in/movie/yodha-2022', 'Provider Name': 'Provider not found'}\n",
            "{'Movie URL': 'https://www.justwatch.com/in/movie/a-family-affair-2023', 'Provider Name': 'Netflix'}\n",
            "{'Movie URL': 'https://www.justwatch.com/in/movie/the-ministry-of-ungentlemanly-warfare', 'Provider Name': 'Provider not found'}\n",
            "{'Movie URL': 'https://www.justwatch.com/in/movie/a-quiet-place-day-one', 'Provider Name': 'Provider not found'}\n",
            "{'Movie URL': 'https://www.justwatch.com/in/movie/perfect-days', 'Provider Name': 'Provider not found'}\n",
            "{'Movie URL': 'https://www.justwatch.com/in/movie/aquaman-and-the-lost-kingdom', 'Provider Name': 'Provider not found'}\n",
            "{'Movie URL': 'https://www.justwatch.com/in/movie/hridayam', 'Provider Name': 'Provider not found'}\n",
            "{'Movie URL': 'https://www.justwatch.com/in/movie/edge-of-tomorrow', 'Provider Name': 'Provider not found'}\n",
            "{'Movie URL': 'https://www.justwatch.com/in/movie/jerry-and-marge-go-large', 'Provider Name': 'Provider not found'}\n",
            "{'Movie URL': 'https://www.justwatch.com/in/movie/mr-and-mrs-mahi', 'Provider Name': 'Provider not found'}\n",
            "{'Movie URL': 'https://www.justwatch.com/in/movie/bramayugam', 'Provider Name': 'Provider not found'}\n",
            "{'Movie URL': 'https://www.justwatch.com/in/movie/bad-boys-4', 'Provider Name': 'Provider not found'}\n",
            "{'Movie URL': 'https://www.justwatch.com/in/movie/the-iron-claw', 'Provider Name': 'Provider not found'}\n",
            "{'Movie URL': 'https://www.justwatch.com/in/movie/silent-night-2023', 'Provider Name': 'Amazon Prime Video'}\n",
            "{'Movie URL': 'https://www.justwatch.com/in/movie/gam-gam-ganesha', 'Provider Name': 'Provider not found'}\n",
            "{'Movie URL': 'https://www.justwatch.com/in/movie/late-night-with-the-devil', 'Provider Name': 'Provider not found'}\n",
            "{'Movie URL': 'https://www.justwatch.com/in/movie/a-quiet-place-part-ii', 'Provider Name': 'Provider not found'}\n",
            "{'Movie URL': 'https://www.justwatch.com/in/movie/the-beekeeper-2024', 'Provider Name': 'Provider not found'}\n"
          ]
        }
      ],
      "source": [
        "# Write Your Code here\n",
        "Provider = []\n",
        "\n",
        "for movie_url in movies:\n",
        "    driver.get(movie_url)\n",
        "\n",
        "    try:\n",
        "        # Find the provider element\n",
        "        provider_element = driver.find_element(By.XPATH, \"//img[@class='offer__icon']\")\n",
        "        provider_name = provider_element.get_attribute('alt')\n",
        "    except:\n",
        "        provider_name = \"Provider not found\"\n",
        "\n",
        "    Provider.append({\"Movie URL\": movie_url, \"Provider Name\": provider_name})\n",
        "\n",
        "for stream in Provider:\n",
        "  print(stream)"
      ]
    },
    {
      "cell_type": "code",
      "execution_count": 25,
      "metadata": {
        "id": "x_W8Ckjbt0JH"
      },
      "outputs": [],
      "source": [
        "Movie_streaming = [movie_info['Provider Name'] for movie_info in Provider]\n"
      ]
    },
    {
      "cell_type": "code",
      "execution_count": 26,
      "metadata": {
        "id": "SZCB4nzJt-8X",
        "colab": {
          "base_uri": "https://localhost:8080/"
        },
        "outputId": "7880e9d9-92ec-4e2b-c9f9-be00d06eedb6"
      },
      "outputs": [
        {
          "output_type": "execute_result",
          "data": {
            "text/plain": [
              "['Bookmyshow',\n",
              " 'Bookmyshow',\n",
              " 'Amazon Prime Video',\n",
              " 'Amazon Prime Video',\n",
              " 'Lionsgate Play',\n",
              " 'Apple TV',\n",
              " 'Netflix',\n",
              " 'Netflix',\n",
              " 'Apple TV',\n",
              " 'Apple TV',\n",
              " 'Provider not found',\n",
              " 'Provider not found',\n",
              " 'Provider not found',\n",
              " 'Provider not found',\n",
              " 'Provider not found',\n",
              " 'Provider not found',\n",
              " 'Provider not found',\n",
              " 'Provider not found',\n",
              " 'Provider not found',\n",
              " 'Provider not found',\n",
              " 'Provider not found',\n",
              " 'Provider not found',\n",
              " 'Provider not found',\n",
              " 'Provider not found',\n",
              " 'Provider not found',\n",
              " 'Provider not found',\n",
              " 'Provider not found',\n",
              " 'Netflix',\n",
              " 'Provider not found',\n",
              " 'Provider not found',\n",
              " 'Provider not found',\n",
              " 'Netflix',\n",
              " 'Amazon Prime Video',\n",
              " 'Provider not found',\n",
              " 'Provider not found',\n",
              " 'Provider not found',\n",
              " 'Provider not found',\n",
              " 'Provider not found',\n",
              " 'Bookmyshow',\n",
              " 'Provider not found',\n",
              " 'Provider not found',\n",
              " 'Provider not found',\n",
              " 'Provider not found',\n",
              " 'Provider not found',\n",
              " 'Provider not found',\n",
              " 'Provider not found',\n",
              " 'Provider not found',\n",
              " 'Provider not found',\n",
              " 'Provider not found',\n",
              " 'Provider not found',\n",
              " 'Provider not found',\n",
              " 'Apple TV',\n",
              " 'Amazon Prime Video',\n",
              " 'Provider not found',\n",
              " 'Apple TV',\n",
              " 'Provider not found',\n",
              " 'Provider not found',\n",
              " 'Provider not found',\n",
              " 'Provider not found',\n",
              " 'Provider not found',\n",
              " 'Provider not found',\n",
              " 'Amazon Prime Video',\n",
              " 'Amazon Prime Video',\n",
              " 'Zee5',\n",
              " 'Provider not found',\n",
              " 'Provider not found',\n",
              " 'Hotstar',\n",
              " 'Provider not found',\n",
              " 'Provider not found',\n",
              " 'Provider not found',\n",
              " 'Provider not found',\n",
              " 'Netflix',\n",
              " 'Apple TV',\n",
              " 'Provider not found',\n",
              " 'Provider not found',\n",
              " 'Provider not found',\n",
              " 'Provider not found',\n",
              " 'Provider not found',\n",
              " 'Provider not found',\n",
              " 'Provider not found',\n",
              " 'Provider not found',\n",
              " 'Provider not found',\n",
              " 'Provider not found',\n",
              " 'Netflix',\n",
              " 'Provider not found',\n",
              " 'Provider not found',\n",
              " 'Provider not found',\n",
              " 'Provider not found',\n",
              " 'Provider not found',\n",
              " 'Provider not found',\n",
              " 'Provider not found',\n",
              " 'Provider not found',\n",
              " 'Provider not found',\n",
              " 'Provider not found',\n",
              " 'Provider not found',\n",
              " 'Amazon Prime Video',\n",
              " 'Provider not found',\n",
              " 'Provider not found',\n",
              " 'Provider not found',\n",
              " 'Provider not found']"
            ]
          },
          "metadata": {},
          "execution_count": 26
        }
      ],
      "source": [
        "Movie_streaming"
      ]
    },
    {
      "cell_type": "code",
      "execution_count": 27,
      "metadata": {
        "id": "dMcSEl_RwwCV",
        "colab": {
          "base_uri": "https://localhost:8080/"
        },
        "outputId": "fccc3735-1834-4297-a70d-76fefc458a30"
      },
      "outputs": [
        {
          "output_type": "execute_result",
          "data": {
            "text/plain": [
              "['https://www.justwatch.com/in/movie/project-k',\n",
              " 'https://www.justwatch.com/in/movie/munjha',\n",
              " 'https://www.justwatch.com/in/movie/aavesham-2024',\n",
              " 'https://www.justwatch.com/in/movie/family-star',\n",
              " 'https://www.justwatch.com/in/movie/the-gangster-the-cop-the-devil',\n",
              " 'https://www.justwatch.com/in/movie/the-fall-guy',\n",
              " 'https://www.justwatch.com/in/movie/hit-man',\n",
              " 'https://www.justwatch.com/in/movie/godzilla-minus-one',\n",
              " 'https://www.justwatch.com/in/movie/inside-out',\n",
              " 'https://www.justwatch.com/in/movie/godzilla-x-kong-the-new-empire',\n",
              " 'https://www.justwatch.com/in/movie/furiosa',\n",
              " 'https://www.justwatch.com/in/movie/manjummel-boys',\n",
              " 'https://www.justwatch.com/in/movie/laapataa-ladies',\n",
              " 'https://www.justwatch.com/in/movie/rockstar',\n",
              " 'https://www.justwatch.com/in/movie/dune-part-two',\n",
              " 'https://www.justwatch.com/in/movie/the-crew-2024',\n",
              " 'https://www.justwatch.com/in/movie/maharshi',\n",
              " 'https://www.justwatch.com/in/movie/maharaja-2024',\n",
              " 'https://www.justwatch.com/in/movie/civil-war-2024-0',\n",
              " 'https://www.justwatch.com/in/movie/maidaan',\n",
              " 'https://www.justwatch.com/in/movie/aranmanai-4',\n",
              " 'https://www.justwatch.com/in/movie/oppenheimer',\n",
              " 'https://www.justwatch.com/in/movie/sri-2023',\n",
              " 'https://www.justwatch.com/in/movie/mad-max-fury-road',\n",
              " 'https://www.justwatch.com/in/movie/premalu',\n",
              " 'https://www.justwatch.com/in/movie/365-days',\n",
              " 'https://www.justwatch.com/in/movie/lovers-2024',\n",
              " 'https://www.justwatch.com/in/movie/bade-miyan-chote-miyan-2023',\n",
              " 'https://www.justwatch.com/in/movie/kung-fu-panda-4',\n",
              " 'https://www.justwatch.com/in/movie/gangs-of-godavari',\n",
              " 'https://www.justwatch.com/in/movie/challengers',\n",
              " 'https://www.justwatch.com/in/movie/maharaj',\n",
              " 'https://www.justwatch.com/in/movie/garudan-2024',\n",
              " 'https://www.justwatch.com/in/movie/hereditary',\n",
              " 'https://www.justwatch.com/in/movie/inside-out-2',\n",
              " 'https://www.justwatch.com/in/movie/12th-fail',\n",
              " 'https://www.justwatch.com/in/movie/exhuma',\n",
              " 'https://www.justwatch.com/in/movie/madgaon-express',\n",
              " 'https://www.justwatch.com/in/movie/je-jatt-vigad-gya',\n",
              " 'https://www.justwatch.com/in/movie/animal-2022',\n",
              " 'https://www.justwatch.com/in/movie/salaar',\n",
              " 'https://www.justwatch.com/in/movie/hanu-man',\n",
              " 'https://www.justwatch.com/in/movie/kingdom-of-the-planet-of-the-apes',\n",
              " 'https://www.justwatch.com/in/movie/aadujeevitham',\n",
              " 'https://www.justwatch.com/in/movie/kill-2024',\n",
              " 'https://www.justwatch.com/in/movie/guruvayoor-ambalanadayil',\n",
              " 'https://www.justwatch.com/in/movie/satyabhama',\n",
              " 'https://www.justwatch.com/in/movie/dune-2021',\n",
              " 'https://www.justwatch.com/in/movie/spider-man-no-way-home',\n",
              " 'https://www.justwatch.com/in/movie/mallari',\n",
              " 'https://www.justwatch.com/in/movie/varshangalkku-shesham',\n",
              " 'https://www.justwatch.com/in/movie/anyone-but-you',\n",
              " 'https://www.justwatch.com/in/movie/a-quiet-place',\n",
              " 'https://www.justwatch.com/in/movie/chandu-champion',\n",
              " 'https://www.justwatch.com/in/movie/the-adjustment-bureau',\n",
              " 'https://www.justwatch.com/in/movie/abigail-2024',\n",
              " 'https://www.justwatch.com/in/movie/monster-2023',\n",
              " 'https://www.justwatch.com/in/movie/black-magic-2024',\n",
              " 'https://www.justwatch.com/in/movie/addicted',\n",
              " 'https://www.justwatch.com/in/movie/rasavathi',\n",
              " 'https://www.justwatch.com/in/movie/love-me-if-you-dare-2024',\n",
              " 'https://www.justwatch.com/in/movie/freelance',\n",
              " 'https://www.justwatch.com/in/movie/pushpa',\n",
              " 'https://www.justwatch.com/in/movie/sam-bahadur',\n",
              " 'https://www.justwatch.com/in/movie/harry-potter-and-the-philosophers-stone',\n",
              " 'https://www.justwatch.com/in/movie/tumbbad',\n",
              " 'https://www.justwatch.com/in/movie/k-g-f-chapter-1',\n",
              " 'https://www.justwatch.com/in/movie/blink-2024',\n",
              " 'https://www.justwatch.com/in/movie/monkey-man',\n",
              " 'https://www.justwatch.com/in/movie/kurangu-pedal',\n",
              " 'https://www.justwatch.com/in/movie/pt-sir',\n",
              " 'https://www.justwatch.com/in/movie/trigger-warning',\n",
              " 'https://www.justwatch.com/in/movie/the-first-omen',\n",
              " 'https://www.justwatch.com/in/movie/sous-la-seine',\n",
              " 'https://www.justwatch.com/in/movie/stree',\n",
              " 'https://www.justwatch.com/in/movie/777-charlie',\n",
              " 'https://www.justwatch.com/in/movie/laila-majnu',\n",
              " 'https://www.justwatch.com/in/movie/a-taxi-driver',\n",
              " 'https://www.justwatch.com/in/movie/ghostbusters-frozen-empire',\n",
              " 'https://www.justwatch.com/in/movie/swatantra-veer-savarkar',\n",
              " 'https://www.justwatch.com/in/movie/the-wolf-of-wall-street',\n",
              " 'https://www.justwatch.com/in/movie/siddharth-roy',\n",
              " 'https://www.justwatch.com/in/movie/yodha-2022',\n",
              " 'https://www.justwatch.com/in/movie/a-family-affair-2023',\n",
              " 'https://www.justwatch.com/in/movie/the-ministry-of-ungentlemanly-warfare',\n",
              " 'https://www.justwatch.com/in/movie/a-quiet-place-day-one',\n",
              " 'https://www.justwatch.com/in/movie/perfect-days',\n",
              " 'https://www.justwatch.com/in/movie/aquaman-and-the-lost-kingdom',\n",
              " 'https://www.justwatch.com/in/movie/hridayam',\n",
              " 'https://www.justwatch.com/in/movie/edge-of-tomorrow',\n",
              " 'https://www.justwatch.com/in/movie/jerry-and-marge-go-large',\n",
              " 'https://www.justwatch.com/in/movie/mr-and-mrs-mahi',\n",
              " 'https://www.justwatch.com/in/movie/bramayugam',\n",
              " 'https://www.justwatch.com/in/movie/bad-boys-4',\n",
              " 'https://www.justwatch.com/in/movie/the-iron-claw',\n",
              " 'https://www.justwatch.com/in/movie/silent-night-2023',\n",
              " 'https://www.justwatch.com/in/movie/gam-gam-ganesha',\n",
              " 'https://www.justwatch.com/in/movie/late-night-with-the-devil',\n",
              " 'https://www.justwatch.com/in/movie/a-quiet-place-part-ii',\n",
              " 'https://www.justwatch.com/in/movie/the-beekeeper-2024']"
            ]
          },
          "metadata": {},
          "execution_count": 27
        }
      ],
      "source": [
        "movies"
      ]
    },
    {
      "cell_type": "code",
      "execution_count": 28,
      "metadata": {
        "id": "M5dVnKQ5wx8D"
      },
      "outputs": [],
      "source": [
        "driver.quit()"
      ]
    },
    {
      "cell_type": "markdown",
      "metadata": {
        "id": "Mnh22VX_7f6K"
      },
      "source": [
        "## **Now Creating Movies DataFrame**"
      ]
    },
    {
      "cell_type": "code",
      "execution_count": 29,
      "metadata": {
        "id": "n6Jho1Ge_oei",
        "colab": {
          "base_uri": "https://localhost:8080/"
        },
        "outputId": "2e35f29c-5768-47e5-c73f-b6173a95fdf9"
      },
      "outputs": [
        {
          "output_type": "stream",
          "name": "stdout",
          "text": [
            "100\n",
            "100\n",
            "0\n",
            "100\n",
            "0\n",
            "100\n"
          ]
        }
      ],
      "source": [
        "print(len(movie_names))\n",
        "print(len(movie_release_years))\n",
        "print(len(movie_genres))\n",
        "print(len(movies))\n",
        "print(len(movie_imdb))\n",
        "print(len(Movie_streaming))"
      ]
    },
    {
      "cell_type": "code",
      "execution_count": 30,
      "metadata": {
        "id": "IKtHSdqey7tO",
        "colab": {
          "base_uri": "https://localhost:8080/",
          "height": 206
        },
        "outputId": "6075ddb2-3e0c-4603-af79-28b7b941a0a3"
      },
      "outputs": [
        {
          "output_type": "execute_result",
          "data": {
            "text/plain": [
              "                      Movie Names Release Year Movie Genres  \\\n",
              "0                       project-k         2024                \n",
              "1                          munjha         2024                \n",
              "2                   aavesham-2024         2024                \n",
              "3                     family-star         2024                \n",
              "4  the-gangster-the-cop-the-devil         2019                \n",
              "\n",
              "  Movie IMDb Ratings                                          Movie Url  \\\n",
              "0                          https://www.justwatch.com/in/movie/project-k   \n",
              "1                             https://www.justwatch.com/in/movie/munjha   \n",
              "2                      https://www.justwatch.com/in/movie/aavesham-2024   \n",
              "3                        https://www.justwatch.com/in/movie/family-star   \n",
              "4                     https://www.justwatch.com/in/movie/the-gangste...   \n",
              "\n",
              "  Movie Streaming Service  \n",
              "0              Bookmyshow  \n",
              "1              Bookmyshow  \n",
              "2      Amazon Prime Video  \n",
              "3      Amazon Prime Video  \n",
              "4          Lionsgate Play  "
            ],
            "text/html": [
              "\n",
              "  <div id=\"df-d3d0befc-9ca3-468c-bc94-71a6b761d59a\" class=\"colab-df-container\">\n",
              "    <div>\n",
              "<style scoped>\n",
              "    .dataframe tbody tr th:only-of-type {\n",
              "        vertical-align: middle;\n",
              "    }\n",
              "\n",
              "    .dataframe tbody tr th {\n",
              "        vertical-align: top;\n",
              "    }\n",
              "\n",
              "    .dataframe thead th {\n",
              "        text-align: right;\n",
              "    }\n",
              "</style>\n",
              "<table border=\"1\" class=\"dataframe\">\n",
              "  <thead>\n",
              "    <tr style=\"text-align: right;\">\n",
              "      <th></th>\n",
              "      <th>Movie Names</th>\n",
              "      <th>Release Year</th>\n",
              "      <th>Movie Genres</th>\n",
              "      <th>Movie IMDb Ratings</th>\n",
              "      <th>Movie Url</th>\n",
              "      <th>Movie Streaming Service</th>\n",
              "    </tr>\n",
              "  </thead>\n",
              "  <tbody>\n",
              "    <tr>\n",
              "      <th>0</th>\n",
              "      <td>project-k</td>\n",
              "      <td>2024</td>\n",
              "      <td></td>\n",
              "      <td></td>\n",
              "      <td>https://www.justwatch.com/in/movie/project-k</td>\n",
              "      <td>Bookmyshow</td>\n",
              "    </tr>\n",
              "    <tr>\n",
              "      <th>1</th>\n",
              "      <td>munjha</td>\n",
              "      <td>2024</td>\n",
              "      <td></td>\n",
              "      <td></td>\n",
              "      <td>https://www.justwatch.com/in/movie/munjha</td>\n",
              "      <td>Bookmyshow</td>\n",
              "    </tr>\n",
              "    <tr>\n",
              "      <th>2</th>\n",
              "      <td>aavesham-2024</td>\n",
              "      <td>2024</td>\n",
              "      <td></td>\n",
              "      <td></td>\n",
              "      <td>https://www.justwatch.com/in/movie/aavesham-2024</td>\n",
              "      <td>Amazon Prime Video</td>\n",
              "    </tr>\n",
              "    <tr>\n",
              "      <th>3</th>\n",
              "      <td>family-star</td>\n",
              "      <td>2024</td>\n",
              "      <td></td>\n",
              "      <td></td>\n",
              "      <td>https://www.justwatch.com/in/movie/family-star</td>\n",
              "      <td>Amazon Prime Video</td>\n",
              "    </tr>\n",
              "    <tr>\n",
              "      <th>4</th>\n",
              "      <td>the-gangster-the-cop-the-devil</td>\n",
              "      <td>2019</td>\n",
              "      <td></td>\n",
              "      <td></td>\n",
              "      <td>https://www.justwatch.com/in/movie/the-gangste...</td>\n",
              "      <td>Lionsgate Play</td>\n",
              "    </tr>\n",
              "  </tbody>\n",
              "</table>\n",
              "</div>\n",
              "    <div class=\"colab-df-buttons\">\n",
              "\n",
              "  <div class=\"colab-df-container\">\n",
              "    <button class=\"colab-df-convert\" onclick=\"convertToInteractive('df-d3d0befc-9ca3-468c-bc94-71a6b761d59a')\"\n",
              "            title=\"Convert this dataframe to an interactive table.\"\n",
              "            style=\"display:none;\">\n",
              "\n",
              "  <svg xmlns=\"http://www.w3.org/2000/svg\" height=\"24px\" viewBox=\"0 -960 960 960\">\n",
              "    <path d=\"M120-120v-720h720v720H120Zm60-500h600v-160H180v160Zm220 220h160v-160H400v160Zm0 220h160v-160H400v160ZM180-400h160v-160H180v160Zm440 0h160v-160H620v160ZM180-180h160v-160H180v160Zm440 0h160v-160H620v160Z\"/>\n",
              "  </svg>\n",
              "    </button>\n",
              "\n",
              "  <style>\n",
              "    .colab-df-container {\n",
              "      display:flex;\n",
              "      gap: 12px;\n",
              "    }\n",
              "\n",
              "    .colab-df-convert {\n",
              "      background-color: #E8F0FE;\n",
              "      border: none;\n",
              "      border-radius: 50%;\n",
              "      cursor: pointer;\n",
              "      display: none;\n",
              "      fill: #1967D2;\n",
              "      height: 32px;\n",
              "      padding: 0 0 0 0;\n",
              "      width: 32px;\n",
              "    }\n",
              "\n",
              "    .colab-df-convert:hover {\n",
              "      background-color: #E2EBFA;\n",
              "      box-shadow: 0px 1px 2px rgba(60, 64, 67, 0.3), 0px 1px 3px 1px rgba(60, 64, 67, 0.15);\n",
              "      fill: #174EA6;\n",
              "    }\n",
              "\n",
              "    .colab-df-buttons div {\n",
              "      margin-bottom: 4px;\n",
              "    }\n",
              "\n",
              "    [theme=dark] .colab-df-convert {\n",
              "      background-color: #3B4455;\n",
              "      fill: #D2E3FC;\n",
              "    }\n",
              "\n",
              "    [theme=dark] .colab-df-convert:hover {\n",
              "      background-color: #434B5C;\n",
              "      box-shadow: 0px 1px 3px 1px rgba(0, 0, 0, 0.15);\n",
              "      filter: drop-shadow(0px 1px 2px rgba(0, 0, 0, 0.3));\n",
              "      fill: #FFFFFF;\n",
              "    }\n",
              "  </style>\n",
              "\n",
              "    <script>\n",
              "      const buttonEl =\n",
              "        document.querySelector('#df-d3d0befc-9ca3-468c-bc94-71a6b761d59a button.colab-df-convert');\n",
              "      buttonEl.style.display =\n",
              "        google.colab.kernel.accessAllowed ? 'block' : 'none';\n",
              "\n",
              "      async function convertToInteractive(key) {\n",
              "        const element = document.querySelector('#df-d3d0befc-9ca3-468c-bc94-71a6b761d59a');\n",
              "        const dataTable =\n",
              "          await google.colab.kernel.invokeFunction('convertToInteractive',\n",
              "                                                    [key], {});\n",
              "        if (!dataTable) return;\n",
              "\n",
              "        const docLinkHtml = 'Like what you see? Visit the ' +\n",
              "          '<a target=\"_blank\" href=https://colab.research.google.com/notebooks/data_table.ipynb>data table notebook</a>'\n",
              "          + ' to learn more about interactive tables.';\n",
              "        element.innerHTML = '';\n",
              "        dataTable['output_type'] = 'display_data';\n",
              "        await google.colab.output.renderOutput(dataTable, element);\n",
              "        const docLink = document.createElement('div');\n",
              "        docLink.innerHTML = docLinkHtml;\n",
              "        element.appendChild(docLink);\n",
              "      }\n",
              "    </script>\n",
              "  </div>\n",
              "\n",
              "\n",
              "<div id=\"df-b6a3a19a-dc92-4deb-aa4a-a407dbb68df5\">\n",
              "  <button class=\"colab-df-quickchart\" onclick=\"quickchart('df-b6a3a19a-dc92-4deb-aa4a-a407dbb68df5')\"\n",
              "            title=\"Suggest charts\"\n",
              "            style=\"display:none;\">\n",
              "\n",
              "<svg xmlns=\"http://www.w3.org/2000/svg\" height=\"24px\"viewBox=\"0 0 24 24\"\n",
              "     width=\"24px\">\n",
              "    <g>\n",
              "        <path d=\"M19 3H5c-1.1 0-2 .9-2 2v14c0 1.1.9 2 2 2h14c1.1 0 2-.9 2-2V5c0-1.1-.9-2-2-2zM9 17H7v-7h2v7zm4 0h-2V7h2v10zm4 0h-2v-4h2v4z\"/>\n",
              "    </g>\n",
              "</svg>\n",
              "  </button>\n",
              "\n",
              "<style>\n",
              "  .colab-df-quickchart {\n",
              "      --bg-color: #E8F0FE;\n",
              "      --fill-color: #1967D2;\n",
              "      --hover-bg-color: #E2EBFA;\n",
              "      --hover-fill-color: #174EA6;\n",
              "      --disabled-fill-color: #AAA;\n",
              "      --disabled-bg-color: #DDD;\n",
              "  }\n",
              "\n",
              "  [theme=dark] .colab-df-quickchart {\n",
              "      --bg-color: #3B4455;\n",
              "      --fill-color: #D2E3FC;\n",
              "      --hover-bg-color: #434B5C;\n",
              "      --hover-fill-color: #FFFFFF;\n",
              "      --disabled-bg-color: #3B4455;\n",
              "      --disabled-fill-color: #666;\n",
              "  }\n",
              "\n",
              "  .colab-df-quickchart {\n",
              "    background-color: var(--bg-color);\n",
              "    border: none;\n",
              "    border-radius: 50%;\n",
              "    cursor: pointer;\n",
              "    display: none;\n",
              "    fill: var(--fill-color);\n",
              "    height: 32px;\n",
              "    padding: 0;\n",
              "    width: 32px;\n",
              "  }\n",
              "\n",
              "  .colab-df-quickchart:hover {\n",
              "    background-color: var(--hover-bg-color);\n",
              "    box-shadow: 0 1px 2px rgba(60, 64, 67, 0.3), 0 1px 3px 1px rgba(60, 64, 67, 0.15);\n",
              "    fill: var(--button-hover-fill-color);\n",
              "  }\n",
              "\n",
              "  .colab-df-quickchart-complete:disabled,\n",
              "  .colab-df-quickchart-complete:disabled:hover {\n",
              "    background-color: var(--disabled-bg-color);\n",
              "    fill: var(--disabled-fill-color);\n",
              "    box-shadow: none;\n",
              "  }\n",
              "\n",
              "  .colab-df-spinner {\n",
              "    border: 2px solid var(--fill-color);\n",
              "    border-color: transparent;\n",
              "    border-bottom-color: var(--fill-color);\n",
              "    animation:\n",
              "      spin 1s steps(1) infinite;\n",
              "  }\n",
              "\n",
              "  @keyframes spin {\n",
              "    0% {\n",
              "      border-color: transparent;\n",
              "      border-bottom-color: var(--fill-color);\n",
              "      border-left-color: var(--fill-color);\n",
              "    }\n",
              "    20% {\n",
              "      border-color: transparent;\n",
              "      border-left-color: var(--fill-color);\n",
              "      border-top-color: var(--fill-color);\n",
              "    }\n",
              "    30% {\n",
              "      border-color: transparent;\n",
              "      border-left-color: var(--fill-color);\n",
              "      border-top-color: var(--fill-color);\n",
              "      border-right-color: var(--fill-color);\n",
              "    }\n",
              "    40% {\n",
              "      border-color: transparent;\n",
              "      border-right-color: var(--fill-color);\n",
              "      border-top-color: var(--fill-color);\n",
              "    }\n",
              "    60% {\n",
              "      border-color: transparent;\n",
              "      border-right-color: var(--fill-color);\n",
              "    }\n",
              "    80% {\n",
              "      border-color: transparent;\n",
              "      border-right-color: var(--fill-color);\n",
              "      border-bottom-color: var(--fill-color);\n",
              "    }\n",
              "    90% {\n",
              "      border-color: transparent;\n",
              "      border-bottom-color: var(--fill-color);\n",
              "    }\n",
              "  }\n",
              "</style>\n",
              "\n",
              "  <script>\n",
              "    async function quickchart(key) {\n",
              "      const quickchartButtonEl =\n",
              "        document.querySelector('#' + key + ' button');\n",
              "      quickchartButtonEl.disabled = true;  // To prevent multiple clicks.\n",
              "      quickchartButtonEl.classList.add('colab-df-spinner');\n",
              "      try {\n",
              "        const charts = await google.colab.kernel.invokeFunction(\n",
              "            'suggestCharts', [key], {});\n",
              "      } catch (error) {\n",
              "        console.error('Error during call to suggestCharts:', error);\n",
              "      }\n",
              "      quickchartButtonEl.classList.remove('colab-df-spinner');\n",
              "      quickchartButtonEl.classList.add('colab-df-quickchart-complete');\n",
              "    }\n",
              "    (() => {\n",
              "      let quickchartButtonEl =\n",
              "        document.querySelector('#df-b6a3a19a-dc92-4deb-aa4a-a407dbb68df5 button');\n",
              "      quickchartButtonEl.style.display =\n",
              "        google.colab.kernel.accessAllowed ? 'block' : 'none';\n",
              "    })();\n",
              "  </script>\n",
              "</div>\n",
              "\n",
              "    </div>\n",
              "  </div>\n"
            ],
            "application/vnd.google.colaboratory.intrinsic+json": {
              "type": "dataframe",
              "variable_name": "Movies_data",
              "summary": "{\n  \"name\": \"Movies_data\",\n  \"rows\": 80,\n  \"fields\": [\n    {\n      \"column\": \"Movie Names\",\n      \"properties\": {\n        \"dtype\": \"string\",\n        \"num_unique_values\": 80,\n        \"samples\": [\n          \"challengers\",\n          \"project-k\",\n          \"sri-2023\"\n        ],\n        \"semantic_type\": \"\",\n        \"description\": \"\"\n      }\n    },\n    {\n      \"column\": \"Release Year\",\n      \"properties\": {\n        \"dtype\": \"category\",\n        \"num_unique_values\": 8,\n        \"samples\": [\n          \"2019\",\n          \"Release Year not found\",\n          \"2024\"\n        ],\n        \"semantic_type\": \"\",\n        \"description\": \"\"\n      }\n    },\n    {\n      \"column\": \"Movie Genres\",\n      \"properties\": {\n        \"dtype\": \"object\",\n        \"num_unique_values\": 1,\n        \"samples\": [\n          \"\"\n        ],\n        \"semantic_type\": \"\",\n        \"description\": \"\"\n      }\n    },\n    {\n      \"column\": \"Movie IMDb Ratings\",\n      \"properties\": {\n        \"dtype\": \"object\",\n        \"num_unique_values\": 1,\n        \"samples\": [\n          \"\"\n        ],\n        \"semantic_type\": \"\",\n        \"description\": \"\"\n      }\n    },\n    {\n      \"column\": \"Movie Url\",\n      \"properties\": {\n        \"dtype\": \"string\",\n        \"num_unique_values\": 80,\n        \"samples\": [\n          \"https://www.justwatch.com/in/movie/challengers\"\n        ],\n        \"semantic_type\": \"\",\n        \"description\": \"\"\n      }\n    },\n    {\n      \"column\": \"Movie Streaming Service\",\n      \"properties\": {\n        \"dtype\": \"category\",\n        \"num_unique_values\": 8,\n        \"samples\": [\n          \"Amazon Prime Video\"\n        ],\n        \"semantic_type\": \"\",\n        \"description\": \"\"\n      }\n    }\n  ]\n}"
            }
          },
          "metadata": {},
          "execution_count": 30
        }
      ],
      "source": [
        "#Creatind datafame of scrapped movie data\n",
        "import pandas as pd\n",
        "Movies_data=pd.DataFrame()\n",
        "Movies_data['Movie Names']=movie_names[:80]\n",
        "Movies_data['Release Year']=movie_release_years[:80]\n",
        "\n",
        "# Check if movie_genres is empty and handle accordingly\n",
        "if movie_genres:\n",
        "    Movies_data['Movie Genres']=movie_genres[:80]\n",
        "else:\n",
        "    Movies_data['Movie Genres'] = \"\"  # Or any placeholder you prefer\n",
        "\n",
        "# Check if movie_imdb is empty and handle accordingly\n",
        "if movie_imdb:\n",
        "    Movies_data['Movie IMDb Ratings']=movie_imdb[:80]\n",
        "else:\n",
        "    Movies_data['Movie IMDb Ratings'] = \"\" # Handle the case where movie_imdb is empty\n",
        "\n",
        "Movies_data['Movie Url']=movies[:80]\n",
        "Movies_data['Movie Streaming Service']=Movie_streaming[:80]\n",
        "\n",
        "\n",
        "Movies_data.head()"
      ]
    },
    {
      "cell_type": "markdown",
      "metadata": {
        "id": "LYQ5acWzJRZr"
      },
      "source": [
        "## **Scraping TV  Show Data**"
      ]
    },
    {
      "cell_type": "code",
      "execution_count": 33,
      "metadata": {
        "id": "Xic8FWfwI6AT",
        "colab": {
          "base_uri": "https://localhost:8080/"
        },
        "outputId": "7fea9830-4b49-4cd1-b8b3-e2fde825c804"
      },
      "outputs": [
        {
          "output_type": "stream",
          "name": "stderr",
          "text": [
            "WARNING:urllib3.connectionpool:Retrying (Retry(total=2, connect=None, read=None, redirect=None, status=None)) after connection broken by 'NewConnectionError('<urllib3.connection.HTTPConnection object at 0x7dcad06a32e0>: Failed to establish a new connection: [Errno 111] Connection refused')': /session/f394f746ba32149c15d1caa35423144b/url\n",
            "WARNING:urllib3.connectionpool:Retrying (Retry(total=1, connect=None, read=None, redirect=None, status=None)) after connection broken by 'NewConnectionError('<urllib3.connection.HTTPConnection object at 0x7dcad06a3e50>: Failed to establish a new connection: [Errno 111] Connection refused')': /session/f394f746ba32149c15d1caa35423144b/url\n",
            "WARNING:urllib3.connectionpool:Retrying (Retry(total=0, connect=None, read=None, redirect=None, status=None)) after connection broken by 'NewConnectionError('<urllib3.connection.HTTPConnection object at 0x7dcad06a2cb0>: Failed to establish a new connection: [Errno 111] Connection refused')': /session/f394f746ba32149c15d1caa35423144b/url\n"
          ]
        },
        {
          "output_type": "stream",
          "name": "stdout",
          "text": [
            "Error accessing URL: HTTPConnectionPool(host='localhost', port=55143): Max retries exceeded with url: /session/f394f746ba32149c15d1caa35423144b/url (Caused by NewConnectionError('<urllib3.connection.HTTPConnection object at 0x7dcad06a3be0>: Failed to establish a new connection: [Errno 111] Connection refused'))\n"
          ]
        }
      ],
      "source": [
        "# Specifying the URL from which tv show related data will be fetched\n",
        "tv_url='https://www.justwatch.com/in/tv-shows?release_year_from=2000'\n",
        "\n",
        "# Add a delay before trying to access the URL\n",
        "import time\n",
        "time.sleep(5)  # Wait for 5 seconds\n",
        "\n",
        "try:\n",
        "    driver.get(tv_url)\n",
        "except Exception as e:\n",
        "    print(f\"Error accessing URL: {e}\")"
      ]
    },
    {
      "cell_type": "code",
      "execution_count": 34,
      "metadata": {
        "id": "veFs4IamzQqN",
        "colab": {
          "base_uri": "https://localhost:8080/"
        },
        "outputId": "d81a39f8-47e8-4e6f-96d5-e4ab095ce8c9"
      },
      "outputs": [
        {
          "output_type": "stream",
          "name": "stdout",
          "text": [
            "Connection failed: 403 Client Error: Forbidden for url: https://www.justwatch.com/in/tv-shows?release_year_from=2000\n"
          ]
        }
      ],
      "source": [
        "import requests\n",
        "\n",
        "tv_url = 'https://www.justwatch.com/in/tv-shows?release_year_from=2000'\n",
        "\n",
        "try:\n",
        "    response = requests.get(tv_url)\n",
        "    response.raise_for_status()  # Raise an exception for bad status codes\n",
        "    print(\"Connection successful!\")\n",
        "except requests.exceptions.RequestException as e:\n",
        "    print(f\"Connection failed: {e}\")"
      ]
    },
    {
      "cell_type": "code",
      "execution_count": 35,
      "metadata": {
        "id": "-Cg6GI5Lzk7W",
        "colab": {
          "base_uri": "https://localhost:8080/"
        },
        "outputId": "eef1e26c-bdd5-4446-a84e-753780c7e680"
      },
      "outputs": [
        {
          "output_type": "stream",
          "name": "stdout",
          "text": [
            "Connection to webdriver failed: HTTPConnectionPool(host='localhost', port=49965): Max retries exceeded with url: / (Caused by NewConnectionError('<urllib3.connection.HTTPConnection object at 0x7dcad06a2c80>: Failed to establish a new connection: [Errno 111] Connection refused'))\n"
          ]
        }
      ],
      "source": [
        "import requests\n",
        "\n",
        "# Replace with the actual URL of your webdriver\n",
        "webdriver_url = 'http://localhost:49965'\n",
        "\n",
        "try:\n",
        "    response = requests.get(webdriver_url)\n",
        "    response.raise_for_status()  # Raise an exception for bad status codes\n",
        "    print(\"Connection to webdriver successful!\")\n",
        "except requests.exceptions.RequestException as e:\n",
        "    print(f\"Connection to webdriver failed: {e}\")"
      ]
    },
    {
      "cell_type": "markdown",
      "metadata": {
        "id": "ev-VUSNvJ-fJ"
      },
      "source": [
        "## **Fetching Tv shows Url details**"
      ]
    },
    {
      "cell_type": "code",
      "execution_count": 82,
      "metadata": {
        "id": "eMlwT4I-8gGh",
        "colab": {
          "base_uri": "https://localhost:8080/",
          "height": 607
        },
        "outputId": "403ddfa6-80d5-48a0-b9f4-8993956c75b2"
      },
      "outputs": [
        {
          "output_type": "stream",
          "name": "stderr",
          "text": [
            "WARNING:urllib3.connectionpool:Retrying (Retry(total=2, connect=None, read=None, redirect=None, status=None)) after connection broken by 'NewConnectionError('<urllib3.connection.HTTPConnection object at 0x7dcac7960e50>: Failed to establish a new connection: [Errno 111] Connection refused')': /session/f394f746ba32149c15d1caa35423144b/elements\n",
            "WARNING:urllib3.connectionpool:Retrying (Retry(total=1, connect=None, read=None, redirect=None, status=None)) after connection broken by 'NewConnectionError('<urllib3.connection.HTTPConnection object at 0x7dcac79621a0>: Failed to establish a new connection: [Errno 111] Connection refused')': /session/f394f746ba32149c15d1caa35423144b/elements\n",
            "WARNING:urllib3.connectionpool:Retrying (Retry(total=0, connect=None, read=None, redirect=None, status=None)) after connection broken by 'NewConnectionError('<urllib3.connection.HTTPConnection object at 0x7dcac79632e0>: Failed to establish a new connection: [Errno 111] Connection refused')': /session/f394f746ba32149c15d1caa35423144b/elements\n"
          ]
        },
        {
          "output_type": "error",
          "ename": "MaxRetryError",
          "evalue": "HTTPConnectionPool(host='localhost', port=55143): Max retries exceeded with url: /session/f394f746ba32149c15d1caa35423144b/elements (Caused by NewConnectionError('<urllib3.connection.HTTPConnection object at 0x7dcac7963a90>: Failed to establish a new connection: [Errno 111] Connection refused'))",
          "traceback": [
            "\u001b[0;31m---------------------------------------------------------------------------\u001b[0m",
            "\u001b[0;31mConnectionRefusedError\u001b[0m                    Traceback (most recent call last)",
            "\u001b[0;32m/usr/local/lib/python3.10/dist-packages/urllib3/connection.py\u001b[0m in \u001b[0;36m_new_conn\u001b[0;34m(self)\u001b[0m\n\u001b[1;32m    202\u001b[0m         \u001b[0;32mtry\u001b[0m\u001b[0;34m:\u001b[0m\u001b[0;34m\u001b[0m\u001b[0;34m\u001b[0m\u001b[0m\n\u001b[0;32m--> 203\u001b[0;31m             sock = connection.create_connection(\n\u001b[0m\u001b[1;32m    204\u001b[0m                 \u001b[0;34m(\u001b[0m\u001b[0mself\u001b[0m\u001b[0;34m.\u001b[0m\u001b[0m_dns_host\u001b[0m\u001b[0;34m,\u001b[0m \u001b[0mself\u001b[0m\u001b[0;34m.\u001b[0m\u001b[0mport\u001b[0m\u001b[0;34m)\u001b[0m\u001b[0;34m,\u001b[0m\u001b[0;34m\u001b[0m\u001b[0;34m\u001b[0m\u001b[0m\n",
            "\u001b[0;32m/usr/local/lib/python3.10/dist-packages/urllib3/util/connection.py\u001b[0m in \u001b[0;36mcreate_connection\u001b[0;34m(address, timeout, source_address, socket_options)\u001b[0m\n\u001b[1;32m     84\u001b[0m         \u001b[0;32mtry\u001b[0m\u001b[0;34m:\u001b[0m\u001b[0;34m\u001b[0m\u001b[0;34m\u001b[0m\u001b[0m\n\u001b[0;32m---> 85\u001b[0;31m             \u001b[0;32mraise\u001b[0m \u001b[0merr\u001b[0m\u001b[0;34m\u001b[0m\u001b[0;34m\u001b[0m\u001b[0m\n\u001b[0m\u001b[1;32m     86\u001b[0m         \u001b[0;32mfinally\u001b[0m\u001b[0;34m:\u001b[0m\u001b[0;34m\u001b[0m\u001b[0;34m\u001b[0m\u001b[0m\n",
            "\u001b[0;32m/usr/local/lib/python3.10/dist-packages/urllib3/util/connection.py\u001b[0m in \u001b[0;36mcreate_connection\u001b[0;34m(address, timeout, source_address, socket_options)\u001b[0m\n\u001b[1;32m     72\u001b[0m                 \u001b[0msock\u001b[0m\u001b[0;34m.\u001b[0m\u001b[0mbind\u001b[0m\u001b[0;34m(\u001b[0m\u001b[0msource_address\u001b[0m\u001b[0;34m)\u001b[0m\u001b[0;34m\u001b[0m\u001b[0;34m\u001b[0m\u001b[0m\n\u001b[0;32m---> 73\u001b[0;31m             \u001b[0msock\u001b[0m\u001b[0;34m.\u001b[0m\u001b[0mconnect\u001b[0m\u001b[0;34m(\u001b[0m\u001b[0msa\u001b[0m\u001b[0;34m)\u001b[0m\u001b[0;34m\u001b[0m\u001b[0;34m\u001b[0m\u001b[0m\n\u001b[0m\u001b[1;32m     74\u001b[0m             \u001b[0;31m# Break explicitly a reference cycle\u001b[0m\u001b[0;34m\u001b[0m\u001b[0;34m\u001b[0m\u001b[0m\n",
            "\u001b[0;31mConnectionRefusedError\u001b[0m: [Errno 111] Connection refused",
            "\nThe above exception was the direct cause of the following exception:\n",
            "\u001b[0;31mNewConnectionError\u001b[0m                        Traceback (most recent call last)",
            "\u001b[0;32m/usr/local/lib/python3.10/dist-packages/urllib3/connectionpool.py\u001b[0m in \u001b[0;36murlopen\u001b[0;34m(self, method, url, body, headers, retries, redirect, assert_same_host, timeout, pool_timeout, release_conn, chunked, body_pos, preload_content, decode_content, **response_kw)\u001b[0m\n\u001b[1;32m    790\u001b[0m             \u001b[0;31m# Make the request on the HTTPConnection object\u001b[0m\u001b[0;34m\u001b[0m\u001b[0;34m\u001b[0m\u001b[0m\n\u001b[0;32m--> 791\u001b[0;31m             response = self._make_request(\n\u001b[0m\u001b[1;32m    792\u001b[0m                 \u001b[0mconn\u001b[0m\u001b[0;34m,\u001b[0m\u001b[0;34m\u001b[0m\u001b[0;34m\u001b[0m\u001b[0m\n",
            "\u001b[0;32m/usr/local/lib/python3.10/dist-packages/urllib3/connectionpool.py\u001b[0m in \u001b[0;36m_make_request\u001b[0;34m(self, conn, method, url, body, headers, retries, timeout, chunked, response_conn, preload_content, decode_content, enforce_content_length)\u001b[0m\n\u001b[1;32m    496\u001b[0m         \u001b[0;32mtry\u001b[0m\u001b[0;34m:\u001b[0m\u001b[0;34m\u001b[0m\u001b[0;34m\u001b[0m\u001b[0m\n\u001b[0;32m--> 497\u001b[0;31m             conn.request(\n\u001b[0m\u001b[1;32m    498\u001b[0m                 \u001b[0mmethod\u001b[0m\u001b[0;34m,\u001b[0m\u001b[0;34m\u001b[0m\u001b[0;34m\u001b[0m\u001b[0m\n",
            "\u001b[0;32m/usr/local/lib/python3.10/dist-packages/urllib3/connection.py\u001b[0m in \u001b[0;36mrequest\u001b[0;34m(self, method, url, body, headers, chunked, preload_content, decode_content, enforce_content_length)\u001b[0m\n\u001b[1;32m    394\u001b[0m             \u001b[0mself\u001b[0m\u001b[0;34m.\u001b[0m\u001b[0mputheader\u001b[0m\u001b[0;34m(\u001b[0m\u001b[0mheader\u001b[0m\u001b[0;34m,\u001b[0m \u001b[0mvalue\u001b[0m\u001b[0;34m)\u001b[0m\u001b[0;34m\u001b[0m\u001b[0;34m\u001b[0m\u001b[0m\n\u001b[0;32m--> 395\u001b[0;31m         \u001b[0mself\u001b[0m\u001b[0;34m.\u001b[0m\u001b[0mendheaders\u001b[0m\u001b[0;34m(\u001b[0m\u001b[0;34m)\u001b[0m\u001b[0;34m\u001b[0m\u001b[0;34m\u001b[0m\u001b[0m\n\u001b[0m\u001b[1;32m    396\u001b[0m \u001b[0;34m\u001b[0m\u001b[0m\n",
            "\u001b[0;32m/usr/lib/python3.10/http/client.py\u001b[0m in \u001b[0;36mendheaders\u001b[0;34m(self, message_body, encode_chunked)\u001b[0m\n\u001b[1;32m   1277\u001b[0m             \u001b[0;32mraise\u001b[0m \u001b[0mCannotSendHeader\u001b[0m\u001b[0;34m(\u001b[0m\u001b[0;34m)\u001b[0m\u001b[0;34m\u001b[0m\u001b[0;34m\u001b[0m\u001b[0m\n\u001b[0;32m-> 1278\u001b[0;31m         \u001b[0mself\u001b[0m\u001b[0;34m.\u001b[0m\u001b[0m_send_output\u001b[0m\u001b[0;34m(\u001b[0m\u001b[0mmessage_body\u001b[0m\u001b[0;34m,\u001b[0m \u001b[0mencode_chunked\u001b[0m\u001b[0;34m=\u001b[0m\u001b[0mencode_chunked\u001b[0m\u001b[0;34m)\u001b[0m\u001b[0;34m\u001b[0m\u001b[0;34m\u001b[0m\u001b[0m\n\u001b[0m\u001b[1;32m   1279\u001b[0m \u001b[0;34m\u001b[0m\u001b[0m\n",
            "\u001b[0;32m/usr/lib/python3.10/http/client.py\u001b[0m in \u001b[0;36m_send_output\u001b[0;34m(self, message_body, encode_chunked)\u001b[0m\n\u001b[1;32m   1037\u001b[0m         \u001b[0;32mdel\u001b[0m \u001b[0mself\u001b[0m\u001b[0;34m.\u001b[0m\u001b[0m_buffer\u001b[0m\u001b[0;34m[\u001b[0m\u001b[0;34m:\u001b[0m\u001b[0;34m]\u001b[0m\u001b[0;34m\u001b[0m\u001b[0;34m\u001b[0m\u001b[0m\n\u001b[0;32m-> 1038\u001b[0;31m         \u001b[0mself\u001b[0m\u001b[0;34m.\u001b[0m\u001b[0msend\u001b[0m\u001b[0;34m(\u001b[0m\u001b[0mmsg\u001b[0m\u001b[0;34m)\u001b[0m\u001b[0;34m\u001b[0m\u001b[0;34m\u001b[0m\u001b[0m\n\u001b[0m\u001b[1;32m   1039\u001b[0m \u001b[0;34m\u001b[0m\u001b[0m\n",
            "\u001b[0;32m/usr/lib/python3.10/http/client.py\u001b[0m in \u001b[0;36msend\u001b[0;34m(self, data)\u001b[0m\n\u001b[1;32m    975\u001b[0m             \u001b[0;32mif\u001b[0m \u001b[0mself\u001b[0m\u001b[0;34m.\u001b[0m\u001b[0mauto_open\u001b[0m\u001b[0;34m:\u001b[0m\u001b[0;34m\u001b[0m\u001b[0;34m\u001b[0m\u001b[0m\n\u001b[0;32m--> 976\u001b[0;31m                 \u001b[0mself\u001b[0m\u001b[0;34m.\u001b[0m\u001b[0mconnect\u001b[0m\u001b[0;34m(\u001b[0m\u001b[0;34m)\u001b[0m\u001b[0;34m\u001b[0m\u001b[0;34m\u001b[0m\u001b[0m\n\u001b[0m\u001b[1;32m    977\u001b[0m             \u001b[0;32melse\u001b[0m\u001b[0;34m:\u001b[0m\u001b[0;34m\u001b[0m\u001b[0;34m\u001b[0m\u001b[0m\n",
            "\u001b[0;32m/usr/local/lib/python3.10/dist-packages/urllib3/connection.py\u001b[0m in \u001b[0;36mconnect\u001b[0;34m(self)\u001b[0m\n\u001b[1;32m    242\u001b[0m     \u001b[0;32mdef\u001b[0m \u001b[0mconnect\u001b[0m\u001b[0;34m(\u001b[0m\u001b[0mself\u001b[0m\u001b[0;34m)\u001b[0m \u001b[0;34m->\u001b[0m \u001b[0;32mNone\u001b[0m\u001b[0;34m:\u001b[0m\u001b[0;34m\u001b[0m\u001b[0;34m\u001b[0m\u001b[0m\n\u001b[0;32m--> 243\u001b[0;31m         \u001b[0mself\u001b[0m\u001b[0;34m.\u001b[0m\u001b[0msock\u001b[0m \u001b[0;34m=\u001b[0m \u001b[0mself\u001b[0m\u001b[0;34m.\u001b[0m\u001b[0m_new_conn\u001b[0m\u001b[0;34m(\u001b[0m\u001b[0;34m)\u001b[0m\u001b[0;34m\u001b[0m\u001b[0;34m\u001b[0m\u001b[0m\n\u001b[0m\u001b[1;32m    244\u001b[0m         \u001b[0;32mif\u001b[0m \u001b[0mself\u001b[0m\u001b[0;34m.\u001b[0m\u001b[0m_tunnel_host\u001b[0m\u001b[0;34m:\u001b[0m\u001b[0;34m\u001b[0m\u001b[0;34m\u001b[0m\u001b[0m\n",
            "\u001b[0;32m/usr/local/lib/python3.10/dist-packages/urllib3/connection.py\u001b[0m in \u001b[0;36m_new_conn\u001b[0;34m(self)\u001b[0m\n\u001b[1;32m    217\u001b[0m         \u001b[0;32mexcept\u001b[0m \u001b[0mOSError\u001b[0m \u001b[0;32mas\u001b[0m \u001b[0me\u001b[0m\u001b[0;34m:\u001b[0m\u001b[0;34m\u001b[0m\u001b[0;34m\u001b[0m\u001b[0m\n\u001b[0;32m--> 218\u001b[0;31m             raise NewConnectionError(\n\u001b[0m\u001b[1;32m    219\u001b[0m                 \u001b[0mself\u001b[0m\u001b[0;34m,\u001b[0m \u001b[0;34mf\"Failed to establish a new connection: {e}\"\u001b[0m\u001b[0;34m\u001b[0m\u001b[0;34m\u001b[0m\u001b[0m\n",
            "\u001b[0;31mNewConnectionError\u001b[0m: <urllib3.connection.HTTPConnection object at 0x7dcac7963a90>: Failed to establish a new connection: [Errno 111] Connection refused",
            "\nThe above exception was the direct cause of the following exception:\n",
            "\u001b[0;31mMaxRetryError\u001b[0m                             Traceback (most recent call last)",
            "\u001b[0;32m<ipython-input-82-1cf8d2872d58>\u001b[0m in \u001b[0;36m<cell line: 6>\u001b[0;34m()\u001b[0m\n\u001b[1;32m      4\u001b[0m \u001b[0;31m# Define title_tv_list before using it.\u001b[0m\u001b[0;34m\u001b[0m\u001b[0;34m\u001b[0m\u001b[0m\n\u001b[1;32m      5\u001b[0m \u001b[0;31m# Replace this with the actual way you want to get the list of WebElements.\u001b[0m\u001b[0;34m\u001b[0m\u001b[0;34m\u001b[0m\u001b[0m\n\u001b[0;32m----> 6\u001b[0;31m \u001b[0mtitle_tv_list\u001b[0m \u001b[0;34m=\u001b[0m \u001b[0mdriver\u001b[0m\u001b[0;34m.\u001b[0m\u001b[0mfind_elements\u001b[0m\u001b[0;34m(\u001b[0m\u001b[0;34m'xpath'\u001b[0m\u001b[0;34m,\u001b[0m \u001b[0;34m'your_xpath_here'\u001b[0m\u001b[0;34m)\u001b[0m\u001b[0;34m\u001b[0m\u001b[0;34m\u001b[0m\u001b[0m\n\u001b[0m\u001b[1;32m      7\u001b[0m \u001b[0;34m\u001b[0m\u001b[0m\n\u001b[1;32m      8\u001b[0m \u001b[0;32mfor\u001b[0m \u001b[0mi\u001b[0m \u001b[0;32min\u001b[0m \u001b[0mtitle_tv_list\u001b[0m\u001b[0;34m:\u001b[0m\u001b[0;34m\u001b[0m\u001b[0;34m\u001b[0m\u001b[0m\n",
            "\u001b[0;32m/usr/local/lib/python3.10/dist-packages/selenium/webdriver/remote/webdriver.py\u001b[0m in \u001b[0;36mfind_elements\u001b[0;34m(self, by, value)\u001b[0m\n\u001b[1;32m    776\u001b[0m         \u001b[0;31m# Return empty list if driver returns null\u001b[0m\u001b[0;34m\u001b[0m\u001b[0;34m\u001b[0m\u001b[0m\n\u001b[1;32m    777\u001b[0m         \u001b[0;31m# See https://github.com/SeleniumHQ/selenium/issues/4555\u001b[0m\u001b[0;34m\u001b[0m\u001b[0;34m\u001b[0m\u001b[0m\n\u001b[0;32m--> 778\u001b[0;31m         \u001b[0;32mreturn\u001b[0m \u001b[0mself\u001b[0m\u001b[0;34m.\u001b[0m\u001b[0mexecute\u001b[0m\u001b[0;34m(\u001b[0m\u001b[0mCommand\u001b[0m\u001b[0;34m.\u001b[0m\u001b[0mFIND_ELEMENTS\u001b[0m\u001b[0;34m,\u001b[0m \u001b[0;34m{\u001b[0m\u001b[0;34m\"using\"\u001b[0m\u001b[0;34m:\u001b[0m \u001b[0mby\u001b[0m\u001b[0;34m,\u001b[0m \u001b[0;34m\"value\"\u001b[0m\u001b[0;34m:\u001b[0m \u001b[0mvalue\u001b[0m\u001b[0;34m}\u001b[0m\u001b[0;34m)\u001b[0m\u001b[0;34m[\u001b[0m\u001b[0;34m\"value\"\u001b[0m\u001b[0;34m]\u001b[0m \u001b[0;32mor\u001b[0m \u001b[0;34m[\u001b[0m\u001b[0;34m]\u001b[0m\u001b[0;34m\u001b[0m\u001b[0;34m\u001b[0m\u001b[0m\n\u001b[0m\u001b[1;32m    779\u001b[0m \u001b[0;34m\u001b[0m\u001b[0m\n\u001b[1;32m    780\u001b[0m     \u001b[0;34m@\u001b[0m\u001b[0mproperty\u001b[0m\u001b[0;34m\u001b[0m\u001b[0;34m\u001b[0m\u001b[0m\n",
            "\u001b[0;32m/usr/local/lib/python3.10/dist-packages/selenium/webdriver/remote/webdriver.py\u001b[0m in \u001b[0;36mexecute\u001b[0;34m(self, driver_command, params)\u001b[0m\n\u001b[1;32m    350\u001b[0m                 \u001b[0mparams\u001b[0m\u001b[0;34m[\u001b[0m\u001b[0;34m\"sessionId\"\u001b[0m\u001b[0;34m]\u001b[0m \u001b[0;34m=\u001b[0m \u001b[0mself\u001b[0m\u001b[0;34m.\u001b[0m\u001b[0msession_id\u001b[0m\u001b[0;34m\u001b[0m\u001b[0;34m\u001b[0m\u001b[0m\n\u001b[1;32m    351\u001b[0m \u001b[0;34m\u001b[0m\u001b[0m\n\u001b[0;32m--> 352\u001b[0;31m         \u001b[0mresponse\u001b[0m \u001b[0;34m=\u001b[0m \u001b[0mself\u001b[0m\u001b[0;34m.\u001b[0m\u001b[0mcommand_executor\u001b[0m\u001b[0;34m.\u001b[0m\u001b[0mexecute\u001b[0m\u001b[0;34m(\u001b[0m\u001b[0mdriver_command\u001b[0m\u001b[0;34m,\u001b[0m \u001b[0mparams\u001b[0m\u001b[0;34m)\u001b[0m\u001b[0;34m\u001b[0m\u001b[0;34m\u001b[0m\u001b[0m\n\u001b[0m\u001b[1;32m    353\u001b[0m         \u001b[0;32mif\u001b[0m \u001b[0mresponse\u001b[0m\u001b[0;34m:\u001b[0m\u001b[0;34m\u001b[0m\u001b[0;34m\u001b[0m\u001b[0m\n\u001b[1;32m    354\u001b[0m             \u001b[0mself\u001b[0m\u001b[0;34m.\u001b[0m\u001b[0merror_handler\u001b[0m\u001b[0;34m.\u001b[0m\u001b[0mcheck_response\u001b[0m\u001b[0;34m(\u001b[0m\u001b[0mresponse\u001b[0m\u001b[0;34m)\u001b[0m\u001b[0;34m\u001b[0m\u001b[0;34m\u001b[0m\u001b[0m\n",
            "\u001b[0;32m/usr/local/lib/python3.10/dist-packages/selenium/webdriver/remote/remote_connection.py\u001b[0m in \u001b[0;36mexecute\u001b[0;34m(self, command, params)\u001b[0m\n\u001b[1;32m    300\u001b[0m         \u001b[0mtrimmed\u001b[0m \u001b[0;34m=\u001b[0m \u001b[0mself\u001b[0m\u001b[0;34m.\u001b[0m\u001b[0m_trim_large_entries\u001b[0m\u001b[0;34m(\u001b[0m\u001b[0mparams\u001b[0m\u001b[0;34m)\u001b[0m\u001b[0;34m\u001b[0m\u001b[0;34m\u001b[0m\u001b[0m\n\u001b[1;32m    301\u001b[0m         \u001b[0mLOGGER\u001b[0m\u001b[0;34m.\u001b[0m\u001b[0mdebug\u001b[0m\u001b[0;34m(\u001b[0m\u001b[0;34m\"%s %s %s\"\u001b[0m\u001b[0;34m,\u001b[0m \u001b[0mcommand_info\u001b[0m\u001b[0;34m[\u001b[0m\u001b[0;36m0\u001b[0m\u001b[0;34m]\u001b[0m\u001b[0;34m,\u001b[0m \u001b[0murl\u001b[0m\u001b[0;34m,\u001b[0m \u001b[0mstr\u001b[0m\u001b[0;34m(\u001b[0m\u001b[0mtrimmed\u001b[0m\u001b[0;34m)\u001b[0m\u001b[0;34m)\u001b[0m\u001b[0;34m\u001b[0m\u001b[0;34m\u001b[0m\u001b[0m\n\u001b[0;32m--> 302\u001b[0;31m         \u001b[0;32mreturn\u001b[0m \u001b[0mself\u001b[0m\u001b[0;34m.\u001b[0m\u001b[0m_request\u001b[0m\u001b[0;34m(\u001b[0m\u001b[0mcommand_info\u001b[0m\u001b[0;34m[\u001b[0m\u001b[0;36m0\u001b[0m\u001b[0;34m]\u001b[0m\u001b[0;34m,\u001b[0m \u001b[0murl\u001b[0m\u001b[0;34m,\u001b[0m \u001b[0mbody\u001b[0m\u001b[0;34m=\u001b[0m\u001b[0mdata\u001b[0m\u001b[0;34m)\u001b[0m\u001b[0;34m\u001b[0m\u001b[0;34m\u001b[0m\u001b[0m\n\u001b[0m\u001b[1;32m    303\u001b[0m \u001b[0;34m\u001b[0m\u001b[0m\n\u001b[1;32m    304\u001b[0m     \u001b[0;32mdef\u001b[0m \u001b[0m_request\u001b[0m\u001b[0;34m(\u001b[0m\u001b[0mself\u001b[0m\u001b[0;34m,\u001b[0m \u001b[0mmethod\u001b[0m\u001b[0;34m,\u001b[0m \u001b[0murl\u001b[0m\u001b[0;34m,\u001b[0m \u001b[0mbody\u001b[0m\u001b[0;34m=\u001b[0m\u001b[0;32mNone\u001b[0m\u001b[0;34m)\u001b[0m\u001b[0;34m:\u001b[0m\u001b[0;34m\u001b[0m\u001b[0;34m\u001b[0m\u001b[0m\n",
            "\u001b[0;32m/usr/local/lib/python3.10/dist-packages/selenium/webdriver/remote/remote_connection.py\u001b[0m in \u001b[0;36m_request\u001b[0;34m(self, method, url, body)\u001b[0m\n\u001b[1;32m    320\u001b[0m \u001b[0;34m\u001b[0m\u001b[0m\n\u001b[1;32m    321\u001b[0m         \u001b[0;32mif\u001b[0m \u001b[0mself\u001b[0m\u001b[0;34m.\u001b[0m\u001b[0mkeep_alive\u001b[0m\u001b[0;34m:\u001b[0m\u001b[0;34m\u001b[0m\u001b[0;34m\u001b[0m\u001b[0m\n\u001b[0;32m--> 322\u001b[0;31m             \u001b[0mresponse\u001b[0m \u001b[0;34m=\u001b[0m \u001b[0mself\u001b[0m\u001b[0;34m.\u001b[0m\u001b[0m_conn\u001b[0m\u001b[0;34m.\u001b[0m\u001b[0mrequest\u001b[0m\u001b[0;34m(\u001b[0m\u001b[0mmethod\u001b[0m\u001b[0;34m,\u001b[0m \u001b[0murl\u001b[0m\u001b[0;34m,\u001b[0m \u001b[0mbody\u001b[0m\u001b[0;34m=\u001b[0m\u001b[0mbody\u001b[0m\u001b[0;34m,\u001b[0m \u001b[0mheaders\u001b[0m\u001b[0;34m=\u001b[0m\u001b[0mheaders\u001b[0m\u001b[0;34m)\u001b[0m\u001b[0;34m\u001b[0m\u001b[0;34m\u001b[0m\u001b[0m\n\u001b[0m\u001b[1;32m    323\u001b[0m             \u001b[0mstatuscode\u001b[0m \u001b[0;34m=\u001b[0m \u001b[0mresponse\u001b[0m\u001b[0;34m.\u001b[0m\u001b[0mstatus\u001b[0m\u001b[0;34m\u001b[0m\u001b[0;34m\u001b[0m\u001b[0m\n\u001b[1;32m    324\u001b[0m         \u001b[0;32melse\u001b[0m\u001b[0;34m:\u001b[0m\u001b[0;34m\u001b[0m\u001b[0;34m\u001b[0m\u001b[0m\n",
            "\u001b[0;32m/usr/local/lib/python3.10/dist-packages/urllib3/_request_methods.py\u001b[0m in \u001b[0;36mrequest\u001b[0;34m(self, method, url, body, fields, headers, json, **urlopen_kw)\u001b[0m\n\u001b[1;32m    116\u001b[0m             )\n\u001b[1;32m    117\u001b[0m         \u001b[0;32melse\u001b[0m\u001b[0;34m:\u001b[0m\u001b[0;34m\u001b[0m\u001b[0;34m\u001b[0m\u001b[0m\n\u001b[0;32m--> 118\u001b[0;31m             return self.request_encode_body(\n\u001b[0m\u001b[1;32m    119\u001b[0m                 \u001b[0mmethod\u001b[0m\u001b[0;34m,\u001b[0m \u001b[0murl\u001b[0m\u001b[0;34m,\u001b[0m \u001b[0mfields\u001b[0m\u001b[0;34m=\u001b[0m\u001b[0mfields\u001b[0m\u001b[0;34m,\u001b[0m \u001b[0mheaders\u001b[0m\u001b[0;34m=\u001b[0m\u001b[0mheaders\u001b[0m\u001b[0;34m,\u001b[0m \u001b[0;34m**\u001b[0m\u001b[0murlopen_kw\u001b[0m\u001b[0;34m\u001b[0m\u001b[0;34m\u001b[0m\u001b[0m\n\u001b[1;32m    120\u001b[0m             )\n",
            "\u001b[0;32m/usr/local/lib/python3.10/dist-packages/urllib3/_request_methods.py\u001b[0m in \u001b[0;36mrequest_encode_body\u001b[0;34m(self, method, url, fields, headers, encode_multipart, multipart_boundary, **urlopen_kw)\u001b[0m\n\u001b[1;32m    215\u001b[0m         \u001b[0mextra_kw\u001b[0m\u001b[0;34m.\u001b[0m\u001b[0mupdate\u001b[0m\u001b[0;34m(\u001b[0m\u001b[0murlopen_kw\u001b[0m\u001b[0;34m)\u001b[0m\u001b[0;34m\u001b[0m\u001b[0;34m\u001b[0m\u001b[0m\n\u001b[1;32m    216\u001b[0m \u001b[0;34m\u001b[0m\u001b[0m\n\u001b[0;32m--> 217\u001b[0;31m         \u001b[0;32mreturn\u001b[0m \u001b[0mself\u001b[0m\u001b[0;34m.\u001b[0m\u001b[0murlopen\u001b[0m\u001b[0;34m(\u001b[0m\u001b[0mmethod\u001b[0m\u001b[0;34m,\u001b[0m \u001b[0murl\u001b[0m\u001b[0;34m,\u001b[0m \u001b[0;34m**\u001b[0m\u001b[0mextra_kw\u001b[0m\u001b[0;34m)\u001b[0m\u001b[0;34m\u001b[0m\u001b[0;34m\u001b[0m\u001b[0m\n\u001b[0m",
            "\u001b[0;32m/usr/local/lib/python3.10/dist-packages/urllib3/poolmanager.py\u001b[0m in \u001b[0;36murlopen\u001b[0;34m(self, method, url, redirect, **kw)\u001b[0m\n\u001b[1;32m    441\u001b[0m             \u001b[0mresponse\u001b[0m \u001b[0;34m=\u001b[0m \u001b[0mconn\u001b[0m\u001b[0;34m.\u001b[0m\u001b[0murlopen\u001b[0m\u001b[0;34m(\u001b[0m\u001b[0mmethod\u001b[0m\u001b[0;34m,\u001b[0m \u001b[0murl\u001b[0m\u001b[0;34m,\u001b[0m \u001b[0;34m**\u001b[0m\u001b[0mkw\u001b[0m\u001b[0;34m)\u001b[0m\u001b[0;34m\u001b[0m\u001b[0;34m\u001b[0m\u001b[0m\n\u001b[1;32m    442\u001b[0m         \u001b[0;32melse\u001b[0m\u001b[0;34m:\u001b[0m\u001b[0;34m\u001b[0m\u001b[0;34m\u001b[0m\u001b[0m\n\u001b[0;32m--> 443\u001b[0;31m             \u001b[0mresponse\u001b[0m \u001b[0;34m=\u001b[0m \u001b[0mconn\u001b[0m\u001b[0;34m.\u001b[0m\u001b[0murlopen\u001b[0m\u001b[0;34m(\u001b[0m\u001b[0mmethod\u001b[0m\u001b[0;34m,\u001b[0m \u001b[0mu\u001b[0m\u001b[0;34m.\u001b[0m\u001b[0mrequest_uri\u001b[0m\u001b[0;34m,\u001b[0m \u001b[0;34m**\u001b[0m\u001b[0mkw\u001b[0m\u001b[0;34m)\u001b[0m\u001b[0;34m\u001b[0m\u001b[0;34m\u001b[0m\u001b[0m\n\u001b[0m\u001b[1;32m    444\u001b[0m \u001b[0;34m\u001b[0m\u001b[0m\n\u001b[1;32m    445\u001b[0m         \u001b[0mredirect_location\u001b[0m \u001b[0;34m=\u001b[0m \u001b[0mredirect\u001b[0m \u001b[0;32mand\u001b[0m \u001b[0mresponse\u001b[0m\u001b[0;34m.\u001b[0m\u001b[0mget_redirect_location\u001b[0m\u001b[0;34m(\u001b[0m\u001b[0;34m)\u001b[0m\u001b[0;34m\u001b[0m\u001b[0;34m\u001b[0m\u001b[0m\n",
            "\u001b[0;32m/usr/local/lib/python3.10/dist-packages/urllib3/connectionpool.py\u001b[0m in \u001b[0;36murlopen\u001b[0;34m(self, method, url, body, headers, retries, redirect, assert_same_host, timeout, pool_timeout, release_conn, chunked, body_pos, preload_content, decode_content, **response_kw)\u001b[0m\n\u001b[1;32m    873\u001b[0m                 \u001b[0;34m\"Retrying (%r) after connection broken by '%r': %s\"\u001b[0m\u001b[0;34m,\u001b[0m \u001b[0mretries\u001b[0m\u001b[0;34m,\u001b[0m \u001b[0merr\u001b[0m\u001b[0;34m,\u001b[0m \u001b[0murl\u001b[0m\u001b[0;34m\u001b[0m\u001b[0;34m\u001b[0m\u001b[0m\n\u001b[1;32m    874\u001b[0m             )\n\u001b[0;32m--> 875\u001b[0;31m             return self.urlopen(\n\u001b[0m\u001b[1;32m    876\u001b[0m                 \u001b[0mmethod\u001b[0m\u001b[0;34m,\u001b[0m\u001b[0;34m\u001b[0m\u001b[0;34m\u001b[0m\u001b[0m\n\u001b[1;32m    877\u001b[0m                 \u001b[0murl\u001b[0m\u001b[0;34m,\u001b[0m\u001b[0;34m\u001b[0m\u001b[0;34m\u001b[0m\u001b[0m\n",
            "\u001b[0;32m/usr/local/lib/python3.10/dist-packages/urllib3/connectionpool.py\u001b[0m in \u001b[0;36murlopen\u001b[0;34m(self, method, url, body, headers, retries, redirect, assert_same_host, timeout, pool_timeout, release_conn, chunked, body_pos, preload_content, decode_content, **response_kw)\u001b[0m\n\u001b[1;32m    873\u001b[0m                 \u001b[0;34m\"Retrying (%r) after connection broken by '%r': %s\"\u001b[0m\u001b[0;34m,\u001b[0m \u001b[0mretries\u001b[0m\u001b[0;34m,\u001b[0m \u001b[0merr\u001b[0m\u001b[0;34m,\u001b[0m \u001b[0murl\u001b[0m\u001b[0;34m\u001b[0m\u001b[0;34m\u001b[0m\u001b[0m\n\u001b[1;32m    874\u001b[0m             )\n\u001b[0;32m--> 875\u001b[0;31m             return self.urlopen(\n\u001b[0m\u001b[1;32m    876\u001b[0m                 \u001b[0mmethod\u001b[0m\u001b[0;34m,\u001b[0m\u001b[0;34m\u001b[0m\u001b[0;34m\u001b[0m\u001b[0m\n\u001b[1;32m    877\u001b[0m                 \u001b[0murl\u001b[0m\u001b[0;34m,\u001b[0m\u001b[0;34m\u001b[0m\u001b[0;34m\u001b[0m\u001b[0m\n",
            "\u001b[0;32m/usr/local/lib/python3.10/dist-packages/urllib3/connectionpool.py\u001b[0m in \u001b[0;36murlopen\u001b[0;34m(self, method, url, body, headers, retries, redirect, assert_same_host, timeout, pool_timeout, release_conn, chunked, body_pos, preload_content, decode_content, **response_kw)\u001b[0m\n\u001b[1;32m    873\u001b[0m                 \u001b[0;34m\"Retrying (%r) after connection broken by '%r': %s\"\u001b[0m\u001b[0;34m,\u001b[0m \u001b[0mretries\u001b[0m\u001b[0;34m,\u001b[0m \u001b[0merr\u001b[0m\u001b[0;34m,\u001b[0m \u001b[0murl\u001b[0m\u001b[0;34m\u001b[0m\u001b[0;34m\u001b[0m\u001b[0m\n\u001b[1;32m    874\u001b[0m             )\n\u001b[0;32m--> 875\u001b[0;31m             return self.urlopen(\n\u001b[0m\u001b[1;32m    876\u001b[0m                 \u001b[0mmethod\u001b[0m\u001b[0;34m,\u001b[0m\u001b[0;34m\u001b[0m\u001b[0;34m\u001b[0m\u001b[0m\n\u001b[1;32m    877\u001b[0m                 \u001b[0murl\u001b[0m\u001b[0;34m,\u001b[0m\u001b[0;34m\u001b[0m\u001b[0;34m\u001b[0m\u001b[0m\n",
            "\u001b[0;32m/usr/local/lib/python3.10/dist-packages/urllib3/connectionpool.py\u001b[0m in \u001b[0;36murlopen\u001b[0;34m(self, method, url, body, headers, retries, redirect, assert_same_host, timeout, pool_timeout, release_conn, chunked, body_pos, preload_content, decode_content, **response_kw)\u001b[0m\n\u001b[1;32m    843\u001b[0m                 \u001b[0mnew_e\u001b[0m \u001b[0;34m=\u001b[0m \u001b[0mProtocolError\u001b[0m\u001b[0;34m(\u001b[0m\u001b[0;34m\"Connection aborted.\"\u001b[0m\u001b[0;34m,\u001b[0m \u001b[0mnew_e\u001b[0m\u001b[0;34m)\u001b[0m\u001b[0;34m\u001b[0m\u001b[0;34m\u001b[0m\u001b[0m\n\u001b[1;32m    844\u001b[0m \u001b[0;34m\u001b[0m\u001b[0m\n\u001b[0;32m--> 845\u001b[0;31m             retries = retries.increment(\n\u001b[0m\u001b[1;32m    846\u001b[0m                 \u001b[0mmethod\u001b[0m\u001b[0;34m,\u001b[0m \u001b[0murl\u001b[0m\u001b[0;34m,\u001b[0m \u001b[0merror\u001b[0m\u001b[0;34m=\u001b[0m\u001b[0mnew_e\u001b[0m\u001b[0;34m,\u001b[0m \u001b[0m_pool\u001b[0m\u001b[0;34m=\u001b[0m\u001b[0mself\u001b[0m\u001b[0;34m,\u001b[0m \u001b[0m_stacktrace\u001b[0m\u001b[0;34m=\u001b[0m\u001b[0msys\u001b[0m\u001b[0;34m.\u001b[0m\u001b[0mexc_info\u001b[0m\u001b[0;34m(\u001b[0m\u001b[0;34m)\u001b[0m\u001b[0;34m[\u001b[0m\u001b[0;36m2\u001b[0m\u001b[0;34m]\u001b[0m\u001b[0;34m\u001b[0m\u001b[0;34m\u001b[0m\u001b[0m\n\u001b[1;32m    847\u001b[0m             )\n",
            "\u001b[0;32m/usr/local/lib/python3.10/dist-packages/urllib3/util/retry.py\u001b[0m in \u001b[0;36mincrement\u001b[0;34m(self, method, url, response, error, _pool, _stacktrace)\u001b[0m\n\u001b[1;32m    513\u001b[0m         \u001b[0;32mif\u001b[0m \u001b[0mnew_retry\u001b[0m\u001b[0;34m.\u001b[0m\u001b[0mis_exhausted\u001b[0m\u001b[0;34m(\u001b[0m\u001b[0;34m)\u001b[0m\u001b[0;34m:\u001b[0m\u001b[0;34m\u001b[0m\u001b[0;34m\u001b[0m\u001b[0m\n\u001b[1;32m    514\u001b[0m             \u001b[0mreason\u001b[0m \u001b[0;34m=\u001b[0m \u001b[0merror\u001b[0m \u001b[0;32mor\u001b[0m \u001b[0mResponseError\u001b[0m\u001b[0;34m(\u001b[0m\u001b[0mcause\u001b[0m\u001b[0;34m)\u001b[0m\u001b[0;34m\u001b[0m\u001b[0;34m\u001b[0m\u001b[0m\n\u001b[0;32m--> 515\u001b[0;31m             \u001b[0;32mraise\u001b[0m \u001b[0mMaxRetryError\u001b[0m\u001b[0;34m(\u001b[0m\u001b[0m_pool\u001b[0m\u001b[0;34m,\u001b[0m \u001b[0murl\u001b[0m\u001b[0;34m,\u001b[0m \u001b[0mreason\u001b[0m\u001b[0;34m)\u001b[0m \u001b[0;32mfrom\u001b[0m \u001b[0mreason\u001b[0m  \u001b[0;31m# type: ignore[arg-type]\u001b[0m\u001b[0;34m\u001b[0m\u001b[0;34m\u001b[0m\u001b[0m\n\u001b[0m\u001b[1;32m    516\u001b[0m \u001b[0;34m\u001b[0m\u001b[0m\n\u001b[1;32m    517\u001b[0m         \u001b[0mlog\u001b[0m\u001b[0;34m.\u001b[0m\u001b[0mdebug\u001b[0m\u001b[0;34m(\u001b[0m\u001b[0;34m\"Incremented Retry for (url='%s'): %r\"\u001b[0m\u001b[0;34m,\u001b[0m \u001b[0murl\u001b[0m\u001b[0;34m,\u001b[0m \u001b[0mnew_retry\u001b[0m\u001b[0;34m)\u001b[0m\u001b[0;34m\u001b[0m\u001b[0;34m\u001b[0m\u001b[0m\n",
            "\u001b[0;31mMaxRetryError\u001b[0m: HTTPConnectionPool(host='localhost', port=55143): Max retries exceeded with url: /session/f394f746ba32149c15d1caa35423144b/elements (Caused by NewConnectionError('<urllib3.connection.HTTPConnection object at 0x7dcac7963a90>: Failed to establish a new connection: [Errno 111] Connection refused'))"
          ]
        }
      ],
      "source": [
        "# Write Your Code here\n",
        "tv_url=[]\n",
        "\n",
        "# Define title_tv_list before using it.\n",
        "# Replace this with the actual way you want to get the list of WebElements.\n",
        "title_tv_list = driver.find_elements('xpath', 'your_xpath_here')\n",
        "\n",
        "for i in title_tv_list:\n",
        "    name=i.get_attribute('href')\n",
        "    tv_url.append(name)\n",
        "tv_url"
      ]
    },
    {
      "cell_type": "markdown",
      "metadata": {
        "id": "1vZLzmqcKDPX"
      },
      "source": [
        "## **Fetching Tv Show Title details**"
      ]
    },
    {
      "cell_type": "code",
      "execution_count": 39,
      "metadata": {
        "id": "a8Y6UF6-JLvO",
        "colab": {
          "base_uri": "https://localhost:8080/"
        },
        "outputId": "dbb14be6-a0d6-41c7-97dd-d10fbf619b0d"
      },
      "outputs": [
        {
          "output_type": "stream",
          "name": "stdout",
          "text": [
            "[]\n"
          ]
        }
      ],
      "source": [
        "# Write Your Code here\n",
        "tv_show_names = []\n",
        "\n",
        "# Extract the TV show names from the URLs\n",
        "for url in Tv_url:\n",
        "    tv_show_name = url.split('/')[-1]\n",
        "    tv_show_names.append(tv_show_name)\n",
        "\n",
        "print(tv_show_names)"
      ]
    },
    {
      "cell_type": "code",
      "execution_count": 44,
      "metadata": {
        "id": "9f1ctEqsdJQD",
        "colab": {
          "base_uri": "https://localhost:8080/"
        },
        "outputId": "d1f75e64-e3c4-41d0-fdca-3c0014ff6a00"
      },
      "outputs": [
        {
          "output_type": "execute_result",
          "data": {
            "text/plain": [
              "[]"
            ]
          },
          "metadata": {},
          "execution_count": 44
        }
      ],
      "source": [
        "tv_show_names"
      ]
    },
    {
      "cell_type": "markdown",
      "metadata": {
        "id": "mEIt9j6RKa9B"
      },
      "source": [
        "## **Fetching Release Year**"
      ]
    },
    {
      "cell_type": "code",
      "execution_count": 45,
      "metadata": {
        "id": "r72fyiF8JozW"
      },
      "outputs": [],
      "source": [
        "# Write Your Code here\n",
        "Tv_Release_year=[]\n",
        "for tv_url in Tv_url:\n",
        "    # Navigate to the Tv URL\n",
        "    driver.get(tv_url)\n",
        "\n",
        "    try:\n",
        "        # Find the release year element\n",
        "        release_year_element = driver.find_element(By.XPATH, \"//span[@class='text-muted']\")\n",
        "        release_year = release_year_element.text.strip(\"()\")\n",
        "    except:\n",
        "        release_year = \"Release Year not found\"\n",
        "    Tv_Release_year.append({\"Tv url\": tv_url, \"Release Year\": release_year})\n",
        "\n",
        "for release in Tv_Release_year:\n",
        "  print(release)"
      ]
    },
    {
      "cell_type": "code",
      "execution_count": 46,
      "metadata": {
        "id": "ex51qjBjbuCn"
      },
      "outputs": [],
      "source": [
        "tv_release_years = [year[\"Release Year\"] for year in Tv_Release_year]\n"
      ]
    },
    {
      "cell_type": "code",
      "execution_count": 47,
      "metadata": {
        "id": "xi-_gbKLdPNo",
        "colab": {
          "base_uri": "https://localhost:8080/"
        },
        "outputId": "ef61c3fd-44e0-4c3f-f6bd-3e8a62531289"
      },
      "outputs": [
        {
          "output_type": "execute_result",
          "data": {
            "text/plain": [
              "[]"
            ]
          },
          "metadata": {},
          "execution_count": 47
        }
      ],
      "source": [
        "tv_release_years"
      ]
    },
    {
      "cell_type": "markdown",
      "metadata": {
        "id": "P96pGO9kRCLv"
      },
      "source": [
        "## **Fetching TV Show Genre Details**"
      ]
    },
    {
      "cell_type": "code",
      "execution_count": 48,
      "metadata": {
        "id": "Jay8a9xgT43-",
        "colab": {
          "base_uri": "https://localhost:8080/"
        },
        "outputId": "0756217c-af20-4494-d17a-c5da813194b1"
      },
      "outputs": [
        {
          "output_type": "stream",
          "name": "stdout",
          "text": [
            "[]\n"
          ]
        }
      ],
      "source": [
        "# Write Your Code here\n",
        "def fetch_genre(url2):\n",
        "    response = requests.get(url2)\n",
        "    if response.status_code == 200:\n",
        "        soup = BeautifulSoup(response.content, 'html.parser')\n",
        "\n",
        "        # Find the genres using the provided XPath expression\n",
        "        genres_heading = soup.find('h3', class_='detail-infos__subheading', text='Genres')\n",
        "        if genres_heading:\n",
        "            genres_element = genres_heading.find_next_sibling('div', class_='detail-infos__value')\n",
        "            genres = genres_element.text.strip()\n",
        "\n",
        "            # Split the genres into a list\n",
        "            genres_list = [genre.strip() for genre in genres.split(',')]\n",
        "            return genres_list\n",
        "    return None\n",
        "\n",
        "# Fetch genres for each URL in 'tv' and store in a new list 'Tv_generes'\n",
        "Tv_genres = []\n",
        "\n",
        "for tv_url in Tv_url:\n",
        "    genres = fetch_genre(tv_url)\n",
        "    if genres:\n",
        "        Tv_genres.extend(genres)\n",
        "\n",
        "# Print the list of all genres\n",
        "print(Tv_genres)"
      ]
    },
    {
      "cell_type": "code",
      "execution_count": 49,
      "metadata": {
        "id": "tF6MjXg7dVQh",
        "colab": {
          "base_uri": "https://localhost:8080/"
        },
        "outputId": "bdda8e73-267c-4693-9851-ff50953c9075"
      },
      "outputs": [
        {
          "output_type": "execute_result",
          "data": {
            "text/plain": [
              "[]"
            ]
          },
          "metadata": {},
          "execution_count": 49
        }
      ],
      "source": [
        "Tv_genres"
      ]
    },
    {
      "cell_type": "markdown",
      "metadata": {
        "id": "hk3eSdDAXQv8"
      },
      "source": [
        "## **Fetching IMDB Rating Details**"
      ]
    },
    {
      "cell_type": "code",
      "execution_count": 51,
      "metadata": {
        "id": "NV9-xqPzJzRf"
      },
      "outputs": [],
      "source": [
        "def fetch_imdb(url2):\n",
        "    response = requests.get(url2)\n",
        "    if response.status_code == 200:\n",
        "        soup = BeautifulSoup(response.content, 'html.parser')\n",
        "\n",
        "        # Find the genres using the provided XPath expression\n",
        "        imdb_heading = soup.find('h3', class_='detail-infos__subheading', text='Rating')\n",
        "        if imdb_heading:\n",
        "            imdb_element = imdb_heading.find_next_sibling('div', class_='detail-infos__value')\n",
        "            imdb = imdb_element.text.strip()\n",
        "\n",
        "            # Split the genres into a list\n",
        "            imdb_list = [imdb.strip() for imdb in imdb.split(',')]\n",
        "            return imdb_list\n",
        "    return None\n",
        "\n",
        "# Fetch genres for each URL in 'tv' and store in a new list 'Tv_generes'\n",
        "Tv_imdb = []\n",
        "\n",
        "for tv_url in Tv_url:\n",
        "    imdb = fetch_imdb(tv_url)\n",
        "    if imdb:\n",
        "        Tv_imdb.extend(imdb)"
      ]
    },
    {
      "cell_type": "code",
      "execution_count": 52,
      "metadata": {
        "id": "Fq13cnTHcEi-",
        "colab": {
          "base_uri": "https://localhost:8080/"
        },
        "outputId": "876b3292-6781-4322-a8e6-2124565672dc"
      },
      "outputs": [
        {
          "output_type": "execute_result",
          "data": {
            "text/plain": [
              "[]"
            ]
          },
          "metadata": {},
          "execution_count": 52
        }
      ],
      "source": [
        "Tv_imdb"
      ]
    },
    {
      "cell_type": "markdown",
      "metadata": {
        "id": "mHZwwgiKdlQm"
      },
      "source": [
        "## **Fetching Streaming Service details**"
      ]
    },
    {
      "cell_type": "code",
      "execution_count": 53,
      "metadata": {
        "id": "_MBl6Vqadrl9"
      },
      "outputs": [],
      "source": [
        "# Write Your Code here\n",
        "Streaming_service = []  # Use the same list variable consistently\n",
        "\n",
        "for tv_url in Tv_url:\n",
        "    # Navigate to the Tv URL\n",
        "    driver.get(tv_url)\n",
        "\n",
        "    try:\n",
        "        # Find the provider element\n",
        "        provider_element = driver.find_element(By.XPATH, \"//img[@class='offer__icon']\")\n",
        "        provider_name = provider_element.get_attribute('alt')\n",
        "    except:\n",
        "        provider_name = \"Provider not found\"\n",
        "\n",
        "    Streaming_service.append({\"Tv URL\": tv_url, \"Provider Name\": provider_name})\n",
        "\n",
        "for stream in Streaming_service:\n",
        "  print(stream)"
      ]
    },
    {
      "cell_type": "code",
      "execution_count": 54,
      "metadata": {
        "id": "JzKBfwUYcofi",
        "colab": {
          "base_uri": "https://localhost:8080/"
        },
        "outputId": "47a57ab0-767f-4105-dd56-91fa5cdaca69"
      },
      "outputs": [
        {
          "output_type": "stream",
          "name": "stdout",
          "text": [
            "[]\n"
          ]
        }
      ],
      "source": [
        "Tv_streaming = [Tv_info['Provider Name'] if 'Provider Name' in Tv_info else 'not found' for Tv_info in Streaming_service]\n",
        "print(Tv_streaming)"
      ]
    },
    {
      "cell_type": "code",
      "execution_count": 55,
      "metadata": {
        "id": "etT6SaxXc90S",
        "colab": {
          "base_uri": "https://localhost:8080/"
        },
        "outputId": "9b3a8376-b185-45a7-9b50-8181c314c164"
      },
      "outputs": [
        {
          "output_type": "stream",
          "name": "stdout",
          "text": [
            "0\n"
          ]
        }
      ],
      "source": [
        "Tv_streaming = [Tv_info['Provider Name'] for Tv_info in Streaming_service]\n",
        "\n",
        "print(len(Tv_streaming))"
      ]
    },
    {
      "cell_type": "code",
      "execution_count": 56,
      "metadata": {
        "id": "yge94hnTdf31",
        "colab": {
          "base_uri": "https://localhost:8080/"
        },
        "outputId": "4bf49171-2257-4f30-c736-536230895904"
      },
      "outputs": [
        {
          "output_type": "execute_result",
          "data": {
            "text/plain": [
              "[]"
            ]
          },
          "metadata": {},
          "execution_count": 56
        }
      ],
      "source": [
        "Tv_streaming"
      ]
    },
    {
      "cell_type": "code",
      "execution_count": 57,
      "metadata": {
        "id": "YKXG4aXtNHLR",
        "colab": {
          "base_uri": "https://localhost:8080/"
        },
        "outputId": "602c2fde-5260-4cc6-ee4e-27ce2f5dae51"
      },
      "outputs": [
        {
          "output_type": "execute_result",
          "data": {
            "text/plain": [
              "[]"
            ]
          },
          "metadata": {},
          "execution_count": 57
        }
      ],
      "source": [
        "Tv_url"
      ]
    },
    {
      "cell_type": "code",
      "execution_count": 58,
      "metadata": {
        "id": "1rHB6E1PQIrM"
      },
      "outputs": [],
      "source": [
        "Tv_imdb_ratings = [rating for rating in Tv_imdb if rating != 'not listed']"
      ]
    },
    {
      "cell_type": "code",
      "execution_count": null,
      "metadata": {
        "id": "gBJvTmiWdr0R"
      },
      "outputs": [],
      "source": [
        "print(len(tv_show_names))\n",
        "print(len(tv_release_years))\n",
        "print(len(Tv_genres))\n",
        "print(len(Tv_url))\n",
        "print(len(Tv_imdb_ratings))\n",
        "print(len(Tv_streaming))"
      ]
    },
    {
      "cell_type": "code",
      "execution_count": null,
      "metadata": {
        "id": "o4x4YY6AfoL1"
      },
      "outputs": [],
      "source": [
        "# Write Your Code here\n",
        "driver.quit()"
      ]
    },
    {
      "cell_type": "markdown",
      "metadata": {
        "id": "nD4QVPT-nfVR"
      },
      "source": [
        "## **Creating TV Show DataFrame**"
      ]
    },
    {
      "cell_type": "code",
      "execution_count": 59,
      "metadata": {
        "id": "W3Lnlb-xip2U",
        "colab": {
          "base_uri": "https://localhost:8080/",
          "height": 53
        },
        "outputId": "c3037621-0de2-4909-cd4e-6ef778a5df0d"
      },
      "outputs": [
        {
          "output_type": "execute_result",
          "data": {
            "text/plain": [
              "Empty DataFrame\n",
              "Columns: [Show names, Release year, Genere, url, Imdb Ratings, streaming service]\n",
              "Index: []"
            ],
            "text/html": [
              "\n",
              "  <div id=\"df-41eb5ec7-47ce-442f-83d5-6f8d19f24fb4\" class=\"colab-df-container\">\n",
              "    <div>\n",
              "<style scoped>\n",
              "    .dataframe tbody tr th:only-of-type {\n",
              "        vertical-align: middle;\n",
              "    }\n",
              "\n",
              "    .dataframe tbody tr th {\n",
              "        vertical-align: top;\n",
              "    }\n",
              "\n",
              "    .dataframe thead th {\n",
              "        text-align: right;\n",
              "    }\n",
              "</style>\n",
              "<table border=\"1\" class=\"dataframe\">\n",
              "  <thead>\n",
              "    <tr style=\"text-align: right;\">\n",
              "      <th></th>\n",
              "      <th>Show names</th>\n",
              "      <th>Release year</th>\n",
              "      <th>Genere</th>\n",
              "      <th>url</th>\n",
              "      <th>Imdb Ratings</th>\n",
              "      <th>streaming service</th>\n",
              "    </tr>\n",
              "  </thead>\n",
              "  <tbody>\n",
              "  </tbody>\n",
              "</table>\n",
              "</div>\n",
              "    <div class=\"colab-df-buttons\">\n",
              "\n",
              "  <div class=\"colab-df-container\">\n",
              "    <button class=\"colab-df-convert\" onclick=\"convertToInteractive('df-41eb5ec7-47ce-442f-83d5-6f8d19f24fb4')\"\n",
              "            title=\"Convert this dataframe to an interactive table.\"\n",
              "            style=\"display:none;\">\n",
              "\n",
              "  <svg xmlns=\"http://www.w3.org/2000/svg\" height=\"24px\" viewBox=\"0 -960 960 960\">\n",
              "    <path d=\"M120-120v-720h720v720H120Zm60-500h600v-160H180v160Zm220 220h160v-160H400v160Zm0 220h160v-160H400v160ZM180-400h160v-160H180v160Zm440 0h160v-160H620v160ZM180-180h160v-160H180v160Zm440 0h160v-160H620v160Z\"/>\n",
              "  </svg>\n",
              "    </button>\n",
              "\n",
              "  <style>\n",
              "    .colab-df-container {\n",
              "      display:flex;\n",
              "      gap: 12px;\n",
              "    }\n",
              "\n",
              "    .colab-df-convert {\n",
              "      background-color: #E8F0FE;\n",
              "      border: none;\n",
              "      border-radius: 50%;\n",
              "      cursor: pointer;\n",
              "      display: none;\n",
              "      fill: #1967D2;\n",
              "      height: 32px;\n",
              "      padding: 0 0 0 0;\n",
              "      width: 32px;\n",
              "    }\n",
              "\n",
              "    .colab-df-convert:hover {\n",
              "      background-color: #E2EBFA;\n",
              "      box-shadow: 0px 1px 2px rgba(60, 64, 67, 0.3), 0px 1px 3px 1px rgba(60, 64, 67, 0.15);\n",
              "      fill: #174EA6;\n",
              "    }\n",
              "\n",
              "    .colab-df-buttons div {\n",
              "      margin-bottom: 4px;\n",
              "    }\n",
              "\n",
              "    [theme=dark] .colab-df-convert {\n",
              "      background-color: #3B4455;\n",
              "      fill: #D2E3FC;\n",
              "    }\n",
              "\n",
              "    [theme=dark] .colab-df-convert:hover {\n",
              "      background-color: #434B5C;\n",
              "      box-shadow: 0px 1px 3px 1px rgba(0, 0, 0, 0.15);\n",
              "      filter: drop-shadow(0px 1px 2px rgba(0, 0, 0, 0.3));\n",
              "      fill: #FFFFFF;\n",
              "    }\n",
              "  </style>\n",
              "\n",
              "    <script>\n",
              "      const buttonEl =\n",
              "        document.querySelector('#df-41eb5ec7-47ce-442f-83d5-6f8d19f24fb4 button.colab-df-convert');\n",
              "      buttonEl.style.display =\n",
              "        google.colab.kernel.accessAllowed ? 'block' : 'none';\n",
              "\n",
              "      async function convertToInteractive(key) {\n",
              "        const element = document.querySelector('#df-41eb5ec7-47ce-442f-83d5-6f8d19f24fb4');\n",
              "        const dataTable =\n",
              "          await google.colab.kernel.invokeFunction('convertToInteractive',\n",
              "                                                    [key], {});\n",
              "        if (!dataTable) return;\n",
              "\n",
              "        const docLinkHtml = 'Like what you see? Visit the ' +\n",
              "          '<a target=\"_blank\" href=https://colab.research.google.com/notebooks/data_table.ipynb>data table notebook</a>'\n",
              "          + ' to learn more about interactive tables.';\n",
              "        element.innerHTML = '';\n",
              "        dataTable['output_type'] = 'display_data';\n",
              "        await google.colab.output.renderOutput(dataTable, element);\n",
              "        const docLink = document.createElement('div');\n",
              "        docLink.innerHTML = docLinkHtml;\n",
              "        element.appendChild(docLink);\n",
              "      }\n",
              "    </script>\n",
              "  </div>\n",
              "\n",
              "\n",
              "    </div>\n",
              "  </div>\n"
            ],
            "application/vnd.google.colaboratory.intrinsic+json": {
              "type": "dataframe",
              "variable_name": "Tv_data",
              "summary": "{\n  \"name\": \"Tv_data\",\n  \"rows\": 0,\n  \"fields\": [\n    {\n      \"column\": \"Show names\",\n      \"properties\": {\n        \"dtype\": \"number\",\n        \"std\": null,\n        \"min\": null,\n        \"max\": null,\n        \"num_unique_values\": 0,\n        \"samples\": [],\n        \"semantic_type\": \"\",\n        \"description\": \"\"\n      }\n    },\n    {\n      \"column\": \"Release year\",\n      \"properties\": {\n        \"dtype\": \"number\",\n        \"std\": null,\n        \"min\": null,\n        \"max\": null,\n        \"num_unique_values\": 0,\n        \"samples\": [],\n        \"semantic_type\": \"\",\n        \"description\": \"\"\n      }\n    },\n    {\n      \"column\": \"Genere\",\n      \"properties\": {\n        \"dtype\": \"number\",\n        \"std\": null,\n        \"min\": null,\n        \"max\": null,\n        \"num_unique_values\": 0,\n        \"samples\": [],\n        \"semantic_type\": \"\",\n        \"description\": \"\"\n      }\n    },\n    {\n      \"column\": \"url\",\n      \"properties\": {\n        \"dtype\": \"number\",\n        \"std\": null,\n        \"min\": null,\n        \"max\": null,\n        \"num_unique_values\": 0,\n        \"samples\": [],\n        \"semantic_type\": \"\",\n        \"description\": \"\"\n      }\n    },\n    {\n      \"column\": \"Imdb Ratings\",\n      \"properties\": {\n        \"dtype\": \"number\",\n        \"std\": null,\n        \"min\": null,\n        \"max\": null,\n        \"num_unique_values\": 0,\n        \"samples\": [],\n        \"semantic_type\": \"\",\n        \"description\": \"\"\n      }\n    },\n    {\n      \"column\": \"streaming service\",\n      \"properties\": {\n        \"dtype\": \"number\",\n        \"std\": null,\n        \"min\": null,\n        \"max\": null,\n        \"num_unique_values\": 0,\n        \"samples\": [],\n        \"semantic_type\": \"\",\n        \"description\": \"\"\n      }\n    }\n  ]\n}"
            }
          },
          "metadata": {},
          "execution_count": 59
        }
      ],
      "source": [
        "# Write Your Code here\n",
        "import pandas as pd\n",
        "Tv_data=pd.DataFrame()\n",
        "Tv_data['Show names']=tv_show_names[:80]\n",
        "Tv_data['Release year']=tv_release_years[:80]\n",
        "Tv_data['Genere']=Tv_genres[:80]\n",
        "Tv_data['url']=Tv_url[:80]\n",
        "Tv_data['Imdb Ratings']=Tv_imdb_ratings[:80]\n",
        "Tv_data['streaming service']=Tv_streaming[:80]\n",
        "Tv_data.head()"
      ]
    },
    {
      "cell_type": "markdown",
      "metadata": {
        "id": "CyqHHKh4IDx6"
      },
      "source": [
        "## **Task 2 :- Data Filtering & Analysis**"
      ]
    },
    {
      "cell_type": "code",
      "execution_count": 60,
      "metadata": {
        "id": "AzJBxvzSPG2n"
      },
      "outputs": [],
      "source": [
        "import pandas as pd"
      ]
    },
    {
      "cell_type": "code",
      "execution_count": 61,
      "metadata": {
        "id": "ly64H04vH1v9"
      },
      "outputs": [],
      "source": [
        "# Write Your Code here\n",
        "df1 = Movies_data\n",
        "df2 = Tv_data"
      ]
    },
    {
      "cell_type": "code",
      "execution_count": 62,
      "metadata": {
        "id": "oKzJrAoFPA5P",
        "colab": {
          "base_uri": "https://localhost:8080/",
          "height": 363
        },
        "outputId": "fcfdb433-41c5-496d-86a7-8bbe517a11c3"
      },
      "outputs": [
        {
          "output_type": "execute_result",
          "data": {
            "text/plain": [
              "                      Movie Names Release Year Movie Genres  \\\n",
              "0                       project-k         2024                \n",
              "1                          munjha         2024                \n",
              "2                   aavesham-2024         2024                \n",
              "3                     family-star         2024                \n",
              "4  the-gangster-the-cop-the-devil         2019                \n",
              "5                    the-fall-guy         2024                \n",
              "6                         hit-man         2024                \n",
              "7              godzilla-minus-one         2023                \n",
              "8                      inside-out         2015                \n",
              "9  godzilla-x-kong-the-new-empire         2024                \n",
              "\n",
              "  Movie IMDb Ratings                                          Movie Url  \\\n",
              "0                          https://www.justwatch.com/in/movie/project-k   \n",
              "1                             https://www.justwatch.com/in/movie/munjha   \n",
              "2                      https://www.justwatch.com/in/movie/aavesham-2024   \n",
              "3                        https://www.justwatch.com/in/movie/family-star   \n",
              "4                     https://www.justwatch.com/in/movie/the-gangste...   \n",
              "5                       https://www.justwatch.com/in/movie/the-fall-guy   \n",
              "6                            https://www.justwatch.com/in/movie/hit-man   \n",
              "7                     https://www.justwatch.com/in/movie/godzilla-mi...   \n",
              "8                         https://www.justwatch.com/in/movie/inside-out   \n",
              "9                     https://www.justwatch.com/in/movie/godzilla-x-...   \n",
              "\n",
              "  Movie Streaming Service  \n",
              "0              Bookmyshow  \n",
              "1              Bookmyshow  \n",
              "2      Amazon Prime Video  \n",
              "3      Amazon Prime Video  \n",
              "4          Lionsgate Play  \n",
              "5                Apple TV  \n",
              "6                 Netflix  \n",
              "7                 Netflix  \n",
              "8                Apple TV  \n",
              "9                Apple TV  "
            ],
            "text/html": [
              "\n",
              "  <div id=\"df-dbe0e834-af90-4969-ac6c-adb26de5185c\" class=\"colab-df-container\">\n",
              "    <div>\n",
              "<style scoped>\n",
              "    .dataframe tbody tr th:only-of-type {\n",
              "        vertical-align: middle;\n",
              "    }\n",
              "\n",
              "    .dataframe tbody tr th {\n",
              "        vertical-align: top;\n",
              "    }\n",
              "\n",
              "    .dataframe thead th {\n",
              "        text-align: right;\n",
              "    }\n",
              "</style>\n",
              "<table border=\"1\" class=\"dataframe\">\n",
              "  <thead>\n",
              "    <tr style=\"text-align: right;\">\n",
              "      <th></th>\n",
              "      <th>Movie Names</th>\n",
              "      <th>Release Year</th>\n",
              "      <th>Movie Genres</th>\n",
              "      <th>Movie IMDb Ratings</th>\n",
              "      <th>Movie Url</th>\n",
              "      <th>Movie Streaming Service</th>\n",
              "    </tr>\n",
              "  </thead>\n",
              "  <tbody>\n",
              "    <tr>\n",
              "      <th>0</th>\n",
              "      <td>project-k</td>\n",
              "      <td>2024</td>\n",
              "      <td></td>\n",
              "      <td></td>\n",
              "      <td>https://www.justwatch.com/in/movie/project-k</td>\n",
              "      <td>Bookmyshow</td>\n",
              "    </tr>\n",
              "    <tr>\n",
              "      <th>1</th>\n",
              "      <td>munjha</td>\n",
              "      <td>2024</td>\n",
              "      <td></td>\n",
              "      <td></td>\n",
              "      <td>https://www.justwatch.com/in/movie/munjha</td>\n",
              "      <td>Bookmyshow</td>\n",
              "    </tr>\n",
              "    <tr>\n",
              "      <th>2</th>\n",
              "      <td>aavesham-2024</td>\n",
              "      <td>2024</td>\n",
              "      <td></td>\n",
              "      <td></td>\n",
              "      <td>https://www.justwatch.com/in/movie/aavesham-2024</td>\n",
              "      <td>Amazon Prime Video</td>\n",
              "    </tr>\n",
              "    <tr>\n",
              "      <th>3</th>\n",
              "      <td>family-star</td>\n",
              "      <td>2024</td>\n",
              "      <td></td>\n",
              "      <td></td>\n",
              "      <td>https://www.justwatch.com/in/movie/family-star</td>\n",
              "      <td>Amazon Prime Video</td>\n",
              "    </tr>\n",
              "    <tr>\n",
              "      <th>4</th>\n",
              "      <td>the-gangster-the-cop-the-devil</td>\n",
              "      <td>2019</td>\n",
              "      <td></td>\n",
              "      <td></td>\n",
              "      <td>https://www.justwatch.com/in/movie/the-gangste...</td>\n",
              "      <td>Lionsgate Play</td>\n",
              "    </tr>\n",
              "    <tr>\n",
              "      <th>5</th>\n",
              "      <td>the-fall-guy</td>\n",
              "      <td>2024</td>\n",
              "      <td></td>\n",
              "      <td></td>\n",
              "      <td>https://www.justwatch.com/in/movie/the-fall-guy</td>\n",
              "      <td>Apple TV</td>\n",
              "    </tr>\n",
              "    <tr>\n",
              "      <th>6</th>\n",
              "      <td>hit-man</td>\n",
              "      <td>2024</td>\n",
              "      <td></td>\n",
              "      <td></td>\n",
              "      <td>https://www.justwatch.com/in/movie/hit-man</td>\n",
              "      <td>Netflix</td>\n",
              "    </tr>\n",
              "    <tr>\n",
              "      <th>7</th>\n",
              "      <td>godzilla-minus-one</td>\n",
              "      <td>2023</td>\n",
              "      <td></td>\n",
              "      <td></td>\n",
              "      <td>https://www.justwatch.com/in/movie/godzilla-mi...</td>\n",
              "      <td>Netflix</td>\n",
              "    </tr>\n",
              "    <tr>\n",
              "      <th>8</th>\n",
              "      <td>inside-out</td>\n",
              "      <td>2015</td>\n",
              "      <td></td>\n",
              "      <td></td>\n",
              "      <td>https://www.justwatch.com/in/movie/inside-out</td>\n",
              "      <td>Apple TV</td>\n",
              "    </tr>\n",
              "    <tr>\n",
              "      <th>9</th>\n",
              "      <td>godzilla-x-kong-the-new-empire</td>\n",
              "      <td>2024</td>\n",
              "      <td></td>\n",
              "      <td></td>\n",
              "      <td>https://www.justwatch.com/in/movie/godzilla-x-...</td>\n",
              "      <td>Apple TV</td>\n",
              "    </tr>\n",
              "  </tbody>\n",
              "</table>\n",
              "</div>\n",
              "    <div class=\"colab-df-buttons\">\n",
              "\n",
              "  <div class=\"colab-df-container\">\n",
              "    <button class=\"colab-df-convert\" onclick=\"convertToInteractive('df-dbe0e834-af90-4969-ac6c-adb26de5185c')\"\n",
              "            title=\"Convert this dataframe to an interactive table.\"\n",
              "            style=\"display:none;\">\n",
              "\n",
              "  <svg xmlns=\"http://www.w3.org/2000/svg\" height=\"24px\" viewBox=\"0 -960 960 960\">\n",
              "    <path d=\"M120-120v-720h720v720H120Zm60-500h600v-160H180v160Zm220 220h160v-160H400v160Zm0 220h160v-160H400v160ZM180-400h160v-160H180v160Zm440 0h160v-160H620v160ZM180-180h160v-160H180v160Zm440 0h160v-160H620v160Z\"/>\n",
              "  </svg>\n",
              "    </button>\n",
              "\n",
              "  <style>\n",
              "    .colab-df-container {\n",
              "      display:flex;\n",
              "      gap: 12px;\n",
              "    }\n",
              "\n",
              "    .colab-df-convert {\n",
              "      background-color: #E8F0FE;\n",
              "      border: none;\n",
              "      border-radius: 50%;\n",
              "      cursor: pointer;\n",
              "      display: none;\n",
              "      fill: #1967D2;\n",
              "      height: 32px;\n",
              "      padding: 0 0 0 0;\n",
              "      width: 32px;\n",
              "    }\n",
              "\n",
              "    .colab-df-convert:hover {\n",
              "      background-color: #E2EBFA;\n",
              "      box-shadow: 0px 1px 2px rgba(60, 64, 67, 0.3), 0px 1px 3px 1px rgba(60, 64, 67, 0.15);\n",
              "      fill: #174EA6;\n",
              "    }\n",
              "\n",
              "    .colab-df-buttons div {\n",
              "      margin-bottom: 4px;\n",
              "    }\n",
              "\n",
              "    [theme=dark] .colab-df-convert {\n",
              "      background-color: #3B4455;\n",
              "      fill: #D2E3FC;\n",
              "    }\n",
              "\n",
              "    [theme=dark] .colab-df-convert:hover {\n",
              "      background-color: #434B5C;\n",
              "      box-shadow: 0px 1px 3px 1px rgba(0, 0, 0, 0.15);\n",
              "      filter: drop-shadow(0px 1px 2px rgba(0, 0, 0, 0.3));\n",
              "      fill: #FFFFFF;\n",
              "    }\n",
              "  </style>\n",
              "\n",
              "    <script>\n",
              "      const buttonEl =\n",
              "        document.querySelector('#df-dbe0e834-af90-4969-ac6c-adb26de5185c button.colab-df-convert');\n",
              "      buttonEl.style.display =\n",
              "        google.colab.kernel.accessAllowed ? 'block' : 'none';\n",
              "\n",
              "      async function convertToInteractive(key) {\n",
              "        const element = document.querySelector('#df-dbe0e834-af90-4969-ac6c-adb26de5185c');\n",
              "        const dataTable =\n",
              "          await google.colab.kernel.invokeFunction('convertToInteractive',\n",
              "                                                    [key], {});\n",
              "        if (!dataTable) return;\n",
              "\n",
              "        const docLinkHtml = 'Like what you see? Visit the ' +\n",
              "          '<a target=\"_blank\" href=https://colab.research.google.com/notebooks/data_table.ipynb>data table notebook</a>'\n",
              "          + ' to learn more about interactive tables.';\n",
              "        element.innerHTML = '';\n",
              "        dataTable['output_type'] = 'display_data';\n",
              "        await google.colab.output.renderOutput(dataTable, element);\n",
              "        const docLink = document.createElement('div');\n",
              "        docLink.innerHTML = docLinkHtml;\n",
              "        element.appendChild(docLink);\n",
              "      }\n",
              "    </script>\n",
              "  </div>\n",
              "\n",
              "\n",
              "<div id=\"df-d6e4bf4a-709b-428b-9404-27ad5ee6e5f7\">\n",
              "  <button class=\"colab-df-quickchart\" onclick=\"quickchart('df-d6e4bf4a-709b-428b-9404-27ad5ee6e5f7')\"\n",
              "            title=\"Suggest charts\"\n",
              "            style=\"display:none;\">\n",
              "\n",
              "<svg xmlns=\"http://www.w3.org/2000/svg\" height=\"24px\"viewBox=\"0 0 24 24\"\n",
              "     width=\"24px\">\n",
              "    <g>\n",
              "        <path d=\"M19 3H5c-1.1 0-2 .9-2 2v14c0 1.1.9 2 2 2h14c1.1 0 2-.9 2-2V5c0-1.1-.9-2-2-2zM9 17H7v-7h2v7zm4 0h-2V7h2v10zm4 0h-2v-4h2v4z\"/>\n",
              "    </g>\n",
              "</svg>\n",
              "  </button>\n",
              "\n",
              "<style>\n",
              "  .colab-df-quickchart {\n",
              "      --bg-color: #E8F0FE;\n",
              "      --fill-color: #1967D2;\n",
              "      --hover-bg-color: #E2EBFA;\n",
              "      --hover-fill-color: #174EA6;\n",
              "      --disabled-fill-color: #AAA;\n",
              "      --disabled-bg-color: #DDD;\n",
              "  }\n",
              "\n",
              "  [theme=dark] .colab-df-quickchart {\n",
              "      --bg-color: #3B4455;\n",
              "      --fill-color: #D2E3FC;\n",
              "      --hover-bg-color: #434B5C;\n",
              "      --hover-fill-color: #FFFFFF;\n",
              "      --disabled-bg-color: #3B4455;\n",
              "      --disabled-fill-color: #666;\n",
              "  }\n",
              "\n",
              "  .colab-df-quickchart {\n",
              "    background-color: var(--bg-color);\n",
              "    border: none;\n",
              "    border-radius: 50%;\n",
              "    cursor: pointer;\n",
              "    display: none;\n",
              "    fill: var(--fill-color);\n",
              "    height: 32px;\n",
              "    padding: 0;\n",
              "    width: 32px;\n",
              "  }\n",
              "\n",
              "  .colab-df-quickchart:hover {\n",
              "    background-color: var(--hover-bg-color);\n",
              "    box-shadow: 0 1px 2px rgba(60, 64, 67, 0.3), 0 1px 3px 1px rgba(60, 64, 67, 0.15);\n",
              "    fill: var(--button-hover-fill-color);\n",
              "  }\n",
              "\n",
              "  .colab-df-quickchart-complete:disabled,\n",
              "  .colab-df-quickchart-complete:disabled:hover {\n",
              "    background-color: var(--disabled-bg-color);\n",
              "    fill: var(--disabled-fill-color);\n",
              "    box-shadow: none;\n",
              "  }\n",
              "\n",
              "  .colab-df-spinner {\n",
              "    border: 2px solid var(--fill-color);\n",
              "    border-color: transparent;\n",
              "    border-bottom-color: var(--fill-color);\n",
              "    animation:\n",
              "      spin 1s steps(1) infinite;\n",
              "  }\n",
              "\n",
              "  @keyframes spin {\n",
              "    0% {\n",
              "      border-color: transparent;\n",
              "      border-bottom-color: var(--fill-color);\n",
              "      border-left-color: var(--fill-color);\n",
              "    }\n",
              "    20% {\n",
              "      border-color: transparent;\n",
              "      border-left-color: var(--fill-color);\n",
              "      border-top-color: var(--fill-color);\n",
              "    }\n",
              "    30% {\n",
              "      border-color: transparent;\n",
              "      border-left-color: var(--fill-color);\n",
              "      border-top-color: var(--fill-color);\n",
              "      border-right-color: var(--fill-color);\n",
              "    }\n",
              "    40% {\n",
              "      border-color: transparent;\n",
              "      border-right-color: var(--fill-color);\n",
              "      border-top-color: var(--fill-color);\n",
              "    }\n",
              "    60% {\n",
              "      border-color: transparent;\n",
              "      border-right-color: var(--fill-color);\n",
              "    }\n",
              "    80% {\n",
              "      border-color: transparent;\n",
              "      border-right-color: var(--fill-color);\n",
              "      border-bottom-color: var(--fill-color);\n",
              "    }\n",
              "    90% {\n",
              "      border-color: transparent;\n",
              "      border-bottom-color: var(--fill-color);\n",
              "    }\n",
              "  }\n",
              "</style>\n",
              "\n",
              "  <script>\n",
              "    async function quickchart(key) {\n",
              "      const quickchartButtonEl =\n",
              "        document.querySelector('#' + key + ' button');\n",
              "      quickchartButtonEl.disabled = true;  // To prevent multiple clicks.\n",
              "      quickchartButtonEl.classList.add('colab-df-spinner');\n",
              "      try {\n",
              "        const charts = await google.colab.kernel.invokeFunction(\n",
              "            'suggestCharts', [key], {});\n",
              "      } catch (error) {\n",
              "        console.error('Error during call to suggestCharts:', error);\n",
              "      }\n",
              "      quickchartButtonEl.classList.remove('colab-df-spinner');\n",
              "      quickchartButtonEl.classList.add('colab-df-quickchart-complete');\n",
              "    }\n",
              "    (() => {\n",
              "      let quickchartButtonEl =\n",
              "        document.querySelector('#df-d6e4bf4a-709b-428b-9404-27ad5ee6e5f7 button');\n",
              "      quickchartButtonEl.style.display =\n",
              "        google.colab.kernel.accessAllowed ? 'block' : 'none';\n",
              "    })();\n",
              "  </script>\n",
              "</div>\n",
              "\n",
              "    </div>\n",
              "  </div>\n"
            ],
            "application/vnd.google.colaboratory.intrinsic+json": {
              "type": "dataframe",
              "variable_name": "df1",
              "summary": "{\n  \"name\": \"df1\",\n  \"rows\": 80,\n  \"fields\": [\n    {\n      \"column\": \"Movie Names\",\n      \"properties\": {\n        \"dtype\": \"string\",\n        \"num_unique_values\": 80,\n        \"samples\": [\n          \"challengers\",\n          \"project-k\",\n          \"sri-2023\"\n        ],\n        \"semantic_type\": \"\",\n        \"description\": \"\"\n      }\n    },\n    {\n      \"column\": \"Release Year\",\n      \"properties\": {\n        \"dtype\": \"category\",\n        \"num_unique_values\": 8,\n        \"samples\": [\n          \"2019\",\n          \"Release Year not found\",\n          \"2024\"\n        ],\n        \"semantic_type\": \"\",\n        \"description\": \"\"\n      }\n    },\n    {\n      \"column\": \"Movie Genres\",\n      \"properties\": {\n        \"dtype\": \"object\",\n        \"num_unique_values\": 1,\n        \"samples\": [\n          \"\"\n        ],\n        \"semantic_type\": \"\",\n        \"description\": \"\"\n      }\n    },\n    {\n      \"column\": \"Movie IMDb Ratings\",\n      \"properties\": {\n        \"dtype\": \"object\",\n        \"num_unique_values\": 1,\n        \"samples\": [\n          \"\"\n        ],\n        \"semantic_type\": \"\",\n        \"description\": \"\"\n      }\n    },\n    {\n      \"column\": \"Movie Url\",\n      \"properties\": {\n        \"dtype\": \"string\",\n        \"num_unique_values\": 80,\n        \"samples\": [\n          \"https://www.justwatch.com/in/movie/challengers\"\n        ],\n        \"semantic_type\": \"\",\n        \"description\": \"\"\n      }\n    },\n    {\n      \"column\": \"Movie Streaming Service\",\n      \"properties\": {\n        \"dtype\": \"category\",\n        \"num_unique_values\": 8,\n        \"samples\": [\n          \"Amazon Prime Video\"\n        ],\n        \"semantic_type\": \"\",\n        \"description\": \"\"\n      }\n    }\n  ]\n}"
            }
          },
          "metadata": {},
          "execution_count": 62
        }
      ],
      "source": [
        "df1.head(10)"
      ]
    },
    {
      "cell_type": "code",
      "execution_count": 66,
      "metadata": {
        "id": "6lqMH4bEPDFu",
        "colab": {
          "base_uri": "https://localhost:8080/",
          "height": 53
        },
        "outputId": "b9b01a2b-67f5-4463-f522-5126696f1d66"
      },
      "outputs": [
        {
          "output_type": "execute_result",
          "data": {
            "text/plain": [
              "Empty DataFrame\n",
              "Columns: [Show names, Release year, Genere, url, Imdb Ratings, streaming service]\n",
              "Index: []"
            ],
            "text/html": [
              "\n",
              "  <div id=\"df-730acc15-75fe-4641-8a15-4178fbc67a86\" class=\"colab-df-container\">\n",
              "    <div>\n",
              "<style scoped>\n",
              "    .dataframe tbody tr th:only-of-type {\n",
              "        vertical-align: middle;\n",
              "    }\n",
              "\n",
              "    .dataframe tbody tr th {\n",
              "        vertical-align: top;\n",
              "    }\n",
              "\n",
              "    .dataframe thead th {\n",
              "        text-align: right;\n",
              "    }\n",
              "</style>\n",
              "<table border=\"1\" class=\"dataframe\">\n",
              "  <thead>\n",
              "    <tr style=\"text-align: right;\">\n",
              "      <th></th>\n",
              "      <th>Show names</th>\n",
              "      <th>Release year</th>\n",
              "      <th>Genere</th>\n",
              "      <th>url</th>\n",
              "      <th>Imdb Ratings</th>\n",
              "      <th>streaming service</th>\n",
              "    </tr>\n",
              "  </thead>\n",
              "  <tbody>\n",
              "  </tbody>\n",
              "</table>\n",
              "</div>\n",
              "    <div class=\"colab-df-buttons\">\n",
              "\n",
              "  <div class=\"colab-df-container\">\n",
              "    <button class=\"colab-df-convert\" onclick=\"convertToInteractive('df-730acc15-75fe-4641-8a15-4178fbc67a86')\"\n",
              "            title=\"Convert this dataframe to an interactive table.\"\n",
              "            style=\"display:none;\">\n",
              "\n",
              "  <svg xmlns=\"http://www.w3.org/2000/svg\" height=\"24px\" viewBox=\"0 -960 960 960\">\n",
              "    <path d=\"M120-120v-720h720v720H120Zm60-500h600v-160H180v160Zm220 220h160v-160H400v160Zm0 220h160v-160H400v160ZM180-400h160v-160H180v160Zm440 0h160v-160H620v160ZM180-180h160v-160H180v160Zm440 0h160v-160H620v160Z\"/>\n",
              "  </svg>\n",
              "    </button>\n",
              "\n",
              "  <style>\n",
              "    .colab-df-container {\n",
              "      display:flex;\n",
              "      gap: 12px;\n",
              "    }\n",
              "\n",
              "    .colab-df-convert {\n",
              "      background-color: #E8F0FE;\n",
              "      border: none;\n",
              "      border-radius: 50%;\n",
              "      cursor: pointer;\n",
              "      display: none;\n",
              "      fill: #1967D2;\n",
              "      height: 32px;\n",
              "      padding: 0 0 0 0;\n",
              "      width: 32px;\n",
              "    }\n",
              "\n",
              "    .colab-df-convert:hover {\n",
              "      background-color: #E2EBFA;\n",
              "      box-shadow: 0px 1px 2px rgba(60, 64, 67, 0.3), 0px 1px 3px 1px rgba(60, 64, 67, 0.15);\n",
              "      fill: #174EA6;\n",
              "    }\n",
              "\n",
              "    .colab-df-buttons div {\n",
              "      margin-bottom: 4px;\n",
              "    }\n",
              "\n",
              "    [theme=dark] .colab-df-convert {\n",
              "      background-color: #3B4455;\n",
              "      fill: #D2E3FC;\n",
              "    }\n",
              "\n",
              "    [theme=dark] .colab-df-convert:hover {\n",
              "      background-color: #434B5C;\n",
              "      box-shadow: 0px 1px 3px 1px rgba(0, 0, 0, 0.15);\n",
              "      filter: drop-shadow(0px 1px 2px rgba(0, 0, 0, 0.3));\n",
              "      fill: #FFFFFF;\n",
              "    }\n",
              "  </style>\n",
              "\n",
              "    <script>\n",
              "      const buttonEl =\n",
              "        document.querySelector('#df-730acc15-75fe-4641-8a15-4178fbc67a86 button.colab-df-convert');\n",
              "      buttonEl.style.display =\n",
              "        google.colab.kernel.accessAllowed ? 'block' : 'none';\n",
              "\n",
              "      async function convertToInteractive(key) {\n",
              "        const element = document.querySelector('#df-730acc15-75fe-4641-8a15-4178fbc67a86');\n",
              "        const dataTable =\n",
              "          await google.colab.kernel.invokeFunction('convertToInteractive',\n",
              "                                                    [key], {});\n",
              "        if (!dataTable) return;\n",
              "\n",
              "        const docLinkHtml = 'Like what you see? Visit the ' +\n",
              "          '<a target=\"_blank\" href=https://colab.research.google.com/notebooks/data_table.ipynb>data table notebook</a>'\n",
              "          + ' to learn more about interactive tables.';\n",
              "        element.innerHTML = '';\n",
              "        dataTable['output_type'] = 'display_data';\n",
              "        await google.colab.output.renderOutput(dataTable, element);\n",
              "        const docLink = document.createElement('div');\n",
              "        docLink.innerHTML = docLinkHtml;\n",
              "        element.appendChild(docLink);\n",
              "      }\n",
              "    </script>\n",
              "  </div>\n",
              "\n",
              "\n",
              "    </div>\n",
              "  </div>\n"
            ],
            "application/vnd.google.colaboratory.intrinsic+json": {
              "type": "dataframe",
              "variable_name": "df2",
              "summary": "{\n  \"name\": \"df2\",\n  \"rows\": 0,\n  \"fields\": [\n    {\n      \"column\": \"Show names\",\n      \"properties\": {\n        \"dtype\": \"number\",\n        \"std\": null,\n        \"min\": null,\n        \"max\": null,\n        \"num_unique_values\": 0,\n        \"samples\": [],\n        \"semantic_type\": \"\",\n        \"description\": \"\"\n      }\n    },\n    {\n      \"column\": \"Release year\",\n      \"properties\": {\n        \"dtype\": \"number\",\n        \"std\": null,\n        \"min\": null,\n        \"max\": null,\n        \"num_unique_values\": 0,\n        \"samples\": [],\n        \"semantic_type\": \"\",\n        \"description\": \"\"\n      }\n    },\n    {\n      \"column\": \"Genere\",\n      \"properties\": {\n        \"dtype\": \"number\",\n        \"std\": null,\n        \"min\": null,\n        \"max\": null,\n        \"num_unique_values\": 0,\n        \"samples\": [],\n        \"semantic_type\": \"\",\n        \"description\": \"\"\n      }\n    },\n    {\n      \"column\": \"url\",\n      \"properties\": {\n        \"dtype\": \"number\",\n        \"std\": null,\n        \"min\": null,\n        \"max\": null,\n        \"num_unique_values\": 0,\n        \"samples\": [],\n        \"semantic_type\": \"\",\n        \"description\": \"\"\n      }\n    },\n    {\n      \"column\": \"Imdb Ratings\",\n      \"properties\": {\n        \"dtype\": \"number\",\n        \"std\": null,\n        \"min\": null,\n        \"max\": null,\n        \"num_unique_values\": 0,\n        \"samples\": [],\n        \"semantic_type\": \"\",\n        \"description\": \"\"\n      }\n    },\n    {\n      \"column\": \"streaming service\",\n      \"properties\": {\n        \"dtype\": \"number\",\n        \"std\": null,\n        \"min\": null,\n        \"max\": null,\n        \"num_unique_values\": 0,\n        \"samples\": [],\n        \"semantic_type\": \"\",\n        \"description\": \"\"\n      }\n    }\n  ]\n}"
            }
          },
          "metadata": {},
          "execution_count": 66
        }
      ],
      "source": [
        "df2.head(10)"
      ]
    },
    {
      "cell_type": "code",
      "execution_count": 67,
      "metadata": {
        "id": "XluaJdXUTGfj",
        "colab": {
          "base_uri": "https://localhost:8080/",
          "height": 206
        },
        "outputId": "f066c1e4-810c-44af-a3ab-3ef19bca11a8"
      },
      "outputs": [
        {
          "output_type": "execute_result",
          "data": {
            "text/plain": [
              "     Movie Names  Release Year Movie Genres Movie IMDb Ratings  \\\n",
              "0      project-k        2024.0                                   \n",
              "1         munjha        2024.0                                   \n",
              "2  aavesham-2024        2024.0                                   \n",
              "3    family-star        2024.0                                   \n",
              "5   the-fall-guy        2024.0                                   \n",
              "\n",
              "                                          Movie Url Movie Streaming Service  \n",
              "0      https://www.justwatch.com/in/movie/project-k              Bookmyshow  \n",
              "1         https://www.justwatch.com/in/movie/munjha              Bookmyshow  \n",
              "2  https://www.justwatch.com/in/movie/aavesham-2024      Amazon Prime Video  \n",
              "3    https://www.justwatch.com/in/movie/family-star      Amazon Prime Video  \n",
              "5   https://www.justwatch.com/in/movie/the-fall-guy                Apple TV  "
            ],
            "text/html": [
              "\n",
              "  <div id=\"df-4c166ac0-6d53-42a9-a460-eb764e152f38\" class=\"colab-df-container\">\n",
              "    <div>\n",
              "<style scoped>\n",
              "    .dataframe tbody tr th:only-of-type {\n",
              "        vertical-align: middle;\n",
              "    }\n",
              "\n",
              "    .dataframe tbody tr th {\n",
              "        vertical-align: top;\n",
              "    }\n",
              "\n",
              "    .dataframe thead th {\n",
              "        text-align: right;\n",
              "    }\n",
              "</style>\n",
              "<table border=\"1\" class=\"dataframe\">\n",
              "  <thead>\n",
              "    <tr style=\"text-align: right;\">\n",
              "      <th></th>\n",
              "      <th>Movie Names</th>\n",
              "      <th>Release Year</th>\n",
              "      <th>Movie Genres</th>\n",
              "      <th>Movie IMDb Ratings</th>\n",
              "      <th>Movie Url</th>\n",
              "      <th>Movie Streaming Service</th>\n",
              "    </tr>\n",
              "  </thead>\n",
              "  <tbody>\n",
              "    <tr>\n",
              "      <th>0</th>\n",
              "      <td>project-k</td>\n",
              "      <td>2024.0</td>\n",
              "      <td></td>\n",
              "      <td></td>\n",
              "      <td>https://www.justwatch.com/in/movie/project-k</td>\n",
              "      <td>Bookmyshow</td>\n",
              "    </tr>\n",
              "    <tr>\n",
              "      <th>1</th>\n",
              "      <td>munjha</td>\n",
              "      <td>2024.0</td>\n",
              "      <td></td>\n",
              "      <td></td>\n",
              "      <td>https://www.justwatch.com/in/movie/munjha</td>\n",
              "      <td>Bookmyshow</td>\n",
              "    </tr>\n",
              "    <tr>\n",
              "      <th>2</th>\n",
              "      <td>aavesham-2024</td>\n",
              "      <td>2024.0</td>\n",
              "      <td></td>\n",
              "      <td></td>\n",
              "      <td>https://www.justwatch.com/in/movie/aavesham-2024</td>\n",
              "      <td>Amazon Prime Video</td>\n",
              "    </tr>\n",
              "    <tr>\n",
              "      <th>3</th>\n",
              "      <td>family-star</td>\n",
              "      <td>2024.0</td>\n",
              "      <td></td>\n",
              "      <td></td>\n",
              "      <td>https://www.justwatch.com/in/movie/family-star</td>\n",
              "      <td>Amazon Prime Video</td>\n",
              "    </tr>\n",
              "    <tr>\n",
              "      <th>5</th>\n",
              "      <td>the-fall-guy</td>\n",
              "      <td>2024.0</td>\n",
              "      <td></td>\n",
              "      <td></td>\n",
              "      <td>https://www.justwatch.com/in/movie/the-fall-guy</td>\n",
              "      <td>Apple TV</td>\n",
              "    </tr>\n",
              "  </tbody>\n",
              "</table>\n",
              "</div>\n",
              "    <div class=\"colab-df-buttons\">\n",
              "\n",
              "  <div class=\"colab-df-container\">\n",
              "    <button class=\"colab-df-convert\" onclick=\"convertToInteractive('df-4c166ac0-6d53-42a9-a460-eb764e152f38')\"\n",
              "            title=\"Convert this dataframe to an interactive table.\"\n",
              "            style=\"display:none;\">\n",
              "\n",
              "  <svg xmlns=\"http://www.w3.org/2000/svg\" height=\"24px\" viewBox=\"0 -960 960 960\">\n",
              "    <path d=\"M120-120v-720h720v720H120Zm60-500h600v-160H180v160Zm220 220h160v-160H400v160Zm0 220h160v-160H400v160ZM180-400h160v-160H180v160Zm440 0h160v-160H620v160ZM180-180h160v-160H180v160Zm440 0h160v-160H620v160Z\"/>\n",
              "  </svg>\n",
              "    </button>\n",
              "\n",
              "  <style>\n",
              "    .colab-df-container {\n",
              "      display:flex;\n",
              "      gap: 12px;\n",
              "    }\n",
              "\n",
              "    .colab-df-convert {\n",
              "      background-color: #E8F0FE;\n",
              "      border: none;\n",
              "      border-radius: 50%;\n",
              "      cursor: pointer;\n",
              "      display: none;\n",
              "      fill: #1967D2;\n",
              "      height: 32px;\n",
              "      padding: 0 0 0 0;\n",
              "      width: 32px;\n",
              "    }\n",
              "\n",
              "    .colab-df-convert:hover {\n",
              "      background-color: #E2EBFA;\n",
              "      box-shadow: 0px 1px 2px rgba(60, 64, 67, 0.3), 0px 1px 3px 1px rgba(60, 64, 67, 0.15);\n",
              "      fill: #174EA6;\n",
              "    }\n",
              "\n",
              "    .colab-df-buttons div {\n",
              "      margin-bottom: 4px;\n",
              "    }\n",
              "\n",
              "    [theme=dark] .colab-df-convert {\n",
              "      background-color: #3B4455;\n",
              "      fill: #D2E3FC;\n",
              "    }\n",
              "\n",
              "    [theme=dark] .colab-df-convert:hover {\n",
              "      background-color: #434B5C;\n",
              "      box-shadow: 0px 1px 3px 1px rgba(0, 0, 0, 0.15);\n",
              "      filter: drop-shadow(0px 1px 2px rgba(0, 0, 0, 0.3));\n",
              "      fill: #FFFFFF;\n",
              "    }\n",
              "  </style>\n",
              "\n",
              "    <script>\n",
              "      const buttonEl =\n",
              "        document.querySelector('#df-4c166ac0-6d53-42a9-a460-eb764e152f38 button.colab-df-convert');\n",
              "      buttonEl.style.display =\n",
              "        google.colab.kernel.accessAllowed ? 'block' : 'none';\n",
              "\n",
              "      async function convertToInteractive(key) {\n",
              "        const element = document.querySelector('#df-4c166ac0-6d53-42a9-a460-eb764e152f38');\n",
              "        const dataTable =\n",
              "          await google.colab.kernel.invokeFunction('convertToInteractive',\n",
              "                                                    [key], {});\n",
              "        if (!dataTable) return;\n",
              "\n",
              "        const docLinkHtml = 'Like what you see? Visit the ' +\n",
              "          '<a target=\"_blank\" href=https://colab.research.google.com/notebooks/data_table.ipynb>data table notebook</a>'\n",
              "          + ' to learn more about interactive tables.';\n",
              "        element.innerHTML = '';\n",
              "        dataTable['output_type'] = 'display_data';\n",
              "        await google.colab.output.renderOutput(dataTable, element);\n",
              "        const docLink = document.createElement('div');\n",
              "        docLink.innerHTML = docLinkHtml;\n",
              "        element.appendChild(docLink);\n",
              "      }\n",
              "    </script>\n",
              "  </div>\n",
              "\n",
              "\n",
              "<div id=\"df-abb17352-464f-432e-80c8-452690ade79d\">\n",
              "  <button class=\"colab-df-quickchart\" onclick=\"quickchart('df-abb17352-464f-432e-80c8-452690ade79d')\"\n",
              "            title=\"Suggest charts\"\n",
              "            style=\"display:none;\">\n",
              "\n",
              "<svg xmlns=\"http://www.w3.org/2000/svg\" height=\"24px\"viewBox=\"0 0 24 24\"\n",
              "     width=\"24px\">\n",
              "    <g>\n",
              "        <path d=\"M19 3H5c-1.1 0-2 .9-2 2v14c0 1.1.9 2 2 2h14c1.1 0 2-.9 2-2V5c0-1.1-.9-2-2-2zM9 17H7v-7h2v7zm4 0h-2V7h2v10zm4 0h-2v-4h2v4z\"/>\n",
              "    </g>\n",
              "</svg>\n",
              "  </button>\n",
              "\n",
              "<style>\n",
              "  .colab-df-quickchart {\n",
              "      --bg-color: #E8F0FE;\n",
              "      --fill-color: #1967D2;\n",
              "      --hover-bg-color: #E2EBFA;\n",
              "      --hover-fill-color: #174EA6;\n",
              "      --disabled-fill-color: #AAA;\n",
              "      --disabled-bg-color: #DDD;\n",
              "  }\n",
              "\n",
              "  [theme=dark] .colab-df-quickchart {\n",
              "      --bg-color: #3B4455;\n",
              "      --fill-color: #D2E3FC;\n",
              "      --hover-bg-color: #434B5C;\n",
              "      --hover-fill-color: #FFFFFF;\n",
              "      --disabled-bg-color: #3B4455;\n",
              "      --disabled-fill-color: #666;\n",
              "  }\n",
              "\n",
              "  .colab-df-quickchart {\n",
              "    background-color: var(--bg-color);\n",
              "    border: none;\n",
              "    border-radius: 50%;\n",
              "    cursor: pointer;\n",
              "    display: none;\n",
              "    fill: var(--fill-color);\n",
              "    height: 32px;\n",
              "    padding: 0;\n",
              "    width: 32px;\n",
              "  }\n",
              "\n",
              "  .colab-df-quickchart:hover {\n",
              "    background-color: var(--hover-bg-color);\n",
              "    box-shadow: 0 1px 2px rgba(60, 64, 67, 0.3), 0 1px 3px 1px rgba(60, 64, 67, 0.15);\n",
              "    fill: var(--button-hover-fill-color);\n",
              "  }\n",
              "\n",
              "  .colab-df-quickchart-complete:disabled,\n",
              "  .colab-df-quickchart-complete:disabled:hover {\n",
              "    background-color: var(--disabled-bg-color);\n",
              "    fill: var(--disabled-fill-color);\n",
              "    box-shadow: none;\n",
              "  }\n",
              "\n",
              "  .colab-df-spinner {\n",
              "    border: 2px solid var(--fill-color);\n",
              "    border-color: transparent;\n",
              "    border-bottom-color: var(--fill-color);\n",
              "    animation:\n",
              "      spin 1s steps(1) infinite;\n",
              "  }\n",
              "\n",
              "  @keyframes spin {\n",
              "    0% {\n",
              "      border-color: transparent;\n",
              "      border-bottom-color: var(--fill-color);\n",
              "      border-left-color: var(--fill-color);\n",
              "    }\n",
              "    20% {\n",
              "      border-color: transparent;\n",
              "      border-left-color: var(--fill-color);\n",
              "      border-top-color: var(--fill-color);\n",
              "    }\n",
              "    30% {\n",
              "      border-color: transparent;\n",
              "      border-left-color: var(--fill-color);\n",
              "      border-top-color: var(--fill-color);\n",
              "      border-right-color: var(--fill-color);\n",
              "    }\n",
              "    40% {\n",
              "      border-color: transparent;\n",
              "      border-right-color: var(--fill-color);\n",
              "      border-top-color: var(--fill-color);\n",
              "    }\n",
              "    60% {\n",
              "      border-color: transparent;\n",
              "      border-right-color: var(--fill-color);\n",
              "    }\n",
              "    80% {\n",
              "      border-color: transparent;\n",
              "      border-right-color: var(--fill-color);\n",
              "      border-bottom-color: var(--fill-color);\n",
              "    }\n",
              "    90% {\n",
              "      border-color: transparent;\n",
              "      border-bottom-color: var(--fill-color);\n",
              "    }\n",
              "  }\n",
              "</style>\n",
              "\n",
              "  <script>\n",
              "    async function quickchart(key) {\n",
              "      const quickchartButtonEl =\n",
              "        document.querySelector('#' + key + ' button');\n",
              "      quickchartButtonEl.disabled = true;  // To prevent multiple clicks.\n",
              "      quickchartButtonEl.classList.add('colab-df-spinner');\n",
              "      try {\n",
              "        const charts = await google.colab.kernel.invokeFunction(\n",
              "            'suggestCharts', [key], {});\n",
              "      } catch (error) {\n",
              "        console.error('Error during call to suggestCharts:', error);\n",
              "      }\n",
              "      quickchartButtonEl.classList.remove('colab-df-spinner');\n",
              "      quickchartButtonEl.classList.add('colab-df-quickchart-complete');\n",
              "    }\n",
              "    (() => {\n",
              "      let quickchartButtonEl =\n",
              "        document.querySelector('#df-abb17352-464f-432e-80c8-452690ade79d button');\n",
              "      quickchartButtonEl.style.display =\n",
              "        google.colab.kernel.accessAllowed ? 'block' : 'none';\n",
              "    })();\n",
              "  </script>\n",
              "</div>\n",
              "\n",
              "    </div>\n",
              "  </div>\n"
            ],
            "application/vnd.google.colaboratory.intrinsic+json": {
              "type": "dataframe",
              "variable_name": "movie_data_filtered",
              "summary": "{\n  \"name\": \"movie_data_filtered\",\n  \"rows\": 16,\n  \"fields\": [\n    {\n      \"column\": \"Movie Names\",\n      \"properties\": {\n        \"dtype\": \"string\",\n        \"num_unique_values\": 16,\n        \"samples\": [\n          \"project-k\",\n          \"munjha\",\n          \"hit-man\"\n        ],\n        \"semantic_type\": \"\",\n        \"description\": \"\"\n      }\n    },\n    {\n      \"column\": \"Release Year\",\n      \"properties\": {\n        \"dtype\": \"number\",\n        \"std\": 0.3415650255319866,\n        \"min\": 2023.0,\n        \"max\": 2024.0,\n        \"num_unique_values\": 2,\n        \"samples\": [\n          2023.0,\n          2024.0\n        ],\n        \"semantic_type\": \"\",\n        \"description\": \"\"\n      }\n    },\n    {\n      \"column\": \"Movie Genres\",\n      \"properties\": {\n        \"dtype\": \"object\",\n        \"num_unique_values\": 1,\n        \"samples\": [\n          \"\"\n        ],\n        \"semantic_type\": \"\",\n        \"description\": \"\"\n      }\n    },\n    {\n      \"column\": \"Movie IMDb Ratings\",\n      \"properties\": {\n        \"dtype\": \"object\",\n        \"num_unique_values\": 1,\n        \"samples\": [\n          \"\"\n        ],\n        \"semantic_type\": \"\",\n        \"description\": \"\"\n      }\n    },\n    {\n      \"column\": \"Movie Url\",\n      \"properties\": {\n        \"dtype\": \"string\",\n        \"num_unique_values\": 16,\n        \"samples\": [\n          \"https://www.justwatch.com/in/movie/project-k\"\n        ],\n        \"semantic_type\": \"\",\n        \"description\": \"\"\n      }\n    },\n    {\n      \"column\": \"Movie Streaming Service\",\n      \"properties\": {\n        \"dtype\": \"category\",\n        \"num_unique_values\": 5,\n        \"samples\": [\n          \"Amazon Prime Video\"\n        ],\n        \"semantic_type\": \"\",\n        \"description\": \"\"\n      }\n    }\n  ]\n}"
            }
          },
          "metadata": {},
          "execution_count": 67
        }
      ],
      "source": [
        "df1['Release Year'] = pd.to_numeric(df1['Release Year'], errors='coerce')\n",
        "\n",
        "movie_data_filtered = df1[df1['Release Year'] >=2024 - 2]\n",
        "movie_data_filtered.head()"
      ]
    },
    {
      "cell_type": "code",
      "execution_count": 68,
      "metadata": {
        "id": "-NtMZjz6TFIi",
        "colab": {
          "base_uri": "https://localhost:8080/",
          "height": 53
        },
        "outputId": "1a924f41-fc4a-431b-a14d-42b55888d6a7"
      },
      "outputs": [
        {
          "output_type": "execute_result",
          "data": {
            "text/plain": [
              "Empty DataFrame\n",
              "Columns: [Show names, Release year, Genere, url, Imdb Ratings, streaming service]\n",
              "Index: []"
            ],
            "text/html": [
              "\n",
              "  <div id=\"df-dfce81ee-a0cd-47ec-b6fa-829cd9d037de\" class=\"colab-df-container\">\n",
              "    <div>\n",
              "<style scoped>\n",
              "    .dataframe tbody tr th:only-of-type {\n",
              "        vertical-align: middle;\n",
              "    }\n",
              "\n",
              "    .dataframe tbody tr th {\n",
              "        vertical-align: top;\n",
              "    }\n",
              "\n",
              "    .dataframe thead th {\n",
              "        text-align: right;\n",
              "    }\n",
              "</style>\n",
              "<table border=\"1\" class=\"dataframe\">\n",
              "  <thead>\n",
              "    <tr style=\"text-align: right;\">\n",
              "      <th></th>\n",
              "      <th>Show names</th>\n",
              "      <th>Release year</th>\n",
              "      <th>Genere</th>\n",
              "      <th>url</th>\n",
              "      <th>Imdb Ratings</th>\n",
              "      <th>streaming service</th>\n",
              "    </tr>\n",
              "  </thead>\n",
              "  <tbody>\n",
              "  </tbody>\n",
              "</table>\n",
              "</div>\n",
              "    <div class=\"colab-df-buttons\">\n",
              "\n",
              "  <div class=\"colab-df-container\">\n",
              "    <button class=\"colab-df-convert\" onclick=\"convertToInteractive('df-dfce81ee-a0cd-47ec-b6fa-829cd9d037de')\"\n",
              "            title=\"Convert this dataframe to an interactive table.\"\n",
              "            style=\"display:none;\">\n",
              "\n",
              "  <svg xmlns=\"http://www.w3.org/2000/svg\" height=\"24px\" viewBox=\"0 -960 960 960\">\n",
              "    <path d=\"M120-120v-720h720v720H120Zm60-500h600v-160H180v160Zm220 220h160v-160H400v160Zm0 220h160v-160H400v160ZM180-400h160v-160H180v160Zm440 0h160v-160H620v160ZM180-180h160v-160H180v160Zm440 0h160v-160H620v160Z\"/>\n",
              "  </svg>\n",
              "    </button>\n",
              "\n",
              "  <style>\n",
              "    .colab-df-container {\n",
              "      display:flex;\n",
              "      gap: 12px;\n",
              "    }\n",
              "\n",
              "    .colab-df-convert {\n",
              "      background-color: #E8F0FE;\n",
              "      border: none;\n",
              "      border-radius: 50%;\n",
              "      cursor: pointer;\n",
              "      display: none;\n",
              "      fill: #1967D2;\n",
              "      height: 32px;\n",
              "      padding: 0 0 0 0;\n",
              "      width: 32px;\n",
              "    }\n",
              "\n",
              "    .colab-df-convert:hover {\n",
              "      background-color: #E2EBFA;\n",
              "      box-shadow: 0px 1px 2px rgba(60, 64, 67, 0.3), 0px 1px 3px 1px rgba(60, 64, 67, 0.15);\n",
              "      fill: #174EA6;\n",
              "    }\n",
              "\n",
              "    .colab-df-buttons div {\n",
              "      margin-bottom: 4px;\n",
              "    }\n",
              "\n",
              "    [theme=dark] .colab-df-convert {\n",
              "      background-color: #3B4455;\n",
              "      fill: #D2E3FC;\n",
              "    }\n",
              "\n",
              "    [theme=dark] .colab-df-convert:hover {\n",
              "      background-color: #434B5C;\n",
              "      box-shadow: 0px 1px 3px 1px rgba(0, 0, 0, 0.15);\n",
              "      filter: drop-shadow(0px 1px 2px rgba(0, 0, 0, 0.3));\n",
              "      fill: #FFFFFF;\n",
              "    }\n",
              "  </style>\n",
              "\n",
              "    <script>\n",
              "      const buttonEl =\n",
              "        document.querySelector('#df-dfce81ee-a0cd-47ec-b6fa-829cd9d037de button.colab-df-convert');\n",
              "      buttonEl.style.display =\n",
              "        google.colab.kernel.accessAllowed ? 'block' : 'none';\n",
              "\n",
              "      async function convertToInteractive(key) {\n",
              "        const element = document.querySelector('#df-dfce81ee-a0cd-47ec-b6fa-829cd9d037de');\n",
              "        const dataTable =\n",
              "          await google.colab.kernel.invokeFunction('convertToInteractive',\n",
              "                                                    [key], {});\n",
              "        if (!dataTable) return;\n",
              "\n",
              "        const docLinkHtml = 'Like what you see? Visit the ' +\n",
              "          '<a target=\"_blank\" href=https://colab.research.google.com/notebooks/data_table.ipynb>data table notebook</a>'\n",
              "          + ' to learn more about interactive tables.';\n",
              "        element.innerHTML = '';\n",
              "        dataTable['output_type'] = 'display_data';\n",
              "        await google.colab.output.renderOutput(dataTable, element);\n",
              "        const docLink = document.createElement('div');\n",
              "        docLink.innerHTML = docLinkHtml;\n",
              "        element.appendChild(docLink);\n",
              "      }\n",
              "    </script>\n",
              "  </div>\n",
              "\n",
              "\n",
              "    </div>\n",
              "  </div>\n"
            ],
            "application/vnd.google.colaboratory.intrinsic+json": {
              "type": "dataframe",
              "variable_name": "Tv_data_filtered",
              "summary": "{\n  \"name\": \"Tv_data_filtered\",\n  \"rows\": 0,\n  \"fields\": [\n    {\n      \"column\": \"Show names\",\n      \"properties\": {\n        \"dtype\": \"number\",\n        \"std\": null,\n        \"min\": null,\n        \"max\": null,\n        \"num_unique_values\": 0,\n        \"samples\": [],\n        \"semantic_type\": \"\",\n        \"description\": \"\"\n      }\n    },\n    {\n      \"column\": \"Release year\",\n      \"properties\": {\n        \"dtype\": \"number\",\n        \"std\": null,\n        \"min\": null,\n        \"max\": null,\n        \"num_unique_values\": 0,\n        \"samples\": [],\n        \"semantic_type\": \"\",\n        \"description\": \"\"\n      }\n    },\n    {\n      \"column\": \"Genere\",\n      \"properties\": {\n        \"dtype\": \"number\",\n        \"std\": null,\n        \"min\": null,\n        \"max\": null,\n        \"num_unique_values\": 0,\n        \"samples\": [],\n        \"semantic_type\": \"\",\n        \"description\": \"\"\n      }\n    },\n    {\n      \"column\": \"url\",\n      \"properties\": {\n        \"dtype\": \"number\",\n        \"std\": null,\n        \"min\": null,\n        \"max\": null,\n        \"num_unique_values\": 0,\n        \"samples\": [],\n        \"semantic_type\": \"\",\n        \"description\": \"\"\n      }\n    },\n    {\n      \"column\": \"Imdb Ratings\",\n      \"properties\": {\n        \"dtype\": \"number\",\n        \"std\": null,\n        \"min\": null,\n        \"max\": null,\n        \"num_unique_values\": 0,\n        \"samples\": [],\n        \"semantic_type\": \"\",\n        \"description\": \"\"\n      }\n    },\n    {\n      \"column\": \"streaming service\",\n      \"properties\": {\n        \"dtype\": \"number\",\n        \"std\": null,\n        \"min\": null,\n        \"max\": null,\n        \"num_unique_values\": 0,\n        \"samples\": [],\n        \"semantic_type\": \"\",\n        \"description\": \"\"\n      }\n    }\n  ]\n}"
            }
          },
          "metadata": {},
          "execution_count": 68
        }
      ],
      "source": [
        "df2['Release year'] = pd.to_numeric(df2['Release year'], errors='coerce')\n",
        "\n",
        "Tv_data_filtered = df2[df2['Release year'] >=2024 - 2]\n",
        "Tv_data_filtered.head()"
      ]
    },
    {
      "cell_type": "markdown",
      "metadata": {
        "id": "0bPDbn-gPyfm"
      },
      "source": [
        "## **Calculating Mean IMDB Ratings for both Movies and Tv Shows**"
      ]
    },
    {
      "cell_type": "code",
      "execution_count": 69,
      "metadata": {
        "id": "6aGmGPOlIkk4",
        "colab": {
          "base_uri": "https://localhost:8080/"
        },
        "outputId": "1026f7c3-d7ee-45fe-8cab-0cf37f6942e6"
      },
      "outputs": [
        {
          "output_type": "stream",
          "name": "stdout",
          "text": [
            "Average IMDb rating for movies in df1: nan\n"
          ]
        }
      ],
      "source": [
        "# Write Your Code here\n",
        "df1['Movie IMDb Ratings'] = pd.to_numeric(df1['Movie IMDb Ratings'], errors='coerce')\n",
        "\n",
        "# Calculate the average IMDb rating for movies\n",
        "average_movie_imdb_rating = df1['Movie IMDb Ratings'].mean()\n",
        "\n",
        "print(\"Average IMDb rating for movies in df1:\", average_movie_imdb_rating)"
      ]
    },
    {
      "cell_type": "code",
      "execution_count": 70,
      "metadata": {
        "id": "Y4fEhTCmUnWd",
        "colab": {
          "base_uri": "https://localhost:8080/"
        },
        "outputId": "54f83b7f-74c3-4c93-a968-8fec40f5e447"
      },
      "outputs": [
        {
          "output_type": "stream",
          "name": "stdout",
          "text": [
            "Average IMDb rating for Tv_shows in df2: nan\n"
          ]
        }
      ],
      "source": [
        "df2['Imdb Ratings'] = pd.to_numeric(df2['Imdb Ratings'], errors='coerce')\n",
        "\n",
        "# Calculate the average IMDb rating for Tv shows\n",
        "average_Tv_imdb_rating = df2['Imdb Ratings'].mean()\n",
        "\n",
        "print(\"Average IMDb rating for Tv_shows in df2:\", average_Tv_imdb_rating)"
      ]
    },
    {
      "cell_type": "code",
      "execution_count": 71,
      "metadata": {
        "id": "iBSCMPwhWCmm",
        "colab": {
          "base_uri": "https://localhost:8080/",
          "height": 53
        },
        "outputId": "18e42907-2e4d-4de8-e71f-c38c2f2fcc96"
      },
      "outputs": [
        {
          "output_type": "execute_result",
          "data": {
            "text/plain": [
              "Empty DataFrame\n",
              "Columns: [Show names, Release year, Genere, url, Imdb Ratings, streaming service]\n",
              "Index: []"
            ],
            "text/html": [
              "\n",
              "  <div id=\"df-6933852a-69e7-4cab-9ae0-bdd2643fb814\" class=\"colab-df-container\">\n",
              "    <div>\n",
              "<style scoped>\n",
              "    .dataframe tbody tr th:only-of-type {\n",
              "        vertical-align: middle;\n",
              "    }\n",
              "\n",
              "    .dataframe tbody tr th {\n",
              "        vertical-align: top;\n",
              "    }\n",
              "\n",
              "    .dataframe thead th {\n",
              "        text-align: right;\n",
              "    }\n",
              "</style>\n",
              "<table border=\"1\" class=\"dataframe\">\n",
              "  <thead>\n",
              "    <tr style=\"text-align: right;\">\n",
              "      <th></th>\n",
              "      <th>Show names</th>\n",
              "      <th>Release year</th>\n",
              "      <th>Genere</th>\n",
              "      <th>url</th>\n",
              "      <th>Imdb Ratings</th>\n",
              "      <th>streaming service</th>\n",
              "    </tr>\n",
              "  </thead>\n",
              "  <tbody>\n",
              "  </tbody>\n",
              "</table>\n",
              "</div>\n",
              "    <div class=\"colab-df-buttons\">\n",
              "\n",
              "  <div class=\"colab-df-container\">\n",
              "    <button class=\"colab-df-convert\" onclick=\"convertToInteractive('df-6933852a-69e7-4cab-9ae0-bdd2643fb814')\"\n",
              "            title=\"Convert this dataframe to an interactive table.\"\n",
              "            style=\"display:none;\">\n",
              "\n",
              "  <svg xmlns=\"http://www.w3.org/2000/svg\" height=\"24px\" viewBox=\"0 -960 960 960\">\n",
              "    <path d=\"M120-120v-720h720v720H120Zm60-500h600v-160H180v160Zm220 220h160v-160H400v160Zm0 220h160v-160H400v160ZM180-400h160v-160H180v160Zm440 0h160v-160H620v160ZM180-180h160v-160H180v160Zm440 0h160v-160H620v160Z\"/>\n",
              "  </svg>\n",
              "    </button>\n",
              "\n",
              "  <style>\n",
              "    .colab-df-container {\n",
              "      display:flex;\n",
              "      gap: 12px;\n",
              "    }\n",
              "\n",
              "    .colab-df-convert {\n",
              "      background-color: #E8F0FE;\n",
              "      border: none;\n",
              "      border-radius: 50%;\n",
              "      cursor: pointer;\n",
              "      display: none;\n",
              "      fill: #1967D2;\n",
              "      height: 32px;\n",
              "      padding: 0 0 0 0;\n",
              "      width: 32px;\n",
              "    }\n",
              "\n",
              "    .colab-df-convert:hover {\n",
              "      background-color: #E2EBFA;\n",
              "      box-shadow: 0px 1px 2px rgba(60, 64, 67, 0.3), 0px 1px 3px 1px rgba(60, 64, 67, 0.15);\n",
              "      fill: #174EA6;\n",
              "    }\n",
              "\n",
              "    .colab-df-buttons div {\n",
              "      margin-bottom: 4px;\n",
              "    }\n",
              "\n",
              "    [theme=dark] .colab-df-convert {\n",
              "      background-color: #3B4455;\n",
              "      fill: #D2E3FC;\n",
              "    }\n",
              "\n",
              "    [theme=dark] .colab-df-convert:hover {\n",
              "      background-color: #434B5C;\n",
              "      box-shadow: 0px 1px 3px 1px rgba(0, 0, 0, 0.15);\n",
              "      filter: drop-shadow(0px 1px 2px rgba(0, 0, 0, 0.3));\n",
              "      fill: #FFFFFF;\n",
              "    }\n",
              "  </style>\n",
              "\n",
              "    <script>\n",
              "      const buttonEl =\n",
              "        document.querySelector('#df-6933852a-69e7-4cab-9ae0-bdd2643fb814 button.colab-df-convert');\n",
              "      buttonEl.style.display =\n",
              "        google.colab.kernel.accessAllowed ? 'block' : 'none';\n",
              "\n",
              "      async function convertToInteractive(key) {\n",
              "        const element = document.querySelector('#df-6933852a-69e7-4cab-9ae0-bdd2643fb814');\n",
              "        const dataTable =\n",
              "          await google.colab.kernel.invokeFunction('convertToInteractive',\n",
              "                                                    [key], {});\n",
              "        if (!dataTable) return;\n",
              "\n",
              "        const docLinkHtml = 'Like what you see? Visit the ' +\n",
              "          '<a target=\"_blank\" href=https://colab.research.google.com/notebooks/data_table.ipynb>data table notebook</a>'\n",
              "          + ' to learn more about interactive tables.';\n",
              "        element.innerHTML = '';\n",
              "        dataTable['output_type'] = 'display_data';\n",
              "        await google.colab.output.renderOutput(dataTable, element);\n",
              "        const docLink = document.createElement('div');\n",
              "        docLink.innerHTML = docLinkHtml;\n",
              "        element.appendChild(docLink);\n",
              "      }\n",
              "    </script>\n",
              "  </div>\n",
              "\n",
              "\n",
              "    </div>\n",
              "  </div>\n"
            ],
            "application/vnd.google.colaboratory.intrinsic+json": {
              "type": "dataframe",
              "summary": "{\n  \"name\": \"# tv_shows_high_rating\",\n  \"rows\": 0,\n  \"fields\": [\n    {\n      \"column\": \"Show names\",\n      \"properties\": {\n        \"dtype\": \"number\",\n        \"std\": null,\n        \"min\": null,\n        \"max\": null,\n        \"num_unique_values\": 0,\n        \"samples\": [],\n        \"semantic_type\": \"\",\n        \"description\": \"\"\n      }\n    },\n    {\n      \"column\": \"Release year\",\n      \"properties\": {\n        \"dtype\": \"number\",\n        \"std\": null,\n        \"min\": null,\n        \"max\": null,\n        \"num_unique_values\": 0,\n        \"samples\": [],\n        \"semantic_type\": \"\",\n        \"description\": \"\"\n      }\n    },\n    {\n      \"column\": \"Genere\",\n      \"properties\": {\n        \"dtype\": \"number\",\n        \"std\": null,\n        \"min\": null,\n        \"max\": null,\n        \"num_unique_values\": 0,\n        \"samples\": [],\n        \"semantic_type\": \"\",\n        \"description\": \"\"\n      }\n    },\n    {\n      \"column\": \"url\",\n      \"properties\": {\n        \"dtype\": \"number\",\n        \"std\": null,\n        \"min\": null,\n        \"max\": null,\n        \"num_unique_values\": 0,\n        \"samples\": [],\n        \"semantic_type\": \"\",\n        \"description\": \"\"\n      }\n    },\n    {\n      \"column\": \"Imdb Ratings\",\n      \"properties\": {\n        \"dtype\": \"number\",\n        \"std\": null,\n        \"min\": null,\n        \"max\": null,\n        \"num_unique_values\": 0,\n        \"samples\": [],\n        \"semantic_type\": \"\",\n        \"description\": \"\"\n      }\n    },\n    {\n      \"column\": \"streaming service\",\n      \"properties\": {\n        \"dtype\": \"number\",\n        \"std\": null,\n        \"min\": null,\n        \"max\": null,\n        \"num_unique_values\": 0,\n        \"samples\": [],\n        \"semantic_type\": \"\",\n        \"description\": \"\"\n      }\n    }\n  ]\n}"
            }
          },
          "metadata": {},
          "execution_count": 71
        }
      ],
      "source": [
        "df1['Movie IMDb Ratings'] = pd.to_numeric(df1['Movie IMDb Ratings'], errors='coerce')\n",
        "df2['Imdb Ratings'] = pd.to_numeric(df2['Imdb Ratings'], errors='coerce')\n",
        "\n",
        "# Filter movies with IMDb rating 7 or higher\n",
        "movies_high_rating = df1[df1['Movie IMDb Ratings'] >= 7]\n",
        "\n",
        "\n",
        "# Filter TV shows with IMDb rating 7 or higher\n",
        "tv_shows_high_rating = df2[df2['Imdb Ratings'] >= 7]\n",
        "movies_high_rating.head()\n",
        "tv_shows_high_rating.head()\n",
        "# # Save the filtered data into new DataFrames\n",
        "# movies_high_rating.to_csv('movies_high_rating.csv', index=False)\n",
        "# tv_shows_high_rating.to_csv('tv_shows_high_rating.csv', index=False)"
      ]
    },
    {
      "cell_type": "markdown",
      "metadata": {
        "id": "N_OroblUQG4r"
      },
      "source": [
        "## **Analyzing Top Genres**"
      ]
    },
    {
      "cell_type": "code",
      "execution_count": 72,
      "metadata": {
        "id": "ezQkEDK0J-FM",
        "colab": {
          "base_uri": "https://localhost:8080/"
        },
        "outputId": "e5622443-64a9-4c9b-f45b-e59f503c49dd"
      },
      "outputs": [
        {
          "output_type": "stream",
          "name": "stdout",
          "text": [
            "Top 5 Genres:\n",
            "Action 3\n",
            "Comedy 3\n",
            "Drama 3\n",
            "Thriller 1\n",
            "Horror 1\n"
          ]
        }
      ],
      "source": [
        "from collections import Counter\n",
        "\n",
        "# Sample list of genres\n",
        "genres = ['Action', 'Comedy', 'Action', 'Drama', 'Comedy', 'Thriller', 'Action', 'Horror', 'Comedy', 'Drama', 'Drama']\n",
        "\n",
        "# Count occurrences of each genre\n",
        "genre_counts = Counter(genres)\n",
        "\n",
        "# Sort genres based on counts\n",
        "sorted_genres = sorted(genre_counts.items(), key=lambda x: x[1], reverse=True)\n",
        "\n",
        "# Select the top 5 genres\n",
        "top_5_genres = sorted_genres[:5]\n",
        "\n",
        "print(\"Top 5 Genres:\")\n",
        "for genre, count in top_5_genres:\n",
        "    print(genre, count)\n"
      ]
    },
    {
      "cell_type": "code",
      "execution_count": 73,
      "metadata": {
        "id": "4ljPnIn2LJLZ",
        "colab": {
          "base_uri": "https://localhost:8080/"
        },
        "outputId": "0fc44739-8bc5-400f-dadc-e1f40747fb1f"
      },
      "outputs": [
        {
          "output_type": "stream",
          "name": "stdout",
          "text": [
            "Top 5 genres with the highest number of available movies and TV shows:\n",
            "Genre\n",
            "    80\n",
            "Name: count, dtype: int64\n"
          ]
        }
      ],
      "source": [
        "# Write Your Code here\n",
        "df1['Genre'] = df1['Movie Genres']\n",
        "df2['Genre'] = df2['Genere']\n",
        "combined_data = pd.concat([df1[['Genre']],\n",
        "                          df2[['Genre']]])\n",
        "\n",
        "# Group the data by the 'Genre' column and count the occurrences of each genre\n",
        "genre_counts = combined_data['Genre'].value_counts()\n",
        "\n",
        "# Sort the genres in descending order based on their counts\n",
        "sorted_genres = genre_counts.sort_values(ascending=False)\n",
        "\n",
        "# Select the top 5 genres\n",
        "top_5_genres = sorted_genres.head(5)\n",
        "\n",
        "print(\"Top 5 genres with the highest number of available movies and TV shows:\")\n",
        "print(top_5_genres)"
      ]
    },
    {
      "cell_type": "code",
      "execution_count": 74,
      "metadata": {
        "id": "EBepUBptLyM7",
        "colab": {
          "base_uri": "https://localhost:8080/",
          "height": 607
        },
        "outputId": "4853aca2-a45e-4c27-935e-e0b0798a8b8e"
      },
      "outputs": [
        {
          "output_type": "display_data",
          "data": {
            "text/plain": [
              "<Figure size 1000x600 with 1 Axes>"
            ],
            "image/png": "[encoded data removed]"
          },
          "metadata": {}
        }
      ],
      "source": [
        "import matplotlib.pyplot as plt\n",
        "\n",
        "# Plot the top 5 genres\n",
        "plt.figure(figsize=(10, 6))\n",
        "top_5_genres.plot(kind='bar', color='skyblue')\n",
        "plt.xlabel('Genre')\n",
        "plt.ylabel('Count')\n",
        "plt.title('Top 5 Genres with the Highest Number of Movies and TV Shows')\n",
        "plt.xticks(rotation=45)\n",
        "plt.tight_layout()\n",
        "plt.show()"
      ]
    },
    {
      "cell_type": "code",
      "execution_count": 75,
      "metadata": {
        "id": "7Nqu7MEEYa3c",
        "colab": {
          "base_uri": "https://localhost:8080/",
          "height": 446
        },
        "outputId": "a5c1c6aa-deda-4469-e658-75912d7772f1"
      },
      "outputs": [
        {
          "output_type": "display_data",
          "data": {
            "text/plain": [
              "<Figure size 1000x600 with 1 Axes>"
            ],
            "image/png": "[encoded data removed]"
          },
          "metadata": {}
        }
      ],
      "source": [
        "#Let's Visvalize it using word cloud\n",
        "from wordcloud import WordCloud\n",
        "import matplotlib.pyplot as plt\n",
        "\n",
        "# Generate word cloud\n",
        "wordcloud = WordCloud(width=800, height=400, background_color='white').generate_from_frequencies(top_5_genres)\n",
        "\n",
        "# Plot the word cloud\n",
        "plt.figure(figsize=(10, 6))\n",
        "plt.imshow(wordcloud, interpolation='bilinear')\n",
        "plt.axis('off')\n",
        "plt.title('Top 5 Genres with the Highest Number of Movies and TV Shows')\n",
        "plt.show()\n"
      ]
    },
    {
      "cell_type": "markdown",
      "metadata": {
        "id": "BUPye0P0QP5I"
      },
      "source": [
        "## **Finding Predominant Streaming Service**"
      ]
    },
    {
      "cell_type": "code",
      "execution_count": 77,
      "metadata": {
        "id": "cLXiCZSAO_40",
        "colab": {
          "base_uri": "https://localhost:8080/"
        },
        "outputId": "25ad2fc1-7349-4973-e0ca-94e4f6824689"
      },
      "outputs": [
        {
          "output_type": "stream",
          "name": "stdout",
          "text": [
            "Streaming services with the number of offerings:\n",
            "    Streaming Service  Number of Offerings\n",
            "0  Provider not found                   57\n",
            "1  Amazon Prime Video                    6\n",
            "2            Apple TV                    6\n",
            "3             Netflix                    5\n",
            "4          Bookmyshow                    3\n",
            "5      Lionsgate Play                    1\n",
            "6                Zee5                    1\n",
            "7             Hotstar                    1\n"
          ]
        }
      ],
      "source": [
        "# Write Your Code here\n",
        "df1['Streaming Service'] = df1['Movie Streaming Service']\n",
        "df2['Streaming Service'] =df2['streaming service']\n",
        "combined_data = pd.concat([df1[['Streaming Service']],\n",
        "                          df2[['Streaming Service']]])\n",
        "\n",
        "# Group the data by the 'Streaming Service' column and count the occurrences of each streaming service\n",
        "service_counts = combined_data['Streaming Service'].value_counts()\n",
        "\n",
        "# Find the streaming service with the most number of offerings\n",
        "# most_offering_service = service_counts.idxmax()\n",
        "# count_of_most_offering_service = service_counts.max()\n",
        "service_counts = combined_data['Streaming Service'].value_counts()\n",
        "\n",
        "# print(\"Streaming service with the most number of offerings:\")\n",
        "# print(f\"{most_offering_service} - {count_of_most_offering_service} offerings\")\n",
        "# Convert the series to a DataFrame\n",
        "service_counts_df = service_counts.reset_index()\n",
        "service_counts_df.columns = ['Streaming Service', 'Number of Offerings']\n",
        "\n",
        "print(\"Streaming services with the number of offerings:\")\n",
        "print(service_counts_df)"
      ]
    },
    {
      "cell_type": "code",
      "execution_count": 78,
      "metadata": {
        "id": "NTcvk1TvMpUS",
        "colab": {
          "base_uri": "https://localhost:8080/",
          "height": 607
        },
        "outputId": "26f92e9e-7f00-401e-9520-36d04cfe29a0"
      },
      "outputs": [
        {
          "output_type": "display_data",
          "data": {
            "text/plain": [
              "<Figure size 1000x600 with 1 Axes>"
            ],
            "image/png": "[encoded data removed]"
          },
          "metadata": {}
        }
      ],
      "source": [
        "import matplotlib.pyplot as plt\n",
        "\n",
        "# Plot the streaming services with the number of offerings\n",
        "plt.figure(figsize=(10, 6))\n",
        "plt.bar(service_counts_df['Streaming Service'], service_counts_df['Number of Offerings'], color='red')\n",
        "plt.xlabel('Streaming Service')\n",
        "plt.ylabel('Number of Offerings')\n",
        "plt.title('Number of Offerings by Streaming Service')\n",
        "plt.xticks(rotation=45)\n",
        "plt.tight_layout()\n",
        "plt.show()\n"
      ]
    },
    {
      "cell_type": "code",
      "execution_count": 79,
      "metadata": {
        "id": "e0xdIO8APJYm",
        "colab": {
          "base_uri": "https://localhost:8080/",
          "height": 446
        },
        "outputId": "866243b2-2756-4127-9cf8-3ce258d34522"
      },
      "outputs": [
        {
          "output_type": "display_data",
          "data": {
            "text/plain": [
              "<Figure size 1000x600 with 1 Axes>"
            ],
            "image/png": "[encoded data removed]"
          },
          "metadata": {}
        }
      ],
      "source": [
        "#Let's Visvalize it using word cloud\n",
        "from wordcloud import WordCloud\n",
        "import matplotlib.pyplot as plt\n",
        "\n",
        "# Convert the DataFrame to a dictionary\n",
        "service_counts_dict = dict(zip(service_counts_df['Streaming Service'], service_counts_df['Number of Offerings']))\n",
        "\n",
        "# Generate word cloud\n",
        "wordcloud = WordCloud(width=800, height=400, background_color='white').generate_from_frequencies(service_counts_dict)\n",
        "\n",
        "# Plot the word cloud\n",
        "plt.figure(figsize=(10, 6))\n",
        "plt.imshow(wordcloud, interpolation='bilinear')\n",
        "plt.axis('off')\n",
        "plt.title('Streaming Services with Number of Offerings')\n",
        "plt.show()\n"
      ]
    },
    {
      "cell_type": "markdown",
      "metadata": {
        "id": "tytqsADVR2x6"
      },
      "source": [
        "## **Task 3 :- Data Export**"
      ]
    },
    {
      "cell_type": "code",
      "execution_count": 80,
      "metadata": {
        "id": "u4yaUlvrRj6g"
      },
      "outputs": [],
      "source": [
        "#saving final dataframe as Final Data in csv format\n",
        "#saving a scrapped movie data to csv file\n",
        "Movies_data.to_csv(\"Movies_Data.csv\", index=False)\n",
        "\n",
        "#saving a scrapped Tv data to csv file\n",
        "Tv_data.to_csv(\"Tv_Show_Data.csv\", index=False)"
      ]
    },
    {
      "cell_type": "code",
      "execution_count": 81,
      "metadata": {
        "id": "SSmCEV22SSW_"
      },
      "outputs": [],
      "source": [
        "#saving filter data as Filter Data in csv format\n",
        "#saving a filtered movies data to csv file\n",
        "movie_data_filtered.to_csv(\"Movies_filtered_data.csv\", index=False)\n",
        "\n",
        "#saving a filtered Tv data to csv file\n",
        "Tv_data_filtered.to_csv(\"Tv_filttered_data.csv\", index=False)"
      ]
    },
    {
      "cell_type": "markdown",
      "source": [
        "Dataset Drive Link"
      ],
      "metadata": {
        "id": "Zpctk5gdDeim"
      }
    },
    {
      "cell_type": "markdown",
      "metadata": {
        "id": "j6F3wrlGWOcl"
      },
      "source": [
        "https://drive.google.com/file/d/1c3Hjxf6ZBIznQqwa6rNLWTDwOaHTCYwd/view?usp=sharing, https://drive.google.com/file/d/1ifTUoZYDqzsqaIJbSuBi2BKrkfOFuVUE/view?usp=sharing, https://drive.google.com/file/d/1nXtswktKUbh5XNtjSoetpqyCEgFho4f0/view?usp=sharing, https://drive.google.com/file/d/1pgsiKuFwHHAr_hb5LCY5vlI7FnNB65EA/view?usp=sharing"
      ]
    },
    {
      "cell_type": "markdown",
      "metadata": {
        "id": "9s-10dFhWZf4"
      },
      "source": [
        "# ***Congratulations!!! You have completed your Assignment.***"
      ]
    }
  ],
  "metadata": {
    "colab": {
      "provenance": [],
      "include_colab_link": true
    },
    "kernelspec": {
      "display_name": "Python 3",
      "name": "python3"
    },
    "language_info": {
      "name": "python"
    }
  },
  "nbformat": 4,
  "nbformat_minor": 0
}